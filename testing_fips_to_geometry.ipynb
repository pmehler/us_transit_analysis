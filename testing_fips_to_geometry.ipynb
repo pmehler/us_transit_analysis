{
 "cells": [
  {
   "cell_type": "markdown",
   "metadata": {},
   "source": [
    "# Plot census data using geopandas"
   ]
  },
  {
   "cell_type": "code",
   "execution_count": 10,
   "metadata": {},
   "outputs": [],
   "source": [
    "%matplotlib inline\n",
    "\n",
    "import geopandas as gpd\n",
    "import pandas as pd"
   ]
  },
  {
   "cell_type": "code",
   "execution_count": 5,
   "metadata": {},
   "outputs": [],
   "source": [
    "zip_f = \"zip:////Users/petermehler/Desktop/ITU/Courses/GeoSpatial/final_project/nyc/tl_2020_36_tract.zip\""
   ]
  },
  {
   "cell_type": "code",
   "execution_count": 6,
   "metadata": {},
   "outputs": [],
   "source": [
    "census_geo = gpd.read_file(zip_f)"
   ]
  },
  {
   "cell_type": "code",
   "execution_count": 37,
   "metadata": {},
   "outputs": [
    {
     "data": {
      "text/html": [
       "<div>\n",
       "<style scoped>\n",
       "    .dataframe tbody tr th:only-of-type {\n",
       "        vertical-align: middle;\n",
       "    }\n",
       "\n",
       "    .dataframe tbody tr th {\n",
       "        vertical-align: top;\n",
       "    }\n",
       "\n",
       "    .dataframe thead th {\n",
       "        text-align: right;\n",
       "    }\n",
       "</style>\n",
       "<table border=\"1\" class=\"dataframe\">\n",
       "  <thead>\n",
       "    <tr style=\"text-align: right;\">\n",
       "      <th></th>\n",
       "      <th>STATEFP</th>\n",
       "      <th>COUNTYFP</th>\n",
       "      <th>TRACTCE</th>\n",
       "      <th>GEOID</th>\n",
       "      <th>NAME</th>\n",
       "      <th>NAMELSAD</th>\n",
       "      <th>MTFCC</th>\n",
       "      <th>FUNCSTAT</th>\n",
       "      <th>ALAND</th>\n",
       "      <th>AWATER</th>\n",
       "      <th>INTPTLAT</th>\n",
       "      <th>INTPTLON</th>\n",
       "      <th>geometry</th>\n",
       "    </tr>\n",
       "  </thead>\n",
       "  <tbody>\n",
       "    <tr>\n",
       "      <th>0</th>\n",
       "      <td>36</td>\n",
       "      <td>047</td>\n",
       "      <td>000700</td>\n",
       "      <td>36047000700</td>\n",
       "      <td>7</td>\n",
       "      <td>Census Tract 7</td>\n",
       "      <td>G5020</td>\n",
       "      <td>S</td>\n",
       "      <td>176774</td>\n",
       "      <td>0</td>\n",
       "      <td>+40.6923505</td>\n",
       "      <td>-073.9973434</td>\n",
       "      <td>POLYGON ((-74.00154 40.69279, -74.00132 40.693...</td>\n",
       "    </tr>\n",
       "    <tr>\n",
       "      <th>1</th>\n",
       "      <td>36</td>\n",
       "      <td>047</td>\n",
       "      <td>000900</td>\n",
       "      <td>36047000900</td>\n",
       "      <td>9</td>\n",
       "      <td>Census Tract 9</td>\n",
       "      <td>G5020</td>\n",
       "      <td>S</td>\n",
       "      <td>163469</td>\n",
       "      <td>0</td>\n",
       "      <td>+40.6917206</td>\n",
       "      <td>-073.9916018</td>\n",
       "      <td>POLYGON ((-73.99405 40.69090, -73.99374 40.691...</td>\n",
       "    </tr>\n",
       "    <tr>\n",
       "      <th>2</th>\n",
       "      <td>36</td>\n",
       "      <td>047</td>\n",
       "      <td>001100</td>\n",
       "      <td>36047001100</td>\n",
       "      <td>11</td>\n",
       "      <td>Census Tract 11</td>\n",
       "      <td>G5020</td>\n",
       "      <td>S</td>\n",
       "      <td>168507</td>\n",
       "      <td>0</td>\n",
       "      <td>+40.6932903</td>\n",
       "      <td>-073.9877087</td>\n",
       "      <td>POLYGON ((-73.99073 40.69305, -73.99045 40.693...</td>\n",
       "    </tr>\n",
       "  </tbody>\n",
       "</table>\n",
       "</div>"
      ],
      "text/plain": [
       "  STATEFP COUNTYFP TRACTCE        GEOID NAME         NAMELSAD  MTFCC FUNCSTAT  \\\n",
       "0      36      047  000700  36047000700    7   Census Tract 7  G5020        S   \n",
       "1      36      047  000900  36047000900    9   Census Tract 9  G5020        S   \n",
       "2      36      047  001100  36047001100   11  Census Tract 11  G5020        S   \n",
       "\n",
       "    ALAND  AWATER     INTPTLAT      INTPTLON  \\\n",
       "0  176774       0  +40.6923505  -073.9973434   \n",
       "1  163469       0  +40.6917206  -073.9916018   \n",
       "2  168507       0  +40.6932903  -073.9877087   \n",
       "\n",
       "                                            geometry  \n",
       "0  POLYGON ((-74.00154 40.69279, -74.00132 40.693...  \n",
       "1  POLYGON ((-73.99405 40.69090, -73.99374 40.691...  \n",
       "2  POLYGON ((-73.99073 40.69305, -73.99045 40.693...  "
      ]
     },
     "execution_count": 37,
     "metadata": {},
     "output_type": "execute_result"
    }
   ],
   "source": [
    "census_geo.head(3)"
   ]
  },
  {
   "cell_type": "code",
   "execution_count": 12,
   "metadata": {},
   "outputs": [],
   "source": [
    "commute = pd.read_csv('nyc/ny_commute_census_tract.csv')\n",
    "commute = commute.drop(0,axis=0)"
   ]
  },
  {
   "cell_type": "code",
   "execution_count": 31,
   "metadata": {},
   "outputs": [],
   "source": [
    "commute = commute.rename(columns={\"FIPS\": \"GEOID\"})"
   ]
  },
  {
   "cell_type": "code",
   "execution_count": 34,
   "metadata": {},
   "outputs": [],
   "source": [
    "combined = census_geo.merge(commute, on='GEOID')"
   ]
  },
  {
   "cell_type": "code",
   "execution_count": 38,
   "metadata": {},
   "outputs": [
    {
     "data": {
      "text/html": [
       "<div>\n",
       "<style scoped>\n",
       "    .dataframe tbody tr th:only-of-type {\n",
       "        vertical-align: middle;\n",
       "    }\n",
       "\n",
       "    .dataframe tbody tr th {\n",
       "        vertical-align: top;\n",
       "    }\n",
       "\n",
       "    .dataframe thead th {\n",
       "        text-align: right;\n",
       "    }\n",
       "</style>\n",
       "<table border=\"1\" class=\"dataframe\">\n",
       "  <thead>\n",
       "    <tr style=\"text-align: right;\">\n",
       "      <th></th>\n",
       "      <th>STATEFP</th>\n",
       "      <th>COUNTYFP</th>\n",
       "      <th>TRACTCE</th>\n",
       "      <th>GEOID</th>\n",
       "      <th>NAME</th>\n",
       "      <th>NAMELSAD</th>\n",
       "      <th>MTFCC</th>\n",
       "      <th>FUNCSTAT</th>\n",
       "      <th>ALAND</th>\n",
       "      <th>AWATER</th>\n",
       "      <th>...</th>\n",
       "      <th>Workers 16 Years and Over: Did Not Work At Home</th>\n",
       "      <th>Workers 16 Years and Over: Did Not Work At Home: Less than 10 Minutes</th>\n",
       "      <th>Workers 16 Years and Over: Did Not Work At Home: 10 to 19 Minutes</th>\n",
       "      <th>Workers 16 Years and Over: Did Not Work At Home: 20 to 29 Minutes</th>\n",
       "      <th>Workers 16 Years and Over: Did Not Work At Home: 30 to 39 Minutes</th>\n",
       "      <th>Workers 16 Years and Over: Did Not Work At Home: 40 to 59 Minutes</th>\n",
       "      <th>Workers 16 Years and Over: Did Not Work At Home: 60 to 89 Minutes</th>\n",
       "      <th>Workers 16 Years and Over: Did Not Work At Home: 90 or More Minutes</th>\n",
       "      <th>Workers 16 Years and Over: Worked At Home.1</th>\n",
       "      <th>Average Commute to Work (In Min)</th>\n",
       "    </tr>\n",
       "  </thead>\n",
       "  <tbody>\n",
       "    <tr>\n",
       "      <th>0</th>\n",
       "      <td>36</td>\n",
       "      <td>047</td>\n",
       "      <td>000700</td>\n",
       "      <td>36047000700</td>\n",
       "      <td>7</td>\n",
       "      <td>Census Tract 7</td>\n",
       "      <td>G5020</td>\n",
       "      <td>S</td>\n",
       "      <td>176774</td>\n",
       "      <td>0</td>\n",
       "      <td>...</td>\n",
       "      <td>1884</td>\n",
       "      <td>132</td>\n",
       "      <td>165</td>\n",
       "      <td>316</td>\n",
       "      <td>632</td>\n",
       "      <td>481</td>\n",
       "      <td>39</td>\n",
       "      <td>119</td>\n",
       "      <td>303</td>\n",
       "      <td>36</td>\n",
       "    </tr>\n",
       "    <tr>\n",
       "      <th>1</th>\n",
       "      <td>36</td>\n",
       "      <td>047</td>\n",
       "      <td>000900</td>\n",
       "      <td>36047000900</td>\n",
       "      <td>9</td>\n",
       "      <td>Census Tract 9</td>\n",
       "      <td>G5020</td>\n",
       "      <td>S</td>\n",
       "      <td>163469</td>\n",
       "      <td>0</td>\n",
       "      <td>...</td>\n",
       "      <td>2627</td>\n",
       "      <td>181</td>\n",
       "      <td>565</td>\n",
       "      <td>494</td>\n",
       "      <td>751</td>\n",
       "      <td>545</td>\n",
       "      <td>25</td>\n",
       "      <td>66</td>\n",
       "      <td>613</td>\n",
       "      <td>29</td>\n",
       "    </tr>\n",
       "    <tr>\n",
       "      <th>2</th>\n",
       "      <td>36</td>\n",
       "      <td>047</td>\n",
       "      <td>001100</td>\n",
       "      <td>36047001100</td>\n",
       "      <td>11</td>\n",
       "      <td>Census Tract 11</td>\n",
       "      <td>G5020</td>\n",
       "      <td>S</td>\n",
       "      <td>168507</td>\n",
       "      <td>0</td>\n",
       "      <td>...</td>\n",
       "      <td>1039</td>\n",
       "      <td>30</td>\n",
       "      <td>222</td>\n",
       "      <td>191</td>\n",
       "      <td>297</td>\n",
       "      <td>196</td>\n",
       "      <td>47</td>\n",
       "      <td>56</td>\n",
       "      <td>151</td>\n",
       "      <td>32</td>\n",
       "    </tr>\n",
       "  </tbody>\n",
       "</table>\n",
       "<p>3 rows × 88 columns</p>\n",
       "</div>"
      ],
      "text/plain": [
       "  STATEFP COUNTYFP TRACTCE        GEOID NAME         NAMELSAD  MTFCC FUNCSTAT  \\\n",
       "0      36      047  000700  36047000700    7   Census Tract 7  G5020        S   \n",
       "1      36      047  000900  36047000900    9   Census Tract 9  G5020        S   \n",
       "2      36      047  001100  36047001100   11  Census Tract 11  G5020        S   \n",
       "\n",
       "    ALAND  AWATER  ... Workers 16 Years and Over: Did Not Work At Home  \\\n",
       "0  176774       0  ...                                            1884   \n",
       "1  163469       0  ...                                            2627   \n",
       "2  168507       0  ...                                            1039   \n",
       "\n",
       "  Workers 16 Years and Over: Did Not Work At Home: Less than 10 Minutes  \\\n",
       "0                                                132                      \n",
       "1                                                181                      \n",
       "2                                                 30                      \n",
       "\n",
       "  Workers 16 Years and Over: Did Not Work At Home: 10 to 19 Minutes  \\\n",
       "0                                                165                  \n",
       "1                                                565                  \n",
       "2                                                222                  \n",
       "\n",
       "  Workers 16 Years and Over: Did Not Work At Home: 20 to 29 Minutes  \\\n",
       "0                                                316                  \n",
       "1                                                494                  \n",
       "2                                                191                  \n",
       "\n",
       "  Workers 16 Years and Over: Did Not Work At Home: 30 to 39 Minutes  \\\n",
       "0                                                632                  \n",
       "1                                                751                  \n",
       "2                                                297                  \n",
       "\n",
       "  Workers 16 Years and Over: Did Not Work At Home: 40 to 59 Minutes  \\\n",
       "0                                                481                  \n",
       "1                                                545                  \n",
       "2                                                196                  \n",
       "\n",
       "  Workers 16 Years and Over: Did Not Work At Home: 60 to 89 Minutes  \\\n",
       "0                                                 39                  \n",
       "1                                                 25                  \n",
       "2                                                 47                  \n",
       "\n",
       "  Workers 16 Years and Over: Did Not Work At Home: 90 or More Minutes  \\\n",
       "0                                                119                    \n",
       "1                                                 66                    \n",
       "2                                                 56                    \n",
       "\n",
       "  Workers 16 Years and Over: Worked At Home.1 Average Commute to Work (In Min)  \n",
       "0                                         303                               36  \n",
       "1                                         613                               29  \n",
       "2                                         151                               32  \n",
       "\n",
       "[3 rows x 88 columns]"
      ]
     },
     "execution_count": 38,
     "metadata": {},
     "output_type": "execute_result"
    }
   ],
   "source": [
    "combined.head(3)"
   ]
  },
  {
   "cell_type": "code",
   "execution_count": 39,
   "metadata": {},
   "outputs": [
    {
     "data": {
      "text/plain": [
       "<AxesSubplot:>"
      ]
     },
     "execution_count": 39,
     "metadata": {},
     "output_type": "execute_result"
    },
    {
     "data": {
      "image/png": "[encoded data removed]",
      "text/plain": [
       "<Figure size 432x288 with 1 Axes>"
      ]
     },
     "metadata": {
      "needs_background": "light"
     },
     "output_type": "display_data"
    }
   ],
   "source": [
    "combined.plot(column = 'Average Commute to Work (In Min)')"
   ]
  },
  {
   "cell_type": "code",
   "execution_count": null,
   "metadata": {},
   "outputs": [],
   "source": []
  }
 ],
 "metadata": {
  "kernelspec": {
   "display_name": "Python 3 (ipykernel)",
   "language": "python",
   "name": "python3"
  },
  "language_info": {
   "codemirror_mode": {
    "name": "ipython",
    "version": 3
   },
   "file_extension": ".py",
   "mimetype": "text/x-python",
   "name": "python",
   "nbconvert_exporter": "python",
   "pygments_lexer": "ipython3",
   "version": "3.9.7"
  }
 },
 "nbformat": 4,
 "nbformat_minor": 4
}
