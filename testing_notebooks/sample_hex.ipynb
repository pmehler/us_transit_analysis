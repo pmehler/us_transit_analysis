{
 "cells": [
  {
   "cell_type": "markdown",
   "metadata": {},
   "source": [
    "<h1> Uber H3 API examples on Urban Analytics in the city of Toulouse (France)</h1>\n",
    "\n",
    "<br/><br/>\n",
    "<font size=\"3\"><b> Author: Camelia Ciolac </b></font><br/>\n",
    "ciolac_c@inria-alumni.fr"
   ]
  },
  {
   "cell_type": "markdown",
   "metadata": {},
   "source": [
    "<font size=3>\n",
    "\n",
    "This notebook presents several spatial analytics using the H3 geospatial index, using open data from the city of Toulouse.  <br/>\n",
    "Highlights:\n",
    "\n",
    "* Spatial search (K nearest neighbors) and spatial join (point in polygon)\n",
    "* Aggregates accompanied by 3D visualizations\n",
    "* Tensorflow classifier of spatial point patterns using hexagonal convolutions\n",
    "\n",
    "Sections:\n",
    " \n",
    "<ol style=\"list-style-type: upper-roman;\">\n",
    "<li>Preliminaries  </li>\n",
    "<li>Use H3 indexing for spatial operations  </li>\n",
    "<li>Use H3 spatial index for aggregated analytics </li>\n",
    "<li>Global Spatial Autocorrelation</li>\n",
    "    IV.4. Spatial Autocorrelation Prediction with Tensorflow\n",
    "<li>3D visualizations in JavaScript with deck.gl</li>\n",
    "</ol>     \n",
    "    \n",
    "<br/>\n",
    "Relevant references about H3:   <br/> \n",
    "<a href=\"https://h3geo.org/docs\">https://h3geo.org/docs</a> <br/>\n",
    "<a href=\"https://eng.uber.com/h3/\"> https://eng.uber.com/h3/ </a><br/>    \n",
    "<a href=\"https://portal.opengeospatial.org/files/?artifact_id=90338\">https://portal.opengeospatial.org/files/?artifact_id=90338</a>\n",
    "</font>"
   ]
  },
  {
   "cell_type": "code",
   "execution_count": 1,
   "metadata": {},
   "outputs": [
    {
     "name": "stdout",
     "output_type": "stream",
     "text": [
      "Name: h3\r\n",
      "Version: 3.6.4\r\n",
      "Summary: Hierarchical hexagonal geospatial indexing system\r\n",
      "Home-page: https://github.com/uber/h3-py\r\n",
      "Author: Uber Technologies\r\n",
      "Author-email: AJ Friend <ajfriend@gmail.com>\r\n",
      "License: Apache 2.0 License\r\n",
      "Location: /home/camelia/github_repos/myh3/projenv_demo_h3/lib/python3.6/site-packages\r\n",
      "Requires: \r\n",
      "Required-by: \r\n"
     ]
    }
   ],
   "source": [
    "!pip install --disable-pip-version-check --quiet h3==3.6.4\n",
    "!pip show h3"
   ]
  },
  {
   "cell_type": "code",
   "execution_count": 2,
   "metadata": {},
   "outputs": [],
   "source": [
    "from IPython.core.display import display, HTML\n",
    "from IPython.display import Image, display\n",
    "from IPython.utils.text import columnize\n",
    "#display(HTML(\"<style>.container { width:100% !important; }</style>\"))"
   ]
  },
  {
   "cell_type": "code",
   "execution_count": 3,
   "metadata": {},
   "outputs": [
    {
     "name": "stdout",
     "output_type": "stream",
     "text": [
      "H3CellError                                        get_pentagon_indexes             polyfill        \n",
      "H3DistanceError                                    get_res0_indexes                 polyfill_geojson\n",
      "H3EdgeError                                        h3                               polyfill_polygon\n",
      "H3ResolutionError                                  h3_distance                      string_to_h3    \n",
      "H3ValueError                                       h3_get_base_cell                 uncompact       \n",
      "__builtins__                                       h3_get_faces                     versions        \n",
      "__cached__                                         h3_get_resolution              \n",
      "__doc__                                            h3_indexes_are_neighbors       \n",
      "__file__                                           h3_is_pentagon                 \n",
      "__loader__                                         h3_is_res_class_III            \n",
      "__name__                                           h3_is_res_class_iii            \n",
      "__package__                                        h3_is_valid                    \n",
      "__path__                                           h3_line                        \n",
      "__spec__                                           h3_set_to_multi_polygon        \n",
      "__version__                                        h3_to_center_child             \n",
      "_cy                                                h3_to_children                 \n",
      "_version                                           h3_to_geo                      \n",
      "api                                                h3_to_geo_boundary             \n",
      "compact                                            h3_to_parent                   \n",
      "edge_length                                        h3_to_string                   \n",
      "experimental_h3_to_local_ij                        h3_unidirectional_edge_is_valid\n",
      "experimental_local_ij_to_h3                        hex_area                       \n",
      "geo_to_h3                                          hex_range                      \n",
      "get_destination_h3_index_from_unidirectional_edge  hex_range_distances            \n",
      "get_h3_indexes_from_unidirectional_edge            hex_ranges                     \n",
      "get_h3_unidirectional_edge                         hex_ring                       \n",
      "get_h3_unidirectional_edge_boundary                k_ring                         \n",
      "get_h3_unidirectional_edges_from_hexagon           k_ring_distances               \n",
      "get_origin_h3_index_from_unidirectional_edge       num_hexagons                   \n",
      "\n"
     ]
    }
   ],
   "source": [
    "import h3\n",
    "\n",
    "print(columnize(dir(h3), displaywidth=100))"
   ]
  },
  {
   "cell_type": "markdown",
   "metadata": {},
   "source": [
    "----------------"
   ]
  },
  {
   "cell_type": "markdown",
   "metadata": {},
   "source": [
    "# Setup steps"
   ]
  },
  {
   "cell_type": "markdown",
   "metadata": {},
   "source": [
    "Virtual environment was set up as follows:"
   ]
  },
  {
   "cell_type": "markdown",
   "metadata": {},
   "source": [
    "```\n",
    "virtualenv -p /usr/bin/python3.6 ./projenv_demo_h3   \n",
    "\n",
    "source projenv_demo_h3/bin/activate  \n",
    "\n",
    "pip3 install ipython==7.2.0 jupyter==1.0.0  \n",
    "\n",
    "jupyter notebook  \n",
    "```"
   ]
  },
  {
   "cell_type": "markdown",
   "metadata": {},
   "source": [
    "For rtree (used in geopandas sjoin) the following is required  on Ubuntu:\n",
    "\n",
    "```\n",
    "sudo apt-get install libspatialindex-dev\n",
    "```"
   ]
  },
  {
   "cell_type": "code",
   "execution_count": 4,
   "metadata": {},
   "outputs": [
    {
     "data": {
      "text/plain": [
       "sys.version_info(major=3, minor=6, micro=7, releaselevel='final', serial=0)"
      ]
     },
     "execution_count": 4,
     "metadata": {},
     "output_type": "execute_result"
    }
   ],
   "source": [
    "import sys\n",
    "sys.version_info"
   ]
  },
  {
   "cell_type": "code",
   "execution_count": 5,
   "metadata": {},
   "outputs": [],
   "source": [
    "%%sh\n",
    "cat <<EOF > requirements_demo.txt\n",
    "pandas>=0.23\n",
    "statsmodels==0.11.1\n",
    "tensorflow==2.2.0\n",
    "\n",
    "h3==3.6.4\n",
    "geopandas==0.8.1\n",
    "geojson==2.4.1\n",
    "Rtree==0.9.4 \n",
    "pygeos==0.7.1 \n",
    "Shapely==1.7.0 \n",
    "libpysal==4.3.0\n",
    "esda==2.3.1\n",
    "pointpats==2.2.0 \n",
    "descartes==1.1.0\n",
    "\n",
    "annoy==1.16.3 \n",
    "\n",
    "folium==0.11.0\n",
    "seaborn==0.9.1\n",
    "pydeck==0.4.1\n",
    "\n",
    "more-itertools==8.4.0\n",
    "tqdm==4.48.0\n",
    "line-profiler==3.0.2\n",
    "flake8==3.8.3\n",
    "pycodestyle==2.6.0 \n",
    "pycodestyle_magic==0.5\n",
    "EOF"
   ]
  },
  {
   "cell_type": "code",
   "execution_count": 6,
   "metadata": {},
   "outputs": [],
   "source": [
    "%%sh\n",
    "pip3 install -U --quiet \\\n",
    "            --disable-pip-version-check \\\n",
    "            --use-feature=2020-resolver \\\n",
    "            -r requirements_demo.txt"
   ]
  },
  {
   "cell_type": "code",
   "execution_count": 7,
   "metadata": {},
   "outputs": [
    {
     "name": "stdout",
     "output_type": "stream",
     "text": [
      "annoy==1.16.3\n",
      "esda==2.3.1\n",
      "geopandas==0.8.1\n",
      "h3==3.6.4\n",
      "libpysal==4.3.0\n",
      "pandas==1.1.0\n",
      "pointpats==2.2.0\n",
      "pydeck==0.4.1\n",
      "tensorflow==2.2.0\n",
      "tensorflow-estimator==2.2.0\n"
     ]
    }
   ],
   "source": [
    "%%bash\n",
    "VAR_SEARCH='h3|pydeck|pandas|tensorflow|shapely|geopandas|esda|pointpats|libpysal|annoy'\n",
    "pip3 freeze | grep -E $VAR_SEARCH"
   ]
  },
  {
   "cell_type": "markdown",
   "metadata": {},
   "source": [
    "To enable pydeck for Jupyter:\n",
    "    \n",
    "```\n",
    "jupyter nbextension install --sys-prefix --symlink --overwrite --py pydeck\n",
    "jupyter nbextension enable --sys-prefix --py pydeck\n",
    "```\n",
    "\n",
    "\n",
    "For PlotNeuralNet:\n",
    "\n",
    "```\n",
    "sudo apt-get install texlive-latex-extra\n",
    "```"
   ]
  },
  {
   "cell_type": "code",
   "execution_count": 9,
   "metadata": {},
   "outputs": [
    {
     "name": "stdout",
     "output_type": "stream",
     "text": [
      "Cloning into 'PlotNeuralNet'...\n",
      "remote: Enumerating objects: 270, done.\u001b[K\n",
      "remote: Total 270 (delta 0), reused 0 (delta 0), pack-reused 270\u001b[K\n",
      "Receiving objects: 100% (270/270), 2.11 MiB | 1.82 MiB/s, done.\n",
      "Resolving deltas: 100% (119/119), done.\n",
      "Checking connectivity... done.\n"
     ]
    }
   ],
   "source": [
    "!git clone https://github.com/HarisIqbal88/PlotNeuralNet"
   ]
  },
  {
   "cell_type": "markdown",
   "metadata": {},
   "source": [
    "-------------------"
   ]
  },
  {
   "cell_type": "markdown",
   "metadata": {},
   "source": [
    "## Data sources for the examples:\n",
    "\n",
    "Bus stops:\n",
    "https://data.toulouse-metropole.fr/explore/dataset/arrets-de-bus0/information/\n",
    "\n",
    "City subzones:\n",
    "https://data.toulouse-metropole.fr/explore/dataset/communes/information/\n",
    "\n",
    "Residential districts:\n",
    "https://data.toulouse-metropole.fr/explore/dataset/recensement-population-2015-grands-quartiers-logement/information/\n",
    "\n",
    "\n",
    "\n",
    "<b>Note:</b>  \n",
    "We analyze only bus stops data for this example, however, the city of Toulouse has also trams and metro (underground) as part of the urban public transport network.  \n"
   ]
  },
  {
   "cell_type": "code",
   "execution_count": 10,
   "metadata": {},
   "outputs": [],
   "source": [
    "%%sh\n",
    "mkdir -p datasets_demo"
   ]
  },
  {
   "cell_type": "code",
   "execution_count": 11,
   "metadata": {},
   "outputs": [],
   "source": [
    "%%sh\n",
    "wget -O datasets_demo/busstops_Toulouse.geojson --content-disposition -q \\\n",
    "    \"https://data.toulouse-metropole.fr/explore/dataset/arrets-de-bus0/download/?format=geojson&timezone=Europe/Helsinki\""
   ]
  },
  {
   "cell_type": "code",
   "execution_count": 12,
   "metadata": {},
   "outputs": [
    {
     "name": "stdout",
     "output_type": "stream",
     "text": [
      "-rw-rw-r-- 1 camelia camelia 4,3M aug  9 07:11 datasets_demo/busstops_Toulouse.geojson\n"
     ]
    }
   ],
   "source": [
    "%%sh\n",
    "ls -alh datasets_demo/busstops_*.geojson"
   ]
  },
  {
   "cell_type": "code",
   "execution_count": 13,
   "metadata": {},
   "outputs": [],
   "source": [
    "%%sh\n",
    "wget -O datasets_demo/subzones_Toulouse.geojson --content-disposition -q \\\n",
    "    \"https://data.toulouse-metropole.fr/explore/dataset/communes/download/?format=geojson&timezone=Europe/Helsinki\""
   ]
  },
  {
   "cell_type": "code",
   "execution_count": 14,
   "metadata": {},
   "outputs": [
    {
     "name": "stdout",
     "output_type": "stream",
     "text": [
      "-rw-rw-r-- 1 camelia camelia 960K aug  9 07:11 datasets_demo/subzones_Toulouse.geojson\n"
     ]
    }
   ],
   "source": [
    "%%sh\n",
    "ls -alh datasets_demo/subzones_*.geojson"
   ]
  },
  {
   "cell_type": "code",
   "execution_count": 15,
   "metadata": {},
   "outputs": [],
   "source": [
    "%%sh\n",
    "wget -O datasets_demo/districts_Toulouse.geojson --content-disposition -q \\\n",
    "    \"https://data.toulouse-metropole.fr/explore/dataset/recensement-population-2015-grands-quartiers-logement/download/?format=geojson&timezone=Europe/Helsinki\""
   ]
  },
  {
   "cell_type": "code",
   "execution_count": 16,
   "metadata": {},
   "outputs": [
    {
     "name": "stdout",
     "output_type": "stream",
     "text": [
      "-rw-rw-r-- 1 camelia camelia 368K aug  9 07:11 datasets_demo/districts_Toulouse.geojson\n"
     ]
    }
   ],
   "source": [
    "%%sh\n",
    "ls -alh datasets_demo/districts_*.geojson"
   ]
  },
  {
   "cell_type": "markdown",
   "metadata": {},
   "source": [
    "---"
   ]
  },
  {
   "cell_type": "markdown",
   "metadata": {},
   "source": [
    "## Imports"
   ]
  },
  {
   "cell_type": "code",
   "execution_count": 17,
   "metadata": {},
   "outputs": [
    {
     "name": "stdout",
     "output_type": "stream",
     "text": [
      "2.2.0\n"
     ]
    }
   ],
   "source": [
    "import json\n",
    "import pandas as pd\n",
    "from pandas.io.json import json_normalize\n",
    "import numpy as np\n",
    "\n",
    "import statistics\n",
    "import statsmodels as sm\n",
    "import statsmodels.formula.api as sm_formula\n",
    "from scipy import stats\n",
    "\n",
    "import tensorflow as tf\n",
    "from tensorflow.keras import layers, models\n",
    "\n",
    "print(tf.__version__)"
   ]
  },
  {
   "cell_type": "code",
   "execution_count": 18,
   "metadata": {},
   "outputs": [],
   "source": [
    "import warnings\n",
    "warnings.filterwarnings('ignore')\n",
    "\n",
    "\n",
    "# don't use scientific notation\n",
    "np.set_printoptions(suppress=True) \n",
    "pd.set_option('display.float_format', lambda x: '%.5f' % x)"
   ]
  },
  {
   "cell_type": "code",
   "execution_count": 19,
   "metadata": {},
   "outputs": [],
   "source": [
    "import h3\n",
    "\n",
    "import geopandas as gpd\n",
    "\n",
    "from shapely import geometry, ops\n",
    "import libpysal as pys\n",
    "import esda\n",
    "import pointpats as pp\n",
    "\n",
    "from geojson.feature import *"
   ]
  },
  {
   "cell_type": "code",
   "execution_count": 20,
   "metadata": {},
   "outputs": [],
   "source": [
    "from annoy import AnnoyIndex\n",
    "\n",
    "import bisect\n",
    "import itertools\n",
    "from more_itertools import unique_everseen\n",
    "\n",
    "import math\n",
    "import random\n",
    "import decimal\n",
    "from collections import Counter\n",
    "\n",
    "from pprint import pprint\n",
    "import copy\n",
    "\n",
    "from tqdm import tqdm"
   ]
  },
  {
   "cell_type": "code",
   "execution_count": 21,
   "metadata": {},
   "outputs": [],
   "source": [
    "import pydeck\n",
    "\n",
    "from folium import Map, Marker, GeoJson\n",
    "from folium.plugins import MarkerCluster\n",
    "import branca.colormap as cm\n",
    "from branca.colormap import linear\n",
    "import folium\n",
    "\n",
    "import seaborn as sns\n",
    "\n",
    "import matplotlib as mpl\n",
    "import matplotlib.pyplot as plt\n",
    "from matplotlib.pyplot import imshow\n",
    "import matplotlib.gridspec as gridspec\n",
    "\n",
    "from PIL import Image as pilim\n",
    "\n",
    "%matplotlib inline"
   ]
  },
  {
   "cell_type": "code",
   "execution_count": 22,
   "metadata": {},
   "outputs": [],
   "source": [
    "import sys\n",
    "sys.path.append('./PlotNeuralNet')\n",
    "from pycore.tikzeng import *\n",
    "from pycore.blocks  import *"
   ]
  },
  {
   "cell_type": "code",
   "execution_count": 23,
   "metadata": {},
   "outputs": [],
   "source": [
    "%load_ext line_profiler\n",
    "%load_ext pycodestyle_magic"
   ]
  },
  {
   "cell_type": "markdown",
   "metadata": {},
   "source": [
    "See https://www.flake8rules.com/ for codes"
   ]
  },
  {
   "cell_type": "code",
   "execution_count": 24,
   "metadata": {},
   "outputs": [],
   "source": [
    "# %flake8_on --ignore E251,E703,W293,W291 --max_line_length 90\n",
    "# %flake8_off"
   ]
  },
  {
   "cell_type": "markdown",
   "metadata": {},
   "source": [
    "--------------------"
   ]
  },
  {
   "cell_type": "markdown",
   "metadata": {},
   "source": [
    "#  I. Preliminaries"
   ]
  },
  {
   "cell_type": "markdown",
   "metadata": {},
   "source": [
    "## I.1. Metadata of H3 cells\n",
    "\n",
    "For various H3 index resolutions, display metadata about the corresponding haxagon cells"
   ]
  },
  {
   "cell_type": "code",
   "execution_count": 25,
   "metadata": {},
   "outputs": [
    {
     "data": {
      "text/html": [
       "<div>\n",
       "<style scoped>\n",
       "    .dataframe tbody tr th:only-of-type {\n",
       "        vertical-align: middle;\n",
       "    }\n",
       "\n",
       "    .dataframe tbody tr th {\n",
       "        vertical-align: top;\n",
       "    }\n",
       "\n",
       "    .dataframe thead th {\n",
       "        text-align: right;\n",
       "    }\n",
       "</style>\n",
       "<table border=\"1\" class=\"dataframe\">\n",
       "  <thead>\n",
       "    <tr style=\"text-align: right;\">\n",
       "      <th></th>\n",
       "      <th>edge_length_km</th>\n",
       "      <th>perimeter_km</th>\n",
       "      <th>area_sqkm</th>\n",
       "      <th>edge_length_m</th>\n",
       "      <th>perimeter_m</th>\n",
       "      <th>area_sqm</th>\n",
       "    </tr>\n",
       "  </thead>\n",
       "  <tbody>\n",
       "    <tr>\n",
       "      <th>0</th>\n",
       "      <td>1107.71300</td>\n",
       "      <td>6646.27600</td>\n",
       "      <td>4250546.84800</td>\n",
       "      <td>1107712.59100</td>\n",
       "      <td>6646275.54600</td>\n",
       "      <td>4250546848000.00000</td>\n",
       "    </tr>\n",
       "    <tr>\n",
       "      <th>1</th>\n",
       "      <td>418.67600</td>\n",
       "      <td>2512.05600</td>\n",
       "      <td>607220.97800</td>\n",
       "      <td>418676.00500</td>\n",
       "      <td>2512056.03300</td>\n",
       "      <td>607220978200.00000</td>\n",
       "    </tr>\n",
       "    <tr>\n",
       "      <th>2</th>\n",
       "      <td>158.24500</td>\n",
       "      <td>949.46800</td>\n",
       "      <td>86745.85400</td>\n",
       "      <td>158244.65600</td>\n",
       "      <td>949467.93500</td>\n",
       "      <td>86745854030.00000</td>\n",
       "    </tr>\n",
       "    <tr>\n",
       "      <th>3</th>\n",
       "      <td>59.81100</td>\n",
       "      <td>358.86500</td>\n",
       "      <td>12392.26500</td>\n",
       "      <td>59810.85800</td>\n",
       "      <td>358865.14800</td>\n",
       "      <td>12392264860.00000</td>\n",
       "    </tr>\n",
       "    <tr>\n",
       "      <th>4</th>\n",
       "      <td>22.60600</td>\n",
       "      <td>135.63800</td>\n",
       "      <td>1770.32400</td>\n",
       "      <td>22606.37900</td>\n",
       "      <td>135638.27600</td>\n",
       "      <td>1770323552.00000</td>\n",
       "    </tr>\n",
       "    <tr>\n",
       "      <th>5</th>\n",
       "      <td>8.54400</td>\n",
       "      <td>51.26600</td>\n",
       "      <td>252.90300</td>\n",
       "      <td>8544.40800</td>\n",
       "      <td>51266.45000</td>\n",
       "      <td>252903364.50000</td>\n",
       "    </tr>\n",
       "    <tr>\n",
       "      <th>6</th>\n",
       "      <td>3.22900</td>\n",
       "      <td>19.37700</td>\n",
       "      <td>36.12900</td>\n",
       "      <td>3229.48300</td>\n",
       "      <td>19376.89700</td>\n",
       "      <td>36129052.10000</td>\n",
       "    </tr>\n",
       "    <tr>\n",
       "      <th>7</th>\n",
       "      <td>1.22100</td>\n",
       "      <td>7.32400</td>\n",
       "      <td>5.16100</td>\n",
       "      <td>1220.63000</td>\n",
       "      <td>7323.77900</td>\n",
       "      <td>5161293.20000</td>\n",
       "    </tr>\n",
       "    <tr>\n",
       "      <th>8</th>\n",
       "      <td>0.46100</td>\n",
       "      <td>2.76800</td>\n",
       "      <td>0.73700</td>\n",
       "      <td>461.35500</td>\n",
       "      <td>2768.12800</td>\n",
       "      <td>737327.60000</td>\n",
       "    </tr>\n",
       "    <tr>\n",
       "      <th>9</th>\n",
       "      <td>0.17400</td>\n",
       "      <td>1.04600</td>\n",
       "      <td>0.10500</td>\n",
       "      <td>174.37600</td>\n",
       "      <td>1046.25400</td>\n",
       "      <td>105332.50000</td>\n",
       "    </tr>\n",
       "    <tr>\n",
       "      <th>10</th>\n",
       "      <td>0.06600</td>\n",
       "      <td>0.39500</td>\n",
       "      <td>0.01500</td>\n",
       "      <td>65.90800</td>\n",
       "      <td>395.44700</td>\n",
       "      <td>15047.50000</td>\n",
       "    </tr>\n",
       "    <tr>\n",
       "      <th>11</th>\n",
       "      <td>0.02500</td>\n",
       "      <td>0.14900</td>\n",
       "      <td>0.00200</td>\n",
       "      <td>24.91100</td>\n",
       "      <td>149.46300</td>\n",
       "      <td>2149.60000</td>\n",
       "    </tr>\n",
       "    <tr>\n",
       "      <th>12</th>\n",
       "      <td>0.00900</td>\n",
       "      <td>0.05600</td>\n",
       "      <td>0.00000</td>\n",
       "      <td>9.41600</td>\n",
       "      <td>56.49300</td>\n",
       "      <td>307.10000</td>\n",
       "    </tr>\n",
       "    <tr>\n",
       "      <th>13</th>\n",
       "      <td>0.00400</td>\n",
       "      <td>0.02100</td>\n",
       "      <td>0.00000</td>\n",
       "      <td>3.56000</td>\n",
       "      <td>21.35900</td>\n",
       "      <td>43.90000</td>\n",
       "    </tr>\n",
       "    <tr>\n",
       "      <th>14</th>\n",
       "      <td>0.00100</td>\n",
       "      <td>0.00800</td>\n",
       "      <td>0.00000</td>\n",
       "      <td>1.34900</td>\n",
       "      <td>8.09100</td>\n",
       "      <td>6.30000</td>\n",
       "    </tr>\n",
       "    <tr>\n",
       "      <th>15</th>\n",
       "      <td>0.00100</td>\n",
       "      <td>0.00300</td>\n",
       "      <td>0.00000</td>\n",
       "      <td>0.51000</td>\n",
       "      <td>3.05800</td>\n",
       "      <td>0.90000</td>\n",
       "    </tr>\n",
       "  </tbody>\n",
       "</table>\n",
       "</div>"
      ],
      "text/plain": [
       "    edge_length_km  perimeter_km     area_sqkm  edge_length_m   perimeter_m  \\\n",
       "0       1107.71300    6646.27600 4250546.84800  1107712.59100 6646275.54600   \n",
       "1        418.67600    2512.05600  607220.97800   418676.00500 2512056.03300   \n",
       "2        158.24500     949.46800   86745.85400   158244.65600  949467.93500   \n",
       "3         59.81100     358.86500   12392.26500    59810.85800  358865.14800   \n",
       "4         22.60600     135.63800    1770.32400    22606.37900  135638.27600   \n",
       "5          8.54400      51.26600     252.90300     8544.40800   51266.45000   \n",
       "6          3.22900      19.37700      36.12900     3229.48300   19376.89700   \n",
       "7          1.22100       7.32400       5.16100     1220.63000    7323.77900   \n",
       "8          0.46100       2.76800       0.73700      461.35500    2768.12800   \n",
       "9          0.17400       1.04600       0.10500      174.37600    1046.25400   \n",
       "10         0.06600       0.39500       0.01500       65.90800     395.44700   \n",
       "11         0.02500       0.14900       0.00200       24.91100     149.46300   \n",
       "12         0.00900       0.05600       0.00000        9.41600      56.49300   \n",
       "13         0.00400       0.02100       0.00000        3.56000      21.35900   \n",
       "14         0.00100       0.00800       0.00000        1.34900       8.09100   \n",
       "15         0.00100       0.00300       0.00000        0.51000       3.05800   \n",
       "\n",
       "              area_sqm  \n",
       "0  4250546848000.00000  \n",
       "1   607220978200.00000  \n",
       "2    86745854030.00000  \n",
       "3    12392264860.00000  \n",
       "4     1770323552.00000  \n",
       "5      252903364.50000  \n",
       "6       36129052.10000  \n",
       "7        5161293.20000  \n",
       "8         737327.60000  \n",
       "9         105332.50000  \n",
       "10         15047.50000  \n",
       "11          2149.60000  \n",
       "12           307.10000  \n",
       "13            43.90000  \n",
       "14             6.30000  \n",
       "15             0.90000  "
      ]
     },
     "execution_count": 25,
     "metadata": {},
     "output_type": "execute_result"
    }
   ],
   "source": [
    "max_res = 15\n",
    "list_hex_edge_km = []\n",
    "list_hex_edge_m = []\n",
    "list_hex_perimeter_km = []\n",
    "list_hex_perimeter_m = []\n",
    "list_hex_area_sqkm = []\n",
    "list_hex_area_sqm = []\n",
    "\n",
    "for i in range(0, max_res + 1):\n",
    "    ekm = h3.edge_length(resolution=i, unit='km')\n",
    "    em = h3.edge_length(resolution=i, unit='m')\n",
    "    list_hex_edge_km.append(round(ekm, 3))\n",
    "    list_hex_edge_m.append(round(em, 3))\n",
    "    list_hex_perimeter_km.append(round(6 * ekm, 3))\n",
    "    list_hex_perimeter_m.append(round(6 * em, 3))\n",
    "\n",
    "    akm = h3.hex_area(resolution=i, unit='km^2')\n",
    "    am = h3.hex_area(resolution=i, unit='m^2')\n",
    "    list_hex_area_sqkm.append(round(akm, 3))\n",
    "    list_hex_area_sqm.append(round(am, 3))\n",
    "\n",
    "df_meta = pd.DataFrame({\"edge_length_km\": list_hex_edge_km,\n",
    "                        \"perimeter_km\": list_hex_perimeter_km,\n",
    "                        \"area_sqkm\": list_hex_area_sqkm,\n",
    "                        \"edge_length_m\": list_hex_edge_m,\n",
    "                        \"perimeter_m\": list_hex_perimeter_m,\n",
    "                        \"area_sqm\": list_hex_area_sqm\n",
    "                        })\n",
    "\n",
    "df_meta[[\"edge_length_km\", \"perimeter_km\", \"area_sqkm\", \n",
    "         \"edge_length_m\", \"perimeter_m\", \"area_sqm\"]]"
   ]
  },
  {
   "cell_type": "markdown",
   "metadata": {},
   "source": [
    "<h3> Index a central point in Toulouse at various resolutions of the H3 index</h3>\n",
    "\n",
    "To better make sense of resolutions, we index spatially with H3 a central GPS point of the French city Toulouse: "
   ]
  },
  {
   "cell_type": "code",
   "execution_count": 26,
   "metadata": {
    "scrolled": false
   },
   "outputs": [
    {
     "data": {
      "text/html": [
       "<div>\n",
       "<style scoped>\n",
       "    .dataframe tbody tr th:only-of-type {\n",
       "        vertical-align: middle;\n",
       "    }\n",
       "\n",
       "    .dataframe tbody tr th {\n",
       "        vertical-align: top;\n",
       "    }\n",
       "\n",
       "    .dataframe thead th {\n",
       "        text-align: right;\n",
       "    }\n",
       "</style>\n",
       "<table border=\"1\" class=\"dataframe\">\n",
       "  <thead>\n",
       "    <tr style=\"text-align: right;\">\n",
       "      <th></th>\n",
       "      <th>res</th>\n",
       "      <th>hex_id</th>\n",
       "      <th>geometry</th>\n",
       "      <th>hex_id_binary</th>\n",
       "    </tr>\n",
       "  </thead>\n",
       "  <tbody>\n",
       "    <tr>\n",
       "      <th>0</th>\n",
       "      <td>0</td>\n",
       "      <td>8039fffffffffff</td>\n",
       "      <td>{'type': 'Polygon', 'coordinates': [((-12.384126872990429, ...</td>\n",
       "      <td>100000000011100111111111111111111111111111111111111111111111</td>\n",
       "    </tr>\n",
       "    <tr>\n",
       "      <th>1</th>\n",
       "      <td>1</td>\n",
       "      <td>81397ffffffffff</td>\n",
       "      <td>{'type': 'Polygon', 'coordinates': [((-2.4177958307002343, ...</td>\n",
       "      <td>100000010011100101111111111111111111111111111111111111111111</td>\n",
       "    </tr>\n",
       "    <tr>\n",
       "      <th>2</th>\n",
       "      <td>2</td>\n",
       "      <td>823967fffffffff</td>\n",
       "      <td>{'type': 'Polygon', 'coordinates': [((-0.02800493241726908,...</td>\n",
       "      <td>100000100011100101100111111111111111111111111111111111111111</td>\n",
       "    </tr>\n",
       "    <tr>\n",
       "      <th>3</th>\n",
       "      <td>3</td>\n",
       "      <td>833960fffffffff</td>\n",
       "      <td>{'type': 'Polygon', 'coordinates': [((0.8636445211789222, 4...</td>\n",
       "      <td>100000110011100101100000111111111111111111111111111111111111</td>\n",
       "    </tr>\n",
       "    <tr>\n",
       "      <th>4</th>\n",
       "      <td>4</td>\n",
       "      <td>8439601ffffffff</td>\n",
       "      <td>{'type': 'Polygon', 'coordinates': [((1.3835244370466788, 4...</td>\n",
       "      <td>100001000011100101100000000111111111111111111111111111111111</td>\n",
       "    </tr>\n",
       "    <tr>\n",
       "      <th>5</th>\n",
       "      <td>5</td>\n",
       "      <td>8539601bfffffff</td>\n",
       "      <td>{'type': 'Polygon', 'coordinates': [((1.4000204225223911, 4...</td>\n",
       "      <td>100001010011100101100000000110111111111111111111111111111111</td>\n",
       "    </tr>\n",
       "    <tr>\n",
       "      <th>6</th>\n",
       "      <td>6</td>\n",
       "      <td>8639601afffffff</td>\n",
       "      <td>{'type': 'Polygon', 'coordinates': [((1.4738337521077767, 4...</td>\n",
       "      <td>100001100011100101100000000110101111111111111111111111111111</td>\n",
       "    </tr>\n",
       "    <tr>\n",
       "      <th>7</th>\n",
       "      <td>7</td>\n",
       "      <td>8739601aeffffff</td>\n",
       "      <td>{'type': 'Polygon', 'coordinates': [((1.43518569514781, 43....</td>\n",
       "      <td>100001110011100101100000000110101110111111111111111111111111</td>\n",
       "    </tr>\n",
       "    <tr>\n",
       "      <th>8</th>\n",
       "      <td>8</td>\n",
       "      <td>8839601ae7fffff</td>\n",
       "      <td>{'type': 'Polygon', 'coordinates': [((1.4422134450592052, 4...</td>\n",
       "      <td>100010000011100101100000000110101110011111111111111111111111</td>\n",
       "    </tr>\n",
       "    <tr>\n",
       "      <th>9</th>\n",
       "      <td>9</td>\n",
       "      <td>8939601ae67ffff</td>\n",
       "      <td>{'type': 'Polygon', 'coordinates': [((1.4447222939943178, 4...</td>\n",
       "      <td>100010010011100101100000000110101110011001111111111111111111</td>\n",
       "    </tr>\n",
       "    <tr>\n",
       "      <th>10</th>\n",
       "      <td>10</td>\n",
       "      <td>8a39601ae65ffff</td>\n",
       "      <td>{'type': 'Polygon', 'coordinates': [((1.445725796401869, 43...</td>\n",
       "      <td>100010100011100101100000000110101110011001011111111111111111</td>\n",
       "    </tr>\n",
       "    <tr>\n",
       "      <th>11</th>\n",
       "      <td>11</td>\n",
       "      <td>8b39601ae658fff</td>\n",
       "      <td>{'type': 'Polygon', 'coordinates': [((1.4455107940644945, 4...</td>\n",
       "      <td>100010110011100101100000000110101110011001011000111111111111</td>\n",
       "    </tr>\n",
       "    <tr>\n",
       "      <th>12</th>\n",
       "      <td>12</td>\n",
       "      <td>8c39601ae6581ff</td>\n",
       "      <td>{'type': 'Polygon', 'coordinates': [((1.4455824700564863, 4...</td>\n",
       "      <td>100011000011100101100000000110101110011001011000000111111111</td>\n",
       "    </tr>\n",
       "    <tr>\n",
       "      <th>13</th>\n",
       "      <td>13</td>\n",
       "      <td>8d39601ae6581bf</td>\n",
       "      <td>{'type': 'Polygon', 'coordinates': [((1.44546984612278, 43....</td>\n",
       "      <td>100011010011100101100000000110101110011001011000000110111111</td>\n",
       "    </tr>\n",
       "    <tr>\n",
       "      <th>14</th>\n",
       "      <td>14</td>\n",
       "      <td>8e39601ae658187</td>\n",
       "      <td>{'type': 'Polygon', 'coordinates': [((1.4454800855584904, 4...</td>\n",
       "      <td>100011100011100101100000000110101110011001011000000110000111</td>\n",
       "    </tr>\n",
       "    <tr>\n",
       "      <th>15</th>\n",
       "      <td>15</td>\n",
       "      <td>8f39601ae658180</td>\n",
       "      <td>{'type': 'Polygon', 'coordinates': [((1.44547569779672, 43....</td>\n",
       "      <td>100011110011100101100000000110101110011001011000000110000000</td>\n",
       "    </tr>\n",
       "  </tbody>\n",
       "</table>\n",
       "</div>"
      ],
      "text/plain": [
       "    res           hex_id  \\\n",
       "0     0  8039fffffffffff   \n",
       "1     1  81397ffffffffff   \n",
       "2     2  823967fffffffff   \n",
       "3     3  833960fffffffff   \n",
       "4     4  8439601ffffffff   \n",
       "5     5  8539601bfffffff   \n",
       "6     6  8639601afffffff   \n",
       "7     7  8739601aeffffff   \n",
       "8     8  8839601ae7fffff   \n",
       "9     9  8939601ae67ffff   \n",
       "10   10  8a39601ae65ffff   \n",
       "11   11  8b39601ae658fff   \n",
       "12   12  8c39601ae6581ff   \n",
       "13   13  8d39601ae6581bf   \n",
       "14   14  8e39601ae658187   \n",
       "15   15  8f39601ae658180   \n",
       "\n",
       "                                                          geometry  \\\n",
       "0   {'type': 'Polygon', 'coordinates': [((-12.384126872990429, ...   \n",
       "1   {'type': 'Polygon', 'coordinates': [((-2.4177958307002343, ...   \n",
       "2   {'type': 'Polygon', 'coordinates': [((-0.02800493241726908,...   \n",
       "3   {'type': 'Polygon', 'coordinates': [((0.8636445211789222, 4...   \n",
       "4   {'type': 'Polygon', 'coordinates': [((1.3835244370466788, 4...   \n",
       "5   {'type': 'Polygon', 'coordinates': [((1.4000204225223911, 4...   \n",
       "6   {'type': 'Polygon', 'coordinates': [((1.4738337521077767, 4...   \n",
       "7   {'type': 'Polygon', 'coordinates': [((1.43518569514781, 43....   \n",
       "8   {'type': 'Polygon', 'coordinates': [((1.4422134450592052, 4...   \n",
       "9   {'type': 'Polygon', 'coordinates': [((1.4447222939943178, 4...   \n",
       "10  {'type': 'Polygon', 'coordinates': [((1.445725796401869, 43...   \n",
       "11  {'type': 'Polygon', 'coordinates': [((1.4455107940644945, 4...   \n",
       "12  {'type': 'Polygon', 'coordinates': [((1.4455824700564863, 4...   \n",
       "13  {'type': 'Polygon', 'coordinates': [((1.44546984612278, 43....   \n",
       "14  {'type': 'Polygon', 'coordinates': [((1.4454800855584904, 4...   \n",
       "15  {'type': 'Polygon', 'coordinates': [((1.44547569779672, 43....   \n",
       "\n",
       "                                                   hex_id_binary  \n",
       "0   100000000011100111111111111111111111111111111111111111111111  \n",
       "1   100000010011100101111111111111111111111111111111111111111111  \n",
       "2   100000100011100101100111111111111111111111111111111111111111  \n",
       "3   100000110011100101100000111111111111111111111111111111111111  \n",
       "4   100001000011100101100000000111111111111111111111111111111111  \n",
       "5   100001010011100101100000000110111111111111111111111111111111  \n",
       "6   100001100011100101100000000110101111111111111111111111111111  \n",
       "7   100001110011100101100000000110101110111111111111111111111111  \n",
       "8   100010000011100101100000000110101110011111111111111111111111  \n",
       "9   100010010011100101100000000110101110011001111111111111111111  \n",
       "10  100010100011100101100000000110101110011001011111111111111111  \n",
       "11  100010110011100101100000000110101110011001011000111111111111  \n",
       "12  100011000011100101100000000110101110011001011000000111111111  \n",
       "13  100011010011100101100000000110101110011001011000000110111111  \n",
       "14  100011100011100101100000000110101110011001011000000110000111  \n",
       "15  100011110011100101100000000110101110011001011000000110000000  "
      ]
     },
     "execution_count": 26,
     "metadata": {},
     "output_type": "execute_result"
    }
   ],
   "source": [
    "lat_centr_point = 43.600378\n",
    "lon_centr_point = 1.445478\n",
    "list_hex_res = []\n",
    "list_hex_res_geom = []\n",
    "list_res = range(0, max_res + 1)\n",
    "\n",
    "for resolution in range(0, max_res + 1):\n",
    "    # index the point in the H3 hexagon of given index resolution\n",
    "    h = h3.geo_to_h3(lat = lat_centr_point,\n",
    "                     lng = lon_centr_point,\n",
    "                     resolution = resolution\n",
    "                     )\n",
    "\n",
    "    list_hex_res.append(h)\n",
    "    # get the geometry of the hexagon and convert to geojson\n",
    "    h_geom = {\"type\": \"Polygon\",\n",
    "              \"coordinates\": [h3.h3_to_geo_boundary(h = h, geo_json = True)]\n",
    "              }\n",
    "    list_hex_res_geom.append(h_geom)\n",
    "\n",
    "\n",
    "df_res_point = pd.DataFrame({\"res\": list_res,\n",
    "                             \"hex_id\": list_hex_res,\n",
    "                             \"geometry\": list_hex_res_geom\n",
    "                             })\n",
    "df_res_point[\"hex_id_binary\"] = df_res_point[\"hex_id\"].apply(\n",
    "                                                lambda x: bin(int(x, 16))[2:])\n",
    "\n",
    "pd.set_option('display.max_colwidth', 63)\n",
    "df_res_point\n"
   ]
  },
  {
   "cell_type": "markdown",
   "metadata": {},
   "source": [
    "Visualize on map:"
   ]
  },
  {
   "cell_type": "code",
   "execution_count": 27,
   "metadata": {},
   "outputs": [],
   "source": [
    "!mkdir -p maps\n",
    "!mkdir -p images"
   ]
  },
  {
   "cell_type": "code",
   "execution_count": null,
   "metadata": {},
   "outputs": [],
   "source": [
    "map_example = Map(location = [43.600378, 1.445478],\n",
    "                  zoom_start = 5.5,\n",
    "                  tiles = \"cartodbpositron\",\n",
    "                  attr = '''© <a href=\"http://www.openstreetmap.org/copyright\">\n",
    "                          OpenStreetMap</a>contributors ©\n",
    "                          <a href=\"http://cartodb.com/attributions#basemaps\">\n",
    "                          CartoDB</a>'''\n",
    "                  )\n",
    "\n",
    "list_features = []\n",
    "for i, row in df_res_point.iterrows():\n",
    "    feature = Feature(geometry = row[\"geometry\"],\n",
    "                      id = row[\"hex_id\"],\n",
    "                      properties = {\"resolution\": int(row[\"res\"])})\n",
    "    list_features.append(feature)\n",
    "\n",
    "feat_collection = FeatureCollection(list_features)\n",
    "geojson_result = json.dumps(feat_collection)\n",
    "\n",
    "\n",
    "GeoJson(\n",
    "        geojson_result,\n",
    "        style_function = lambda feature: {\n",
    "            'fillColor': None,\n",
    "            'color': (\"green\"\n",
    "                      if feature['properties']['resolution'] % 2 == 0\n",
    "                      else \"red\"),\n",
    "            'weight': 2,\n",
    "            'fillOpacity': 0.05\n",
    "        },\n",
    "        name = \"Example\"\n",
    "    ).add_to(map_example)\n",
    "\n",
    "map_example.save('maps/1_resolutions.html')\n",
    "map_example\n"
   ]
  },
  {
   "cell_type": "code",
   "execution_count": 29,
   "metadata": {},
   "outputs": [
    {
     "data": {
      : [
       "<Figure size 1080x720 with 1 Axes>"
      ]
     },
     "metadata": {
      "needs_background": "light"
     },
     "output_type": "display_data"
    }
   ],
   "source": [
    "fig, ax = plt.subplots(1, 1, figsize = (15, 10))\n",
    "\n",
    "im1 = pilim.open('images/1_resolutions.png', 'r')\n",
    "ax.imshow(np.asarray(im1))\n",
    "ax.set_axis_off();"
   ]
  },
  {
   "cell_type": "markdown",
   "metadata": {},
   "source": [
    "Note: the color scheme of hexagons boundaries was coded with green for even resolution (0,2,4,etc) and red of odd resolution(1,3,5,etc)  \n"
   ]
  },
  {
   "cell_type": "markdown",
   "metadata": {},
   "source": [
    "## I.2. Inspect the parent - children relationship in the H3 hierarchy\n",
    "\n"
   ]
  },
  {
   "cell_type": "markdown",
   "metadata": {},
   "source": [
    "This section is particularly useful for understanding the implications of replacing children with the parent cell (as it is the case of using h3.compact)"
   ]
  },
  {
   "cell_type": "code",
   "execution_count": 30,
   "metadata": {},
   "outputs": [
    {
     "name": "stdout",
     "output_type": "stream",
     "text": [
      "Parent cell: 8939601ae67ffff has :\n",
      "          7 direct children, \n",
      "          49 grandchildren,\n",
      "          343 grandgrandchildren, \n",
      "          2401 grandgrandgrandchildren\n"
     ]
    }
   ],
   "source": [
    "res_parent = 9\n",
    "h3_cell_parent = h3.geo_to_h3(lat = lat_centr_point,\n",
    "                              lng = lon_centr_point,\n",
    "                              resolution = res_parent\n",
    "                              )\n",
    "h3_cells_children = list(h3.h3_to_children(h = h3_cell_parent))\n",
    "assert(len(h3_cells_children) == math.pow(7, 1))\n",
    "# ------\n",
    "h3_cells_grandchildren = list(h3.h3_to_children(h = h3_cell_parent, \n",
    "                                                res = res_parent + 2))\n",
    "assert(len(h3_cells_grandchildren) == math.pow(7, 2))\n",
    "# ------\n",
    "h3_cells_2xgrandchildren = list(h3.h3_to_children(h = h3_cell_parent, \n",
    "                                                  res = res_parent + 3))\n",
    "assert(len(h3_cells_2xgrandchildren) == math.pow(7, 3))\n",
    "\n",
    "# ------\n",
    "h3_cells_3xgrandchildren = list(h3.h3_to_children(h = h3_cell_parent, \n",
    "                                                  res = res_parent + 4))\n",
    "assert(len(h3_cells_3xgrandchildren) == math.pow(7, 4))\n",
    "# ------\n",
    "\n",
    "msg_ = \"\"\"Parent cell: {} has :\n",
    "          {} direct children, \n",
    "          {} grandchildren,\n",
    "          {} grandgrandchildren, \n",
    "          {} grandgrandgrandchildren\"\"\"\n",
    "print(msg_.format(h3_cell_parent, len(h3_cells_children),\n",
    "                  len(h3_cells_grandchildren), \n",
    "                  len(h3_cells_2xgrandchildren),\n",
    "                  len(h3_cells_3xgrandchildren)))\n",
    "      "
   ]
  },
  {
   "cell_type": "code",
   "execution_count": 31,
   "metadata": {},
   "outputs": [],
   "source": [
    "def plot_parent_and_descendents(h3_cell_parent, h3_cells_children, ax=None):\n",
    "                                \n",
    "    list_distances_to_center = []\n",
    "                                \n",
    "    if ax is None:\n",
    "        fig, ax = plt.subplots(1, 1, figsize = (5, 5))\n",
    "    \n",
    "    boundary_parent_coords = h3.h3_to_geo_boundary(h=h3_cell_parent, geo_json=True)\n",
    "    boundary_parent = geometry.Polygon(boundary_parent_coords)\n",
    "    # print(boundary_parent.wkt, \"\\n\")\n",
    "    res_parent = h3.h3_get_resolution(h3_cell_parent)\n",
    "    \n",
    "    # get the central descendent at the resolution of h3_cells_children\n",
    "    res_children = h3.h3_get_resolution(h3_cells_children[0])\n",
    "    centerhex = h3.h3_to_center_child(h = h3_cell_parent, res = res_children)\n",
    "\n",
    "    # get the boundary of the multipolygon of the H3 cells union\n",
    "    boundary_children_union_coords = h3.h3_set_to_multi_polygon(\n",
    "                                               hexes = h3_cells_children,\n",
    "                                               geo_json = True)[0][0]\n",
    "    # close the linestring\n",
    "    boundary_children_union_coords.append(boundary_children_union_coords[0])\n",
    "    boundary_children_union = geometry.Polygon(boundary_children_union_coords)\n",
    "    # print(boundary_children_union.wkt, \"\\n\")\n",
    "    \n",
    "    # compute the overlapping geometry\n",
    "    # (the intersection of the boundary_parent with boundary_children_union):\n",
    "    overlap_geom = boundary_parent.intersection(boundary_children_union)\n",
    "    print(\"overlap approx: {}\".format(round(overlap_geom.area / boundary_parent.area, 4))) \n",
    "\n",
    "    # plot\n",
    "    dict_adjust_textpos = {7: 0.0003, 8: 0.0001, 9: 0.00005, 10: 0.00002}\n",
    "    \n",
    "    for child in h3_cells_children:\n",
    "        boundary_child_coords = h3.h3_to_geo_boundary(h = child, geo_json = True)\n",
    "        boundary_child = geometry.Polygon(boundary_child_coords)\n",
    "        ax.plot(*boundary_child.exterior.coords.xy, color = \"grey\", linestyle=\"--\")\n",
    "        \n",
    "        dist_to_centerhex = h3.h3_distance(h1 = centerhex, h2 = child)\n",
    "        list_distances_to_center.append(dist_to_centerhex)\n",
    "                                \n",
    "        if res_children <= res_parent + 3:\n",
    "            # add text\n",
    "            ax.text(x = boundary_child.centroid.x - dict_adjust_textpos[res_parent],\n",
    "                    y = boundary_child.centroid.y - dict_adjust_textpos[res_parent],\n",
    "                    s = str(dist_to_centerhex),\n",
    "                    fontsize = 12, color = \"black\", weight = \"bold\")\n",
    "    \n",
    "    ax.plot(*boundary_children_union.exterior.coords.xy, color = \"blue\")\n",
    "    ax.plot(*boundary_parent.exterior.coords.xy, color = \"red\", linewidth=2)\n",
    "                                \n",
    "    return list_distances_to_center"
   ]
  },
  {
   "cell_type": "code",
   "execution_count": 32,
   "metadata": {},
   "outputs": [
    {
     "name": "stdout",
     "output_type": "stream",
     "text": [
      "overlap approx: 0.9286\n",
      "overlap approx: 0.9388\n",
      "overlap approx: 0.9344\n",
      "overlap approx: 0.935\n"
     ]
    },
    {
     "data": {
      : [
       "<Figure size 1440x1440 with 4 Axes>"
      ]
     },
     "metadata": {
      "needs_background": "light"
     },
     "output_type": "display_data"
    }
   ],
   "source": [
    "fig, ax = plt.subplots(2, 2, figsize = (20, 20))\n",
    "list_distances_to_center_dc = plot_parent_and_descendents(h3_cell_parent, \n",
    "                                                          h3_cells_children, \n",
    "                                                          ax = ax[0][0])\n",
    "list_distances_to_center_gc = plot_parent_and_descendents(h3_cell_parent,\n",
    "                                                          h3_cells_grandchildren,\n",
    "                                                          ax = ax[0][1])\n",
    "list_distances_to_center_2xgc = plot_parent_and_descendents(h3_cell_parent, \n",
    "                                                            h3_cells_2xgrandchildren, \n",
    "                                                            ax = ax[1][0])\n",
    "list_distances_to_center_3xgc = plot_parent_and_descendents(h3_cell_parent,\n",
    "                                                            h3_cells_3xgrandchildren,\n",
    "                                                            ax = ax[1][1])\n",
    "\n",
    "\n",
    "ax[0][0].set_title(\"Direct children (res 10)\")\n",
    "ax[0][1].set_title(\"Grandchildren (res 11)\")\n",
    "ax[1][0].set_title(\"Grandgrandchildren (res 12)\")\n",
    "ax[1][1].set_title(\"Grandgrandgrandchildren (res 13)\");\n",
    "# ax[1][1].axis('off');"
   ]
  },
  {
   "cell_type": "markdown",
   "metadata": {},
   "source": [
    "We could buffer the parent, so that all initial descendents are guaranteed to be included.   \n",
    "For this, we determine the incomplete hollow rings relative to the central child at given resolution.\n",
    "\n",
    "By default (if complete), on hollow ring k there are $k * 6$ cells, for $k >=1$ "
   ]
  },
  {
   "cell_type": "code",
   "execution_count": 33,
   "metadata": {},
   "outputs": [],
   "source": [
    "def highlight_incomplete_hollowrings(list_distances_to_center):\n",
    "    c = Counter(list_distances_to_center)\n",
    "    print(c)\n",
    "    list_incomplete = []\n",
    "    for k in c:\n",
    "        if (k > 1) and (c[k] != 6 * k):\n",
    "            list_incomplete.append(k)\n",
    "    print(\"List incomplete hollow rings:\", sorted(list_incomplete))"
   ]
  },
  {
   "cell_type": "code",
   "execution_count": 34,
   "metadata": {},
   "outputs": [
    {
     "name": "stdout",
     "output_type": "stream",
     "text": [
      "Counter({1: 6, 0: 1})\n",
      "List incomplete hollow rings: []\n",
      "-----------------------------------------------------\n",
      "Counter({3: 18, 2: 12, 4: 12, 1: 6, 0: 1})\n",
      "List incomplete hollow rings: [4]\n",
      "-----------------------------------------------------\n",
      "Counter({9: 54, 8: 48, 10: 48, 7: 42, 6: 36, 5: 30, 4: 24, 11: 24, 3: 18, 2: 12, 1: 6, 0: 1})\n",
      "List incomplete hollow rings: [10, 11]\n",
      "-----------------------------------------------------\n",
      "Counter({23: 138, 22: 132, 24: 132, 21: 126, 20: 120, 19: 114, 25: 108, 18: 108, 17: 102, 16: 96, 15: 90, 26: 84, 30: 84, 29: 84, 14: 84, 28: 84, 27: 84, 13: 78, 12: 72, 11: 66, 31: 60, 10: 60, 9: 54, 8: 48, 7: 42, 6: 36, 5: 30, 4: 24, 32: 24, 3: 18, 2: 12, 1: 6, 0: 1})\n",
      "List incomplete hollow rings: [24, 25, 26, 27, 28, 29, 30, 31, 32]\n"
     ]
    }
   ],
   "source": [
    "highlight_incomplete_hollowrings(list_distances_to_center_dc)\n",
    "print(\"-----------------------------------------------------\")\n",
    "highlight_incomplete_hollowrings(list_distances_to_center_gc)\n",
    "print(\"-----------------------------------------------------\")\n",
    "highlight_incomplete_hollowrings(list_distances_to_center_2xgc)\n",
    "print(\"-----------------------------------------------------\")\n",
    "highlight_incomplete_hollowrings(list_distances_to_center_3xgc)"
   ]
  },
  {
   "cell_type": "markdown",
   "metadata": {},
   "source": [
    "## I.3. Spatial arrangement of H3 cells in the ij coordinate system\n",
    "\n",
    "Read: https://h3geo.org/docs/core-library/coordsystems\n"
   ]
  },
  {
   "cell_type": "code",
   "execution_count": 35,
   "metadata": {},
   "outputs": [
    {
     "name": "stdout",
     "output_type": "stream",
     "text": [
      "Help on function experimental_h3_to_local_ij in module h3.api._api_template:\n",
      "\n",
      "experimental_h3_to_local_ij(origin, h)\n",
      "    Return local (i,j) coordinates of cell `h` in relation to `origin` cell\n",
      "    \n",
      "    \n",
      "    Parameters\n",
      "    ----------\n",
      "    origin : H3Cell\n",
      "        Origin/central cell for defining i,j coordinates.\n",
      "    h: H3Cell\n",
      "        Destination cell whose i,j coordinates we'd like, based off\n",
      "        of the origin cell.\n",
      "    \n",
      "    \n",
      "    Returns\n",
      "    -------\n",
      "    Tuple (i, j) of integer local coordinates of cell `h`\n",
      "    \n",
      "    \n",
      "    Implementation Notes\n",
      "    --------------------\n",
      "    \n",
      "    The `origin` cell does not define (0, 0) for the IJ coordinate space.\n",
      "    (0, 0) refers to the center of the base cell containing origin at the\n",
      "    resolution of `origin`.\n",
      "    Subtracting the IJ coordinates of `origin` from every cell would get\n",
      "    you the property of (0, 0) being the `origin`.\n",
      "    \n",
      "    This is done so we don't need to keep recomputing the coordinates of\n",
      "    `origin` if not needed.\n",
      "\n"
     ]
    }
   ],
   "source": [
    "help(h3.experimental_h3_to_local_ij)"
   ]
  },
  {
   "cell_type": "code",
   "execution_count": 36,
   "metadata": {},
   "outputs": [],
   "source": [
    "def explore_ij_coords(lat_point, lon_point, num_rings = 3, ax = None):\n",
    "\n",
    "    # an example at resolution 9\n",
    "    hex_id_ex = h3.geo_to_h3(lat = lat_point,\n",
    "                             lng = lon_point,\n",
    "                             resolution = 9\n",
    "                             )\n",
    "    assert(h3.h3_get_resolution(hex_id_ex) == 9)\n",
    "\n",
    "    # get its rings\n",
    "    list_siblings = list(h3.hex_range_distances(h = hex_id_ex, \n",
    "                                                K = num_rings))\n",
    "\n",
    "    dict_ij = {}\n",
    "    dict_color = {}\n",
    "    dict_s = {}\n",
    "\n",
    "    if ax is None:\n",
    "        figsize = (min(6 * num_rings, 15), min(6 * num_rings, 15))\n",
    "        fig, ax = plt.subplots(1, 1, figsize = figsize)\n",
    "\n",
    "    for ring_level in range(len(list_siblings)):\n",
    "\n",
    "        if ring_level == 0:\n",
    "            fontcol = \"red\"\n",
    "        elif ring_level == 1:\n",
    "            fontcol = \"blue\"\n",
    "        elif ring_level == 2:\n",
    "            fontcol = \"green\"\n",
    "        else:\n",
    "            fontcol = \"brown\"\n",
    "\n",
    "        if ring_level == 0:\n",
    "            # on ring 0 is only hex_id_ex\n",
    "            geom_boundary_coords = h3.h3_to_geo_boundary(hex_id_ex,\n",
    "                                                         geo_json = True)\n",
    "            geom_shp = geometry.Polygon(geom_boundary_coords)\n",
    "            ax.plot(*geom_shp.exterior.xy, color = \"purple\")\n",
    "\n",
    "            ij_ex = h3.experimental_h3_to_local_ij(origin = hex_id_ex,\n",
    "                                                   h = hex_id_ex)\n",
    "            s = \" {} \\n \\n (0,0)\".format(ij_ex)\n",
    "\n",
    "            dict_ij[hex_id_ex] = ij_ex\n",
    "            dict_color[hex_id_ex] = \"red\"\n",
    "            dict_s[hex_id_ex] = s        \n",
    "\n",
    "            ax.text(x = geom_shp.centroid.x - 0.0017,\n",
    "                    y = geom_shp.centroid.y - 0.0005,\n",
    "                    s = s,\n",
    "                    fontsize = 11, color = fontcol, weight = \"bold\")\n",
    "        else:\n",
    "            # get the hex ids resident on ring_level\n",
    "            siblings_on_ring = list(list_siblings[ring_level])\n",
    "\n",
    "            k = 1\n",
    "            for sibling_hex in sorted(siblings_on_ring):\n",
    "                geom_boundary_coords = h3.h3_to_geo_boundary(sibling_hex,\n",
    "                                                             geo_json=True)\n",
    "                geom_shp = geometry.Polygon(geom_boundary_coords)\n",
    "                ax.plot(*geom_shp.exterior.xy, color = \"purple\")\n",
    "\n",
    "                ij = h3.experimental_h3_to_local_ij(origin = hex_id_ex,\n",
    "                                                    h = sibling_hex)\n",
    "                ij_diff = (ij[0] - ij_ex[0], ij[1] - ij_ex[1])\n",
    "                s = \" {} \\n \\n {}\".format(ij, ij_diff)\n",
    "                k = k + 1\n",
    "\n",
    "                dict_ij[sibling_hex] = ij    \n",
    "                dict_color[sibling_hex] = fontcol\n",
    "                dict_s[sibling_hex] = s\n",
    "\n",
    "                ax.text(x = geom_shp.centroid.x - 0.0017,\n",
    "                        y = geom_shp.centroid.y - 0.0005,\n",
    "                        s = s,\n",
    "                        fontsize = 11, color = fontcol, weight = \"bold\")\n",
    "\n",
    "    ax.set_ylabel(\"Latitude\")\n",
    "    ax.set_xlabel(\"Longitude\")\n",
    "    \n",
    "    return dict_ij, dict_color, dict_s"
   ]
  },
  {
   "cell_type": "code",
   "execution_count": 37,
   "metadata": {},
   "outputs": [
    {
     "data": {
      : [
       "<Figure size 1080x1080 with 1 Axes>"
      ]
     },
     "metadata": {
      "needs_background": "light"
     },
     "output_type": "display_data"
    }
   ],
   "source": [
    "dict_ij, dict_color, dict_s = explore_ij_coords(lat_point = lat_centr_point,\n",
    "                                                lon_point = lon_centr_point)"
   ]
  },
  {
   "cell_type": "markdown",
   "metadata": {},
   "source": [
    "Note that choosing a GPS point in other parts of the world results in different relative i and j arrangements (with respect to compass NESW).  \n",
    "Here is an illustration for ring 1 neighbours: \n"
   ]
  },
  {
   "cell_type": "code",
   "execution_count": 38,
   "metadata": {},
   "outputs": [
    {
     "data": {
      : [
       "<Figure size 864x864 with 4 Axes>"
      ]
     },
     "metadata": {
      "needs_background": "light"
     },
     "output_type": "display_data"
    }
   ],
   "source": [
    "fig, ax = plt.subplots(2, 2, figsize = (12, 12))\n",
    "\n",
    "# in Toulouse\n",
    "_ = explore_ij_coords(lat_point = lat_centr_point,\n",
    "                      lon_point = lon_centr_point,\n",
    "                      num_rings = 1,\n",
    "                      ax = ax[0][0])\n",
    "ax[0][0].set_title(\"Toulouse (FR)\")\n",
    "\n",
    "# in New York\n",
    "_ = explore_ij_coords(lat_point = 40.665634, \n",
    "                      lon_point = -73.964768,\n",
    "                      num_rings = 1,\n",
    "                      ax = ax[0][1])\n",
    "ax[0][1].set_title(\"New York (US)\")\n",
    "\n",
    "# in Singapore\n",
    "_ = explore_ij_coords(lat_point = 1.282892, \n",
    "                      lon_point = 103.862396,\n",
    "                      num_rings = 1,\n",
    "                      ax = ax[1][0])\n",
    "ax[1][0].set_title(\"Singapore (SG)\")\n",
    "\n",
    "\n",
    "# in Stockholm \n",
    "_ = explore_ij_coords(lat_point = 59.330506, \n",
    "                      lon_point = 18.072043,\n",
    "                      num_rings = 1,\n",
    "                      ax = ax[1][1])\n",
    "ax[1][1].set_title(\"Stockholm (SE)\");\n"
   ]
  },
  {
   "cell_type": "markdown",
   "metadata": {},
   "source": [
    "Anticipating the ML section of this notebook, we put these 4 rings of hexagons in a 2d array.  \n",
    "A preliminary step is to transform i and j as follows:"
   ]
  },
  {
   "cell_type": "code",
   "execution_count": 39,
   "metadata": {},
   "outputs": [
    {
     "name": "stdout",
     "output_type": "stream",
     "text": [
      "i between 729 and 735\n",
      "j between -2712 and -2706\n"
     ]
    }
   ],
   "source": [
    "min_i = min([dict_ij[h][0] for h in dict_ij])\n",
    "min_j = min([dict_ij[h][1] for h in dict_ij])\n",
    "\n",
    "max_i = max([dict_ij[h][0] for h in dict_ij])\n",
    "max_j = max([dict_ij[h][1] for h in dict_ij])\n",
    "\n",
    "print(\"i between {} and {}\".format(min_i, max_i))\n",
    "print(\"j between {} and {}\".format(min_j, max_j))\n",
    "\n",
    "# rescale\n",
    "dict_ij_rescaled = {}\n",
    "for h in dict_ij:\n",
    "    dict_ij_rescaled[h] = [dict_ij[h][0] - min_i, dict_ij[h][1] - min_j]\n",
    "    # print(dict_ij[h], \"-->\", dict_ij_rescaled[h])\n"
   ]
  },
  {
   "cell_type": "code",
   "execution_count": 40,
   "metadata": {},
   "outputs": [
    {
     "data": {
      : [
       "<Figure size 720x720 with 1 Axes>"
      ]
     },
     "metadata": {
      "needs_background": "light"
     },
     "output_type": "display_data"
    }
   ],
   "source": [
    "fig, ax = plt.subplots(1, 1, figsize = (10, 10))\n",
    "\n",
    "i_range = list(range(0, max_i - min_i + 1))\n",
    "j_range = list(range(0, max_j - min_j + 1))\n",
    "\n",
    "\n",
    "ax.set_xticks(np.arange(len(j_range)))\n",
    "ax.set_yticks(np.arange(len(i_range)))\n",
    "ax.set_xticklabels(j_range)\n",
    "ax.set_yticklabels(i_range)\n",
    "\n",
    "minor_ticks_x = np.arange(-1, max_j - min_j + 1, 0.5)\n",
    "minor_ticks_y = np.arange(-1, max_i - min_i + 1, 0.5)\n",
    "ax.set_xticks(minor_ticks_x, minor=True)\n",
    "ax.set_yticks(minor_ticks_y, minor=True)\n",
    "\n",
    "for h in dict_ij_rescaled:\n",
    "    ax.text(x = dict_ij_rescaled[h][1],\n",
    "            y = dict_ij_rescaled[h][0],\n",
    "            s = dict_s[h],\n",
    "            fontsize = 11, color = dict_color[h],\n",
    "            ha=\"center\", va=\"center\", weight = \"bold\")\n",
    "    \n",
    "ax.set_xlim(-1, max_j - min_j + 1)\n",
    "ax.set_ylim(-1, max_i - min_i + 1)\n",
    "\n",
    "ax.grid(which='major', alpha = 0.1)\n",
    "ax.grid(which='minor', alpha = 0.9)\n",
    "\n",
    "ax.set_xlabel(\"J\")\n",
    "ax.set_ylabel(\"I\")\n",
    "\n",
    "ax.invert_yaxis()\n",
    "\n",
    "fig.tight_layout();"
   ]
  },
  {
   "cell_type": "markdown",
   "metadata": {},
   "source": [
    "------------------------"
   ]
  },
  {
   "cell_type": "markdown",
   "metadata": {},
   "source": [
    "-------------------"
   ]
  },
  {
   "cell_type": "markdown",
   "metadata": {},
   "source": [
    "# II. Use H3 indexing for spatial operations"
   ]
  },
  {
   "cell_type": "markdown",
   "metadata": {},
   "source": [
    "## II.1. Prepare data - GeoJSON file of bus stops"
   ]
  },
  {
   "cell_type": "code",
   "execution_count": 41,
   "metadata": {},
   "outputs": [],
   "source": [
    "def load_and_prepare_busstops(filepath):\n",
    "    \"\"\"Loads a geojson files of point geometries and features,\n",
    "    extracts the latitude and longitude into separate columns,\n",
    "    deduplicates busstops (since multiple buslines share them)\"\"\"\n",
    "\n",
    "    gdf_raw = gpd.read_file(filepath, driver=\"GeoJSON\")\n",
    "    print(\"Total number of bus stops in original dataset\", gdf_raw.shape[0]) \n",
    "\n",
    "    gdf_raw[\"latitude\"] = gdf_raw[\"geometry\"].apply(lambda p: p.y)\n",
    "    gdf_raw[\"longitude\"] = gdf_raw[\"geometry\"].apply(lambda p: p.x)\n",
    "\n",
    "    # reset index to store it in a column\n",
    "    gdf_raw.reset_index(inplace=True, drop = False)\n",
    "    \n",
    "    return gdf_raw"
   ]
  },
  {
   "cell_type": "code",
   "execution_count": 42,
   "metadata": {},
   "outputs": [
    {
     "name": "stdout",
     "output_type": "stream",
     "text": [
      "Total number of bus stops in original dataset 8706\n"
     ]
    },
    {
     "data": {
      "text/html": [
       "<div>\n",
       "<style scoped>\n",
       "    .dataframe tbody tr th:only-of-type {\n",
       "        vertical-align: middle;\n",
       "    }\n",
       "\n",
       "    .dataframe tbody tr th {\n",
       "        vertical-align: top;\n",
       "    }\n",
       "\n",
       "    .dataframe thead th {\n",
       "        text-align: right;\n",
       "    }\n",
       "</style>\n",
       "<table border=\"1\" class=\"dataframe\">\n",
       "  <thead>\n",
       "    <tr style=\"text-align: right;\">\n",
       "      <th></th>\n",
       "      <th>0</th>\n",
       "      <th>1</th>\n",
       "      <th>2</th>\n",
       "      <th>3</th>\n",
       "      <th>4</th>\n",
       "    </tr>\n",
       "  </thead>\n",
       "  <tbody>\n",
       "    <tr>\n",
       "      <th>index</th>\n",
       "      <td>0</td>\n",
       "      <td>1</td>\n",
       "      <td>2</td>\n",
       "      <td>3</td>\n",
       "      <td>4</td>\n",
       "    </tr>\n",
       "    <tr>\n",
       "      <th>gir</th>\n",
       "      <td>6704</td>\n",
       "      <td>3722</td>\n",
       "      <td>1521</td>\n",
       "      <td>1521</td>\n",
       "      <td>2312</td>\n",
       "    </tr>\n",
       "    <tr>\n",
       "      <th>code_expl</th>\n",
       "      <td>6192449487677451</td>\n",
       "      <td>6192449487677451</td>\n",
       "      <td>6192449487677451</td>\n",
       "      <td>6192449487677451</td>\n",
       "      <td>6192449487677451</td>\n",
       "    </tr>\n",
       "    <tr>\n",
       "      <th>pty</th>\n",
       "      <td>67/92</td>\n",
       "      <td>37/86</td>\n",
       "      <td>152/19</td>\n",
       "      <td>152/19</td>\n",
       "      <td>23/53</td>\n",
       "    </tr>\n",
       "    <tr>\n",
       "      <th>code_log</th>\n",
       "      <td>17</td>\n",
       "      <td>348</td>\n",
       "      <td>658</td>\n",
       "      <td>83</td>\n",
       "      <td>158</td>\n",
       "    </tr>\n",
       "    <tr>\n",
       "      <th>nom_ligne</th>\n",
       "      <td>Arènes / Plaisance Monestié</td>\n",
       "      <td>Jolimont / Ramonville</td>\n",
       "      <td>Empalot / IUC</td>\n",
       "      <td>Empalot / IUC</td>\n",
       "      <td>Jeanne d'Arc / Rangueil</td>\n",
       "    </tr>\n",
       "    <tr>\n",
       "      <th>ligne</th>\n",
       "      <td>67</td>\n",
       "      <td>37</td>\n",
       "      <td>152</td>\n",
       "      <td>152</td>\n",
       "      <td>23</td>\n",
       "    </tr>\n",
       "    <tr>\n",
       "      <th>ordre</th>\n",
       "      <td>6.00000</td>\n",
       "      <td>30.00000</td>\n",
       "      <td>11.00000</td>\n",
       "      <td>1.00000</td>\n",
       "      <td>33.00000</td>\n",
       "    </tr>\n",
       "    <tr>\n",
       "      <th>nom_log</th>\n",
       "      <td>Ardennes</td>\n",
       "      <td>Heredia</td>\n",
       "      <td>Rond-Point Langlade</td>\n",
       "      <td>Empalot</td>\n",
       "      <td>Colombette</td>\n",
       "    </tr>\n",
       "    <tr>\n",
       "      <th>id_ligne</th>\n",
       "      <td>67</td>\n",
       "      <td>37</td>\n",
       "      <td>152</td>\n",
       "      <td>152</td>\n",
       "      <td>23</td>\n",
       "    </tr>\n",
       "    <tr>\n",
       "      <th>nom_expl</th>\n",
       "      <td>tisseo</td>\n",
       "      <td>tisseo</td>\n",
       "      <td>tisseo</td>\n",
       "      <td>tisseo</td>\n",
       "      <td>tisseo</td>\n",
       "    </tr>\n",
       "    <tr>\n",
       "      <th>nom_iti</th>\n",
       "      <td>Cabanon - Arènes</td>\n",
       "      <td>Ramonville - Jolimont</td>\n",
       "      <td>Empalot - IUC</td>\n",
       "      <td>Empalot - IUC</td>\n",
       "      <td>Rangueil - Jeanne d'Arc</td>\n",
       "    </tr>\n",
       "    <tr>\n",
       "      <th>sens</th>\n",
       "      <td>1.00000</td>\n",
       "      <td>1.00000</td>\n",
       "      <td>0.00000</td>\n",
       "      <td>0.00000</td>\n",
       "      <td>1.00000</td>\n",
       "    </tr>\n",
       "    <tr>\n",
       "      <th>id</th>\n",
       "      <td>4293.00000</td>\n",
       "      <td>1748.00000</td>\n",
       "      <td>852.00000</td>\n",
       "      <td>842.00000</td>\n",
       "      <td>1237.00000</td>\n",
       "    </tr>\n",
       "    <tr>\n",
       "      <th>mode</th>\n",
       "      <td>bus</td>\n",
       "      <td>bus</td>\n",
       "      <td>bus</td>\n",
       "      <td>bus</td>\n",
       "      <td>bus</td>\n",
       "    </tr>\n",
       "    <tr>\n",
       "      <th>geometry</th>\n",
       "      <td>POINT (1.373453661616005 43.5831627390503)</td>\n",
       "      <td>POINT (1.467399995567574 43.61238500420259)</td>\n",
       "      <td>POINT (1.425047019742917 43.56682525285009)</td>\n",
       "      <td>POINT (1.441736127593758 43.58012393748482)</td>\n",
       "      <td>POINT (1.45648869386283 43.6059012352077)</td>\n",
       "    </tr>\n",
       "    <tr>\n",
       "      <th>latitude</th>\n",
       "      <td>43.58316</td>\n",
       "      <td>43.61239</td>\n",
       "      <td>43.56683</td>\n",
       "      <td>43.58012</td>\n",
       "      <td>43.60590</td>\n",
       "    </tr>\n",
       "    <tr>\n",
       "      <th>longitude</th>\n",
       "      <td>1.37345</td>\n",
       "      <td>1.46740</td>\n",
       "      <td>1.42505</td>\n",
       "      <td>1.44174</td>\n",
       "      <td>1.45649</td>\n",
       "    </tr>\n",
       "  </tbody>\n",
       "</table>\n",
       "</div>"
      ],
      "text/plain": [
       "                                                    0  \\\n",
       "index                                               0   \n",
       "gir                                              6704   \n",
       "code_expl                            6192449487677451   \n",
       "pty                                             67/92   \n",
       "code_log                                           17   \n",
       "nom_ligne                 Arènes / Plaisance Monestié   \n",
       "ligne                                              67   \n",
       "ordre                                         6.00000   \n",
       "nom_log                                      Ardennes   \n",
       "id_ligne                                           67   \n",
       "nom_expl                                       tisseo   \n",
       "nom_iti                              Cabanon - Arènes   \n",
       "sens                                          1.00000   \n",
       "id                                         4293.00000   \n",
       "mode                                              bus   \n",
       "geometry   POINT (1.373453661616005 43.5831627390503)   \n",
       "latitude                                     43.58316   \n",
       "longitude                                     1.37345   \n",
       "\n",
       "                                                     1  \\\n",
       "index                                                1   \n",
       "gir                                               3722   \n",
       "code_expl                             6192449487677451   \n",
       "pty                                              37/86   \n",
       "code_log                                           348   \n",
       "nom_ligne                        Jolimont / Ramonville   \n",
       "ligne                                               37   \n",
       "ordre                                         30.00000   \n",
       "nom_log                                        Heredia   \n",
       "id_ligne                                            37   \n",
       "nom_expl                                        tisseo   \n",
       "nom_iti                          Ramonville - Jolimont   \n",
       "sens                                           1.00000   \n",
       "id                                          1748.00000   \n",
       "mode                                               bus   \n",
       "geometry   POINT (1.467399995567574 43.61238500420259)   \n",
       "latitude                                      43.61239   \n",
       "longitude                                      1.46740   \n",
       "\n",
       "                                                     2  \\\n",
       "index                                                2   \n",
       "gir                                               1521   \n",
       "code_expl                             6192449487677451   \n",
       "pty                                             152/19   \n",
       "code_log                                           658   \n",
       "nom_ligne                                Empalot / IUC   \n",
       "ligne                                              152   \n",
       "ordre                                         11.00000   \n",
       "nom_log                            Rond-Point Langlade   \n",
       "id_ligne                                           152   \n",
       "nom_expl                                        tisseo   \n",
       "nom_iti                                  Empalot - IUC   \n",
       "sens                                           0.00000   \n",
       "id                                           852.00000   \n",
       "mode                                               bus   \n",
       "geometry   POINT (1.425047019742917 43.56682525285009)   \n",
       "latitude                                      43.56683   \n",
       "longitude                                      1.42505   \n",
       "\n",
       "                                                     3  \\\n",
       "index                                                3   \n",
       "gir                                               1521   \n",
       "code_expl                             6192449487677451   \n",
       "pty                                             152/19   \n",
       "code_log                                            83   \n",
       "nom_ligne                                Empalot / IUC   \n",
       "ligne                                              152   \n",
       "ordre                                          1.00000   \n",
       "nom_log                                        Empalot   \n",
       "id_ligne                                           152   \n",
       "nom_expl                                        tisseo   \n",
       "nom_iti                                  Empalot - IUC   \n",
       "sens                                           0.00000   \n",
       "id                                           842.00000   \n",
       "mode                                               bus   \n",
       "geometry   POINT (1.441736127593758 43.58012393748482)   \n",
       "latitude                                      43.58012   \n",
       "longitude                                      1.44174   \n",
       "\n",
       "                                                   4  \n",
       "index                                              4  \n",
       "gir                                             2312  \n",
       "code_expl                           6192449487677451  \n",
       "pty                                            23/53  \n",
       "code_log                                         158  \n",
       "nom_ligne                    Jeanne d'Arc / Rangueil  \n",
       "ligne                                             23  \n",
       "ordre                                       33.00000  \n",
       "nom_log                                   Colombette  \n",
       "id_ligne                                          23  \n",
       "nom_expl                                      tisseo  \n",
       "nom_iti                      Rangueil - Jeanne d'Arc  \n",
       "sens                                         1.00000  \n",
       "id                                        1237.00000  \n",
       "mode                                             bus  \n",
       "geometry   POINT (1.45648869386283 43.6059012352077)  \n",
       "latitude                                    43.60590  \n",
       "longitude                                    1.45649  "
      ]
     },
     "execution_count": 42,
     "metadata": {},
     "output_type": "execute_result"
    }
   ],
   "source": [
    "input_file_busstops = \"datasets_demo/busstops_Toulouse.geojson\"\n",
    "gdf_raw = load_and_prepare_busstops(filepath = input_file_busstops)\n",
    "\n",
    "# display first 5 rows of the geodataframe, transposed\n",
    "gdf_raw.head().T"
   ]
  },
  {
   "cell_type": "code",
   "execution_count": 43,
   "metadata": {},
   "outputs": [],
   "source": [
    "def base_empty_map():\n",
    "    \"\"\"Prepares a folium map centered in a central GPS point of Toulouse\"\"\"\n",
    "    m = Map(location = [43.600378, 1.445478],\n",
    "            zoom_start = 9.5,\n",
    "            tiles = \"cartodbpositron\",\n",
    "            attr = '''© <a href=\"http://www.openstreetmap.org/copyright\">\n",
    "                      OpenStreetMap</a>contributors ©\n",
    "                      <a href=\"http://cartodb.com/attributions#basemaps\">\n",
    "                      CartoDB</a>'''\n",
    "            )\n",
    "    return m"
   ]
  },
  {
   "cell_type": "code",
   "execution_count": null,
   "metadata": {},
   "outputs": [],
   "source": [
    "# quick visualization on map of raw data\n",
    "\n",
    "m = base_empty_map()\n",
    "mc = MarkerCluster()\n",
    "\n",
    "gdf_dedup = gdf_raw.drop_duplicates(subset=[\"latitude\", \"longitude\"])\n",
    "print(\"Total number of bus stops in deduplicated dataset\", gdf_dedup.shape[0]) \n",
    "\n",
    "for i, row in gdf_dedup.iterrows():\n",
    "    mk = Marker(location=[row[\"latitude\"], row[\"longitude\"]])\n",
    "    mk.add_to(mc)\n",
    "\n",
    "mc.add_to(m)\n",
    "m"
   ]
  },
  {
   "cell_type": "code",
   "execution_count": 45,
   "metadata": {},
   "outputs": [
    {
     "data": {
      : [
       "<Figure size 1080x720 with 1 Axes>"
      ]
     },
     "metadata": {
      "needs_background": "light"
     },
     "output_type": "display_data"
    }
   ],
   "source": [
    "fig, ax = plt.subplots(1, 1, figsize = (15, 10))\n",
    "\n",
    "im1 = pilim.open('images/2_markers_busstops.png', 'r')\n",
    "ax.imshow(np.asarray(im1))\n",
    "ax.set_axis_off();\n"
   ]
  },
  {
   "cell_type": "markdown",
   "metadata": {},
   "source": [
    "Better yet, we can plot a heatmap with pydeck (Docs at https://pydeck.gl/index.html):"
   ]
  },
  {
   "cell_type": "code",
   "execution_count": null,
   "metadata": {},
   "outputs": [],
   "source": [
    "help(pydeck.Deck.__init__)"
   ]
  },
  {
   "cell_type": "code",
   "execution_count": 47,
   "metadata": {},
   "outputs": [
    {
     "name": "stdout",
     "output_type": "stream",
     "text": [
      "[0, 104, 55]\n",
      "[117, 195, 100]\n",
      "[235, 231, 139]\n",
      "[246, 125, 74]\n",
      "[165, 0, 38]\n"
     ]
    },
    {
     "data": {
      "text/html": [
       "<svg height=\"50\" width=\"500\"><line x1=\"0\" y1=\"0\" x2=\"0\" y2=\"20\" style=\"stroke:#a50026ff;stroke-width:3;\" /><line x1=\"1\" y1=\"0\" x2=\"1\" y2=\"20\" style=\"stroke:#a50026ff;stroke-width:3;\" /><line x1=\"2\" y1=\"0\" x2=\"2\" y2=\"20\" style=\"stroke:#a50026ff;stroke-width:3;\" /><line x1=\"3\" y1=\"0\" x2=\"3\" y2=\"20\" style=\"stroke:#a50026ff;stroke-width:3;\" /><line x1=\"4\" y1=\"0\" x2=\"4\" y2=\"20\" style=\"stroke:#a50026ff;stroke-width:3;\" /><line x1=\"5\" y1=\"0\" x2=\"5\" y2=\"20\" style=\"stroke:#a50026ff;stroke-width:3;\" /><line x1=\"6\" y1=\"0\" x2=\"6\" y2=\"20\" style=\"stroke:#a50026ff;stroke-width:3;\" /><line x1=\"7\" y1=\"0\" x2=\"7\" y2=\"20\" style=\"stroke:#a50026ff;stroke-width:3;\" /><line x1=\"8\" y1=\"0\" x2=\"8\" y2=\"20\" style=\"stroke:#a50026ff;stroke-width:3;\" /><line x1=\"9\" y1=\"0\" x2=\"9\" y2=\"20\" style=\"stroke:#a50026ff;stroke-width:3;\" /><line x1=\"10\" y1=\"0\" x2=\"10\" y2=\"20\" style=\"stroke:#a50026ff;stroke-width:3;\" /><line x1=\"11\" y1=\"0\" x2=\"11\" y2=\"20\" style=\"stroke:#a50026ff;stroke-width:3;\" /><line x1=\"12\" y1=\"0\" x2=\"12\" y2=\"20\" style=\"stroke:#a50026ff;stroke-width:3;\" /><line x1=\"13\" y1=\"0\" x2=\"13\" y2=\"20\" style=\"stroke:#a50026ff;stroke-width:3;\" /><line x1=\"14\" y1=\"0\" x2=\"14\" y2=\"20\" style=\"stroke:#a50026ff;stroke-width:3;\" /><line x1=\"15\" y1=\"0\" x2=\"15\" y2=\"20\" style=\"stroke:#a50026ff;stroke-width:3;\" /><line x1=\"16\" y1=\"0\" x2=\"16\" y2=\"20\" style=\"stroke:#a50026ff;stroke-width:3;\" /><line x1=\"17\" y1=\"0\" x2=\"17\" y2=\"20\" style=\"stroke:#a50026ff;stroke-width:3;\" /><line x1=\"18\" y1=\"0\" x2=\"18\" y2=\"20\" style=\"stroke:#a50026ff;stroke-width:3;\" /><line x1=\"19\" y1=\"0\" x2=\"19\" y2=\"20\" style=\"stroke:#a50026ff;stroke-width:3;\" /><line x1=\"20\" y1=\"0\" x2=\"20\" y2=\"20\" style=\"stroke:#a50026ff;stroke-width:3;\" /><line x1=\"21\" y1=\"0\" x2=\"21\" y2=\"20\" style=\"stroke:#a50026ff;stroke-width:3;\" /><line x1=\"22\" y1=\"0\" x2=\"22\" y2=\"20\" style=\"stroke:#a50026ff;stroke-width:3;\" /><line x1=\"23\" y1=\"0\" x2=\"23\" y2=\"20\" style=\"stroke:#a50026ff;stroke-width:3;\" /><line x1=\"24\" y1=\"0\" x2=\"24\" y2=\"20\" style=\"stroke:#a50026ff;stroke-width:3;\" /><line x1=\"25\" y1=\"0\" x2=\"25\" y2=\"20\" style=\"stroke:#a50026ff;stroke-width:3;\" /><line x1=\"26\" y1=\"0\" x2=\"26\" y2=\"20\" style=\"stroke:#a50026ff;stroke-width:3;\" /><line x1=\"27\" y1=\"0\" x2=\"27\" y2=\"20\" style=\"stroke:#a50026ff;stroke-width:3;\" /><line x1=\"28\" y1=\"0\" x2=\"28\" y2=\"20\" style=\"stroke:#a50026ff;stroke-width:3;\" /><line x1=\"29\" y1=\"0\" x2=\"29\" y2=\"20\" style=\"stroke:#a50026ff;stroke-width:3;\" /><line x1=\"30\" y1=\"0\" x2=\"30\" y2=\"20\" style=\"stroke:#a50026ff;stroke-width:3;\" /><line x1=\"31\" y1=\"0\" x2=\"31\" y2=\"20\" style=\"stroke:#a50026ff;stroke-width:3;\" /><line x1=\"32\" y1=\"0\" x2=\"32\" y2=\"20\" style=\"stroke:#a50026ff;stroke-width:3;\" /><line x1=\"33\" y1=\"0\" x2=\"33\" y2=\"20\" style=\"stroke:#a50026ff;stroke-width:3;\" /><line x1=\"34\" y1=\"0\" x2=\"34\" y2=\"20\" style=\"stroke:#a50026ff;stroke-width:3;\" /><line x1=\"35\" y1=\"0\" x2=\"35\" y2=\"20\" style=\"stroke:#a50026ff;stroke-width:3;\" /><line x1=\"36\" y1=\"0\" x2=\"36\" y2=\"20\" style=\"stroke:#a50026ff;stroke-width:3;\" /><line x1=\"37\" y1=\"0\" x2=\"37\" y2=\"20\" style=\"stroke:#a50026ff;stroke-width:3;\" /><line x1=\"38\" y1=\"0\" x2=\"38\" y2=\"20\" style=\"stroke:#a50026ff;stroke-width:3;\" /><line x1=\"39\" y1=\"0\" x2=\"39\" y2=\"20\" style=\"stroke:#a50026ff;stroke-width:3;\" /><line x1=\"40\" y1=\"0\" x2=\"40\" y2=\"20\" style=\"stroke:#a50026ff;stroke-width:3;\" /><line x1=\"41\" y1=\"0\" x2=\"41\" y2=\"20\" style=\"stroke:#a50026ff;stroke-width:3;\" /><line x1=\"42\" y1=\"0\" x2=\"42\" y2=\"20\" style=\"stroke:#a50026ff;stroke-width:3;\" /><line x1=\"43\" y1=\"0\" x2=\"43\" y2=\"20\" style=\"stroke:#a50026ff;stroke-width:3;\" /><line x1=\"44\" y1=\"0\" x2=\"44\" y2=\"20\" style=\"stroke:#a50026ff;stroke-width:3;\" /><line x1=\"45\" y1=\"0\" x2=\"45\" y2=\"20\" style=\"stroke:#a50026ff;stroke-width:3;\" /><line x1=\"46\" y1=\"0\" x2=\"46\" y2=\"20\" style=\"stroke:#a50026ff;stroke-width:3;\" /><line x1=\"47\" y1=\"0\" x2=\"47\" y2=\"20\" style=\"stroke:#a50026ff;stroke-width:3;\" /><line x1=\"48\" y1=\"0\" x2=\"48\" y2=\"20\" style=\"stroke:#a50026ff;stroke-width:3;\" /><line x1=\"49\" y1=\"0\" x2=\"49\" y2=\"20\" style=\"stroke:#a50026ff;stroke-width:3;\" /><line x1=\"50\" y1=\"0\" x2=\"50\" y2=\"20\" style=\"stroke:#a50026ff;stroke-width:3;\" /><line x1=\"51\" y1=\"0\" x2=\"51\" y2=\"20\" style=\"stroke:#a50026ff;stroke-width:3;\" /><line x1=\"52\" y1=\"0\" x2=\"52\" y2=\"20\" style=\"stroke:#a50026ff;stroke-width:3;\" /><line x1=\"53\" y1=\"0\" x2=\"53\" y2=\"20\" style=\"stroke:#a50026ff;stroke-width:3;\" /><line x1=\"54\" y1=\"0\" x2=\"54\" y2=\"20\" style=\"stroke:#a50026ff;stroke-width:3;\" /><line x1=\"55\" y1=\"0\" x2=\"55\" y2=\"20\" style=\"stroke:#a50026ff;stroke-width:3;\" /><line x1=\"56\" y1=\"0\" x2=\"56\" y2=\"20\" style=\"stroke:#a50026ff;stroke-width:3;\" /><line x1=\"57\" y1=\"0\" x2=\"57\" y2=\"20\" style=\"stroke:#a50026ff;stroke-width:3;\" /><line x1=\"58\" y1=\"0\" x2=\"58\" y2=\"20\" style=\"stroke:#a50026ff;stroke-width:3;\" /><line x1=\"59\" y1=\"0\" x2=\"59\" y2=\"20\" style=\"stroke:#a50026ff;stroke-width:3;\" /><line x1=\"60\" y1=\"0\" x2=\"60\" y2=\"20\" style=\"stroke:#a50026ff;stroke-width:3;\" /><line x1=\"61\" y1=\"0\" x2=\"61\" y2=\"20\" style=\"stroke:#a50026ff;stroke-width:3;\" /><line x1=\"62\" y1=\"0\" x2=\"62\" y2=\"20\" style=\"stroke:#a50026ff;stroke-width:3;\" /><line x1=\"63\" y1=\"0\" x2=\"63\" y2=\"20\" style=\"stroke:#a50026ff;stroke-width:3;\" /><line x1=\"64\" y1=\"0\" x2=\"64\" y2=\"20\" style=\"stroke:#a50026ff;stroke-width:3;\" /><line x1=\"65\" y1=\"0\" x2=\"65\" y2=\"20\" style=\"stroke:#a50026ff;stroke-width:3;\" /><line x1=\"66\" y1=\"0\" x2=\"66\" y2=\"20\" style=\"stroke:#a50026ff;stroke-width:3;\" /><line x1=\"67\" y1=\"0\" x2=\"67\" y2=\"20\" style=\"stroke:#a50026ff;stroke-width:3;\" /><line x1=\"68\" y1=\"0\" x2=\"68\" y2=\"20\" style=\"stroke:#a50026ff;stroke-width:3;\" /><line x1=\"69\" y1=\"0\" x2=\"69\" y2=\"20\" style=\"stroke:#a50026ff;stroke-width:3;\" /><line x1=\"70\" y1=\"0\" x2=\"70\" y2=\"20\" style=\"stroke:#a50026ff;stroke-width:3;\" /><line x1=\"71\" y1=\"0\" x2=\"71\" y2=\"20\" style=\"stroke:#a50026ff;stroke-width:3;\" /><line x1=\"72\" y1=\"0\" x2=\"72\" y2=\"20\" style=\"stroke:#a50026ff;stroke-width:3;\" /><line x1=\"73\" y1=\"0\" x2=\"73\" y2=\"20\" style=\"stroke:#a50026ff;stroke-width:3;\" /><line x1=\"74\" y1=\"0\" x2=\"74\" y2=\"20\" style=\"stroke:#a50026ff;stroke-width:3;\" /><line x1=\"75\" y1=\"0\" x2=\"75\" y2=\"20\" style=\"stroke:#a50026ff;stroke-width:3;\" /><line x1=\"76\" y1=\"0\" x2=\"76\" y2=\"20\" style=\"stroke:#a50026ff;stroke-width:3;\" /><line x1=\"77\" y1=\"0\" x2=\"77\" y2=\"20\" style=\"stroke:#a50026ff;stroke-width:3;\" /><line x1=\"78\" y1=\"0\" x2=\"78\" y2=\"20\" style=\"stroke:#a50026ff;stroke-width:3;\" /><line x1=\"79\" y1=\"0\" x2=\"79\" y2=\"20\" style=\"stroke:#a50026ff;stroke-width:3;\" /><line x1=\"80\" y1=\"0\" x2=\"80\" y2=\"20\" style=\"stroke:#a50026ff;stroke-width:3;\" /><line x1=\"81\" y1=\"0\" x2=\"81\" y2=\"20\" style=\"stroke:#a50026ff;stroke-width:3;\" /><line x1=\"82\" y1=\"0\" x2=\"82\" y2=\"20\" style=\"stroke:#a50026ff;stroke-width:3;\" /><line x1=\"83\" y1=\"0\" x2=\"83\" y2=\"20\" style=\"stroke:#a50026ff;stroke-width:3;\" /><line x1=\"84\" y1=\"0\" x2=\"84\" y2=\"20\" style=\"stroke:#a50026ff;stroke-width:3;\" /><line x1=\"85\" y1=\"0\" x2=\"85\" y2=\"20\" style=\"stroke:#a50026ff;stroke-width:3;\" /><line x1=\"86\" y1=\"0\" x2=\"86\" y2=\"20\" style=\"stroke:#a50026ff;stroke-width:3;\" /><line x1=\"87\" y1=\"0\" x2=\"87\" y2=\"20\" style=\"stroke:#a50026ff;stroke-width:3;\" /><line x1=\"88\" y1=\"0\" x2=\"88\" y2=\"20\" style=\"stroke:#a50026ff;stroke-width:3;\" /><line x1=\"89\" y1=\"0\" x2=\"89\" y2=\"20\" style=\"stroke:#a50026ff;stroke-width:3;\" /><line x1=\"90\" y1=\"0\" x2=\"90\" y2=\"20\" style=\"stroke:#a50026ff;stroke-width:3;\" /><line x1=\"91\" y1=\"0\" x2=\"91\" y2=\"20\" style=\"stroke:#a50026ff;stroke-width:3;\" /><line x1=\"92\" y1=\"0\" x2=\"92\" y2=\"20\" style=\"stroke:#a50026ff;stroke-width:3;\" /><line x1=\"93\" y1=\"0\" x2=\"93\" y2=\"20\" style=\"stroke:#a50026ff;stroke-width:3;\" /><line x1=\"94\" y1=\"0\" x2=\"94\" y2=\"20\" style=\"stroke:#a50026ff;stroke-width:3;\" /><line x1=\"95\" y1=\"0\" x2=\"95\" y2=\"20\" style=\"stroke:#a50026ff;stroke-width:3;\" /><line x1=\"96\" y1=\"0\" x2=\"96\" y2=\"20\" style=\"stroke:#a50026ff;stroke-width:3;\" /><line x1=\"97\" y1=\"0\" x2=\"97\" y2=\"20\" style=\"stroke:#a50026ff;stroke-width:3;\" /><line x1=\"98\" y1=\"0\" x2=\"98\" y2=\"20\" style=\"stroke:#a50026ff;stroke-width:3;\" /><line x1=\"99\" y1=\"0\" x2=\"99\" y2=\"20\" style=\"stroke:#a50026ff;stroke-width:3;\" /><line x1=\"100\" y1=\"0\" x2=\"100\" y2=\"20\" style=\"stroke:#f77d4aff;stroke-width:3;\" /><line x1=\"101\" y1=\"0\" x2=\"101\" y2=\"20\" style=\"stroke:#f77d4aff;stroke-width:3;\" /><line x1=\"102\" y1=\"0\" x2=\"102\" y2=\"20\" style=\"stroke:#f77d4aff;stroke-width:3;\" /><line x1=\"103\" y1=\"0\" x2=\"103\" y2=\"20\" style=\"stroke:#f77d4aff;stroke-width:3;\" /><line x1=\"104\" y1=\"0\" x2=\"104\" y2=\"20\" style=\"stroke:#f77d4aff;stroke-width:3;\" /><line x1=\"105\" y1=\"0\" x2=\"105\" y2=\"20\" style=\"stroke:#f77d4aff;stroke-width:3;\" /><line x1=\"106\" y1=\"0\" x2=\"106\" y2=\"20\" style=\"stroke:#f77d4aff;stroke-width:3;\" /><line x1=\"107\" y1=\"0\" x2=\"107\" y2=\"20\" style=\"stroke:#f77d4aff;stroke-width:3;\" /><line x1=\"108\" y1=\"0\" x2=\"108\" y2=\"20\" style=\"stroke:#f77d4aff;stroke-width:3;\" /><line x1=\"109\" y1=\"0\" x2=\"109\" y2=\"20\" style=\"stroke:#f77d4aff;stroke-width:3;\" /><line x1=\"110\" y1=\"0\" x2=\"110\" y2=\"20\" style=\"stroke:#f77d4aff;stroke-width:3;\" /><line x1=\"111\" y1=\"0\" x2=\"111\" y2=\"20\" style=\"stroke:#f77d4aff;stroke-width:3;\" /><line x1=\"112\" y1=\"0\" x2=\"112\" y2=\"20\" style=\"stroke:#f77d4aff;stroke-width:3;\" /><line x1=\"113\" y1=\"0\" x2=\"113\" y2=\"20\" style=\"stroke:#f77d4aff;stroke-width:3;\" /><line x1=\"114\" y1=\"0\" x2=\"114\" y2=\"20\" style=\"stroke:#f77d4aff;stroke-width:3;\" /><line x1=\"115\" y1=\"0\" x2=\"115\" y2=\"20\" style=\"stroke:#f77d4aff;stroke-width:3;\" /><line x1=\"116\" y1=\"0\" x2=\"116\" y2=\"20\" style=\"stroke:#f77d4aff;stroke-width:3;\" /><line x1=\"117\" y1=\"0\" x2=\"117\" y2=\"20\" style=\"stroke:#f77d4aff;stroke-width:3;\" /><line x1=\"118\" y1=\"0\" x2=\"118\" y2=\"20\" style=\"stroke:#f77d4aff;stroke-width:3;\" /><line x1=\"119\" y1=\"0\" x2=\"119\" y2=\"20\" style=\"stroke:#f77d4aff;stroke-width:3;\" /><line x1=\"120\" y1=\"0\" x2=\"120\" y2=\"20\" style=\"stroke:#f77d4aff;stroke-width:3;\" /><line x1=\"121\" y1=\"0\" x2=\"121\" y2=\"20\" style=\"stroke:#f77d4aff;stroke-width:3;\" /><line x1=\"122\" y1=\"0\" x2=\"122\" y2=\"20\" style=\"stroke:#f77d4aff;stroke-width:3;\" /><line x1=\"123\" y1=\"0\" x2=\"123\" y2=\"20\" style=\"stroke:#f77d4aff;stroke-width:3;\" /><line x1=\"124\" y1=\"0\" x2=\"124\" y2=\"20\" style=\"stroke:#f77d4aff;stroke-width:3;\" /><line x1=\"125\" y1=\"0\" x2=\"125\" y2=\"20\" style=\"stroke:#f77d4aff;stroke-width:3;\" /><line x1=\"126\" y1=\"0\" x2=\"126\" y2=\"20\" style=\"stroke:#f77d4aff;stroke-width:3;\" /><line x1=\"127\" y1=\"0\" x2=\"127\" y2=\"20\" style=\"stroke:#f77d4aff;stroke-width:3;\" /><line x1=\"128\" y1=\"0\" x2=\"128\" y2=\"20\" style=\"stroke:#f77d4aff;stroke-width:3;\" /><line x1=\"129\" y1=\"0\" x2=\"129\" y2=\"20\" style=\"stroke:#f77d4aff;stroke-width:3;\" /><line x1=\"130\" y1=\"0\" x2=\"130\" y2=\"20\" style=\"stroke:#f77d4aff;stroke-width:3;\" /><line x1=\"131\" y1=\"0\" x2=\"131\" y2=\"20\" style=\"stroke:#f77d4aff;stroke-width:3;\" /><line x1=\"132\" y1=\"0\" x2=\"132\" y2=\"20\" style=\"stroke:#f77d4aff;stroke-width:3;\" /><line x1=\"133\" y1=\"0\" x2=\"133\" y2=\"20\" style=\"stroke:#f77d4aff;stroke-width:3;\" /><line x1=\"134\" y1=\"0\" x2=\"134\" y2=\"20\" style=\"stroke:#f77d4aff;stroke-width:3;\" /><line x1=\"135\" y1=\"0\" x2=\"135\" y2=\"20\" style=\"stroke:#f77d4aff;stroke-width:3;\" /><line x1=\"136\" y1=\"0\" x2=\"136\" y2=\"20\" style=\"stroke:#f77d4aff;stroke-width:3;\" /><line x1=\"137\" y1=\"0\" x2=\"137\" y2=\"20\" style=\"stroke:#f77d4aff;stroke-width:3;\" /><line x1=\"138\" y1=\"0\" x2=\"138\" y2=\"20\" style=\"stroke:#f77d4aff;stroke-width:3;\" /><line x1=\"139\" y1=\"0\" x2=\"139\" y2=\"20\" style=\"stroke:#f77d4aff;stroke-width:3;\" /><line x1=\"140\" y1=\"0\" x2=\"140\" y2=\"20\" style=\"stroke:#f77d4aff;stroke-width:3;\" /><line x1=\"141\" y1=\"0\" x2=\"141\" y2=\"20\" style=\"stroke:#f77d4aff;stroke-width:3;\" /><line x1=\"142\" y1=\"0\" x2=\"142\" y2=\"20\" style=\"stroke:#f77d4aff;stroke-width:3;\" /><line x1=\"143\" y1=\"0\" x2=\"143\" y2=\"20\" style=\"stroke:#f77d4aff;stroke-width:3;\" /><line x1=\"144\" y1=\"0\" x2=\"144\" y2=\"20\" style=\"stroke:#f77d4aff;stroke-width:3;\" /><line x1=\"145\" y1=\"0\" x2=\"145\" y2=\"20\" style=\"stroke:#f77d4aff;stroke-width:3;\" /><line x1=\"146\" y1=\"0\" x2=\"146\" y2=\"20\" style=\"stroke:#f77d4aff;stroke-width:3;\" /><line x1=\"147\" y1=\"0\" x2=\"147\" y2=\"20\" style=\"stroke:#f77d4aff;stroke-width:3;\" /><line x1=\"148\" y1=\"0\" x2=\"148\" y2=\"20\" style=\"stroke:#f77d4aff;stroke-width:3;\" /><line x1=\"149\" y1=\"0\" x2=\"149\" y2=\"20\" style=\"stroke:#f77d4aff;stroke-width:3;\" /><line x1=\"150\" y1=\"0\" x2=\"150\" y2=\"20\" style=\"stroke:#f77d4aff;stroke-width:3;\" /><line x1=\"151\" y1=\"0\" x2=\"151\" y2=\"20\" style=\"stroke:#f77d4aff;stroke-width:3;\" /><line x1=\"152\" y1=\"0\" x2=\"152\" y2=\"20\" style=\"stroke:#f77d4aff;stroke-width:3;\" /><line x1=\"153\" y1=\"0\" x2=\"153\" y2=\"20\" style=\"stroke:#f77d4aff;stroke-width:3;\" /><line x1=\"154\" y1=\"0\" x2=\"154\" y2=\"20\" style=\"stroke:#f77d4aff;stroke-width:3;\" /><line x1=\"155\" y1=\"0\" x2=\"155\" y2=\"20\" style=\"stroke:#f77d4aff;stroke-width:3;\" /><line x1=\"156\" y1=\"0\" x2=\"156\" y2=\"20\" style=\"stroke:#f77d4aff;stroke-width:3;\" /><line x1=\"157\" y1=\"0\" x2=\"157\" y2=\"20\" style=\"stroke:#f77d4aff;stroke-width:3;\" /><line x1=\"158\" y1=\"0\" x2=\"158\" y2=\"20\" style=\"stroke:#f77d4aff;stroke-width:3;\" /><line x1=\"159\" y1=\"0\" x2=\"159\" y2=\"20\" style=\"stroke:#f77d4aff;stroke-width:3;\" /><line x1=\"160\" y1=\"0\" x2=\"160\" y2=\"20\" style=\"stroke:#f77d4aff;stroke-width:3;\" /><line x1=\"161\" y1=\"0\" x2=\"161\" y2=\"20\" style=\"stroke:#f77d4aff;stroke-width:3;\" /><line x1=\"162\" y1=\"0\" x2=\"162\" y2=\"20\" style=\"stroke:#f77d4aff;stroke-width:3;\" /><line x1=\"163\" y1=\"0\" x2=\"163\" y2=\"20\" style=\"stroke:#f77d4aff;stroke-width:3;\" /><line x1=\"164\" y1=\"0\" x2=\"164\" y2=\"20\" style=\"stroke:#f77d4aff;stroke-width:3;\" /><line x1=\"165\" y1=\"0\" x2=\"165\" y2=\"20\" style=\"stroke:#f77d4aff;stroke-width:3;\" /><line x1=\"166\" y1=\"0\" x2=\"166\" y2=\"20\" style=\"stroke:#f77d4aff;stroke-width:3;\" /><line x1=\"167\" y1=\"0\" x2=\"167\" y2=\"20\" style=\"stroke:#f77d4aff;stroke-width:3;\" /><line x1=\"168\" y1=\"0\" x2=\"168\" y2=\"20\" style=\"stroke:#f77d4aff;stroke-width:3;\" /><line x1=\"169\" y1=\"0\" x2=\"169\" y2=\"20\" style=\"stroke:#f77d4aff;stroke-width:3;\" /><line x1=\"170\" y1=\"0\" x2=\"170\" y2=\"20\" style=\"stroke:#f77d4aff;stroke-width:3;\" /><line x1=\"171\" y1=\"0\" x2=\"171\" y2=\"20\" style=\"stroke:#f77d4aff;stroke-width:3;\" /><line x1=\"172\" y1=\"0\" x2=\"172\" y2=\"20\" style=\"stroke:#f77d4aff;stroke-width:3;\" /><line x1=\"173\" y1=\"0\" x2=\"173\" y2=\"20\" style=\"stroke:#f77d4aff;stroke-width:3;\" /><line x1=\"174\" y1=\"0\" x2=\"174\" y2=\"20\" style=\"stroke:#f77d4aff;stroke-width:3;\" /><line x1=\"175\" y1=\"0\" x2=\"175\" y2=\"20\" style=\"stroke:#f77d4aff;stroke-width:3;\" /><line x1=\"176\" y1=\"0\" x2=\"176\" y2=\"20\" style=\"stroke:#f77d4aff;stroke-width:3;\" /><line x1=\"177\" y1=\"0\" x2=\"177\" y2=\"20\" style=\"stroke:#f77d4aff;stroke-width:3;\" /><line x1=\"178\" y1=\"0\" x2=\"178\" y2=\"20\" style=\"stroke:#f77d4aff;stroke-width:3;\" /><line x1=\"179\" y1=\"0\" x2=\"179\" y2=\"20\" style=\"stroke:#f77d4aff;stroke-width:3;\" /><line x1=\"180\" y1=\"0\" x2=\"180\" y2=\"20\" style=\"stroke:#f77d4aff;stroke-width:3;\" /><line x1=\"181\" y1=\"0\" x2=\"181\" y2=\"20\" style=\"stroke:#f77d4aff;stroke-width:3;\" /><line x1=\"182\" y1=\"0\" x2=\"182\" y2=\"20\" style=\"stroke:#f77d4aff;stroke-width:3;\" /><line x1=\"183\" y1=\"0\" x2=\"183\" y2=\"20\" style=\"stroke:#f77d4aff;stroke-width:3;\" /><line x1=\"184\" y1=\"0\" x2=\"184\" y2=\"20\" style=\"stroke:#f77d4aff;stroke-width:3;\" /><line x1=\"185\" y1=\"0\" x2=\"185\" y2=\"20\" style=\"stroke:#f77d4aff;stroke-width:3;\" /><line x1=\"186\" y1=\"0\" x2=\"186\" y2=\"20\" style=\"stroke:#f77d4aff;stroke-width:3;\" /><line x1=\"187\" y1=\"0\" x2=\"187\" y2=\"20\" style=\"stroke:#f77d4aff;stroke-width:3;\" /><line x1=\"188\" y1=\"0\" x2=\"188\" y2=\"20\" style=\"stroke:#f77d4aff;stroke-width:3;\" /><line x1=\"189\" y1=\"0\" x2=\"189\" y2=\"20\" style=\"stroke:#f77d4aff;stroke-width:3;\" /><line x1=\"190\" y1=\"0\" x2=\"190\" y2=\"20\" style=\"stroke:#f77d4aff;stroke-width:3;\" /><line x1=\"191\" y1=\"0\" x2=\"191\" y2=\"20\" style=\"stroke:#f77d4aff;stroke-width:3;\" /><line x1=\"192\" y1=\"0\" x2=\"192\" y2=\"20\" style=\"stroke:#f77d4aff;stroke-width:3;\" /><line x1=\"193\" y1=\"0\" x2=\"193\" y2=\"20\" style=\"stroke:#f77d4aff;stroke-width:3;\" /><line x1=\"194\" y1=\"0\" x2=\"194\" y2=\"20\" style=\"stroke:#f77d4aff;stroke-width:3;\" /><line x1=\"195\" y1=\"0\" x2=\"195\" y2=\"20\" style=\"stroke:#f77d4aff;stroke-width:3;\" /><line x1=\"196\" y1=\"0\" x2=\"196\" y2=\"20\" style=\"stroke:#f77d4aff;stroke-width:3;\" /><line x1=\"197\" y1=\"0\" x2=\"197\" y2=\"20\" style=\"stroke:#f77d4aff;stroke-width:3;\" /><line x1=\"198\" y1=\"0\" x2=\"198\" y2=\"20\" style=\"stroke:#f77d4aff;stroke-width:3;\" /><line x1=\"199\" y1=\"0\" x2=\"199\" y2=\"20\" style=\"stroke:#f77d4aff;stroke-width:3;\" /><line x1=\"200\" y1=\"0\" x2=\"200\" y2=\"20\" style=\"stroke:#ece88bff;stroke-width:3;\" /><line x1=\"201\" y1=\"0\" x2=\"201\" y2=\"20\" style=\"stroke:#ece88bff;stroke-width:3;\" /><line x1=\"202\" y1=\"0\" x2=\"202\" y2=\"20\" style=\"stroke:#ece88bff;stroke-width:3;\" /><line x1=\"203\" y1=\"0\" x2=\"203\" y2=\"20\" style=\"stroke:#ece88bff;stroke-width:3;\" /><line x1=\"204\" y1=\"0\" x2=\"204\" y2=\"20\" style=\"stroke:#ece88bff;stroke-width:3;\" /><line x1=\"205\" y1=\"0\" x2=\"205\" y2=\"20\" style=\"stroke:#ece88bff;stroke-width:3;\" /><line x1=\"206\" y1=\"0\" x2=\"206\" y2=\"20\" style=\"stroke:#ece88bff;stroke-width:3;\" /><line x1=\"207\" y1=\"0\" x2=\"207\" y2=\"20\" style=\"stroke:#ece88bff;stroke-width:3;\" /><line x1=\"208\" y1=\"0\" x2=\"208\" y2=\"20\" style=\"stroke:#ece88bff;stroke-width:3;\" /><line x1=\"209\" y1=\"0\" x2=\"209\" y2=\"20\" style=\"stroke:#ece88bff;stroke-width:3;\" /><line x1=\"210\" y1=\"0\" x2=\"210\" y2=\"20\" style=\"stroke:#ece88bff;stroke-width:3;\" /><line x1=\"211\" y1=\"0\" x2=\"211\" y2=\"20\" style=\"stroke:#ece88bff;stroke-width:3;\" /><line x1=\"212\" y1=\"0\" x2=\"212\" y2=\"20\" style=\"stroke:#ece88bff;stroke-width:3;\" /><line x1=\"213\" y1=\"0\" x2=\"213\" y2=\"20\" style=\"stroke:#ece88bff;stroke-width:3;\" /><line x1=\"214\" y1=\"0\" x2=\"214\" y2=\"20\" style=\"stroke:#ece88bff;stroke-width:3;\" /><line x1=\"215\" y1=\"0\" x2=\"215\" y2=\"20\" style=\"stroke:#ece88bff;stroke-width:3;\" /><line x1=\"216\" y1=\"0\" x2=\"216\" y2=\"20\" style=\"stroke:#ece88bff;stroke-width:3;\" /><line x1=\"217\" y1=\"0\" x2=\"217\" y2=\"20\" style=\"stroke:#ece88bff;stroke-width:3;\" /><line x1=\"218\" y1=\"0\" x2=\"218\" y2=\"20\" style=\"stroke:#ece88bff;stroke-width:3;\" /><line x1=\"219\" y1=\"0\" x2=\"219\" y2=\"20\" style=\"stroke:#ece88bff;stroke-width:3;\" /><line x1=\"220\" y1=\"0\" x2=\"220\" y2=\"20\" style=\"stroke:#ece88bff;stroke-width:3;\" /><line x1=\"221\" y1=\"0\" x2=\"221\" y2=\"20\" style=\"stroke:#ece88bff;stroke-width:3;\" /><line x1=\"222\" y1=\"0\" x2=\"222\" y2=\"20\" style=\"stroke:#ece88bff;stroke-width:3;\" /><line x1=\"223\" y1=\"0\" x2=\"223\" y2=\"20\" style=\"stroke:#ece88bff;stroke-width:3;\" /><line x1=\"224\" y1=\"0\" x2=\"224\" y2=\"20\" style=\"stroke:#ece88bff;stroke-width:3;\" /><line x1=\"225\" y1=\"0\" x2=\"225\" y2=\"20\" style=\"stroke:#ece88bff;stroke-width:3;\" /><line x1=\"226\" y1=\"0\" x2=\"226\" y2=\"20\" style=\"stroke:#ece88bff;stroke-width:3;\" /><line x1=\"227\" y1=\"0\" x2=\"227\" y2=\"20\" style=\"stroke:#ece88bff;stroke-width:3;\" /><line x1=\"228\" y1=\"0\" x2=\"228\" y2=\"20\" style=\"stroke:#ece88bff;stroke-width:3;\" /><line x1=\"229\" y1=\"0\" x2=\"229\" y2=\"20\" style=\"stroke:#ece88bff;stroke-width:3;\" /><line x1=\"230\" y1=\"0\" x2=\"230\" y2=\"20\" style=\"stroke:#ece88bff;stroke-width:3;\" /><line x1=\"231\" y1=\"0\" x2=\"231\" y2=\"20\" style=\"stroke:#ece88bff;stroke-width:3;\" /><line x1=\"232\" y1=\"0\" x2=\"232\" y2=\"20\" style=\"stroke:#ece88bff;stroke-width:3;\" /><line x1=\"233\" y1=\"0\" x2=\"233\" y2=\"20\" style=\"stroke:#ece88bff;stroke-width:3;\" /><line x1=\"234\" y1=\"0\" x2=\"234\" y2=\"20\" style=\"stroke:#ece88bff;stroke-width:3;\" /><line x1=\"235\" y1=\"0\" x2=\"235\" y2=\"20\" style=\"stroke:#ece88bff;stroke-width:3;\" /><line x1=\"236\" y1=\"0\" x2=\"236\" y2=\"20\" style=\"stroke:#ece88bff;stroke-width:3;\" /><line x1=\"237\" y1=\"0\" x2=\"237\" y2=\"20\" style=\"stroke:#ece88bff;stroke-width:3;\" /><line x1=\"238\" y1=\"0\" x2=\"238\" y2=\"20\" style=\"stroke:#ece88bff;stroke-width:3;\" /><line x1=\"239\" y1=\"0\" x2=\"239\" y2=\"20\" style=\"stroke:#ece88bff;stroke-width:3;\" /><line x1=\"240\" y1=\"0\" x2=\"240\" y2=\"20\" style=\"stroke:#ece88bff;stroke-width:3;\" /><line x1=\"241\" y1=\"0\" x2=\"241\" y2=\"20\" style=\"stroke:#ece88bff;stroke-width:3;\" /><line x1=\"242\" y1=\"0\" x2=\"242\" y2=\"20\" style=\"stroke:#ece88bff;stroke-width:3;\" /><line x1=\"243\" y1=\"0\" x2=\"243\" y2=\"20\" style=\"stroke:#ece88bff;stroke-width:3;\" /><line x1=\"244\" y1=\"0\" x2=\"244\" y2=\"20\" style=\"stroke:#ece88bff;stroke-width:3;\" /><line x1=\"245\" y1=\"0\" x2=\"245\" y2=\"20\" style=\"stroke:#ece88bff;stroke-width:3;\" /><line x1=\"246\" y1=\"0\" x2=\"246\" y2=\"20\" style=\"stroke:#ece88bff;stroke-width:3;\" /><line x1=\"247\" y1=\"0\" x2=\"247\" y2=\"20\" style=\"stroke:#ece88bff;stroke-width:3;\" /><line x1=\"248\" y1=\"0\" x2=\"248\" y2=\"20\" style=\"stroke:#ece88bff;stroke-width:3;\" /><line x1=\"249\" y1=\"0\" x2=\"249\" y2=\"20\" style=\"stroke:#ece88bff;stroke-width:3;\" /><line x1=\"250\" y1=\"0\" x2=\"250\" y2=\"20\" style=\"stroke:#ece88bff;stroke-width:3;\" /><line x1=\"251\" y1=\"0\" x2=\"251\" y2=\"20\" style=\"stroke:#ece88bff;stroke-width:3;\" /><line x1=\"252\" y1=\"0\" x2=\"252\" y2=\"20\" style=\"stroke:#ece88bff;stroke-width:3;\" /><line x1=\"253\" y1=\"0\" x2=\"253\" y2=\"20\" style=\"stroke:#ece88bff;stroke-width:3;\" /><line x1=\"254\" y1=\"0\" x2=\"254\" y2=\"20\" style=\"stroke:#ece88bff;stroke-width:3;\" /><line x1=\"255\" y1=\"0\" x2=\"255\" y2=\"20\" style=\"stroke:#ece88bff;stroke-width:3;\" /><line x1=\"256\" y1=\"0\" x2=\"256\" y2=\"20\" style=\"stroke:#ece88bff;stroke-width:3;\" /><line x1=\"257\" y1=\"0\" x2=\"257\" y2=\"20\" style=\"stroke:#ece88bff;stroke-width:3;\" /><line x1=\"258\" y1=\"0\" x2=\"258\" y2=\"20\" style=\"stroke:#ece88bff;stroke-width:3;\" /><line x1=\"259\" y1=\"0\" x2=\"259\" y2=\"20\" style=\"stroke:#ece88bff;stroke-width:3;\" /><line x1=\"260\" y1=\"0\" x2=\"260\" y2=\"20\" style=\"stroke:#ece88bff;stroke-width:3;\" /><line x1=\"261\" y1=\"0\" x2=\"261\" y2=\"20\" style=\"stroke:#ece88bff;stroke-width:3;\" /><line x1=\"262\" y1=\"0\" x2=\"262\" y2=\"20\" style=\"stroke:#ece88bff;stroke-width:3;\" /><line x1=\"263\" y1=\"0\" x2=\"263\" y2=\"20\" style=\"stroke:#ece88bff;stroke-width:3;\" /><line x1=\"264\" y1=\"0\" x2=\"264\" y2=\"20\" style=\"stroke:#ece88bff;stroke-width:3;\" /><line x1=\"265\" y1=\"0\" x2=\"265\" y2=\"20\" style=\"stroke:#ece88bff;stroke-width:3;\" /><line x1=\"266\" y1=\"0\" x2=\"266\" y2=\"20\" style=\"stroke:#ece88bff;stroke-width:3;\" /><line x1=\"267\" y1=\"0\" x2=\"267\" y2=\"20\" style=\"stroke:#ece88bff;stroke-width:3;\" /><line x1=\"268\" y1=\"0\" x2=\"268\" y2=\"20\" style=\"stroke:#ece88bff;stroke-width:3;\" /><line x1=\"269\" y1=\"0\" x2=\"269\" y2=\"20\" style=\"stroke:#ece88bff;stroke-width:3;\" /><line x1=\"270\" y1=\"0\" x2=\"270\" y2=\"20\" style=\"stroke:#ece88bff;stroke-width:3;\" /><line x1=\"271\" y1=\"0\" x2=\"271\" y2=\"20\" style=\"stroke:#ece88bff;stroke-width:3;\" /><line x1=\"272\" y1=\"0\" x2=\"272\" y2=\"20\" style=\"stroke:#ece88bff;stroke-width:3;\" /><line x1=\"273\" y1=\"0\" x2=\"273\" y2=\"20\" style=\"stroke:#ece88bff;stroke-width:3;\" /><line x1=\"274\" y1=\"0\" x2=\"274\" y2=\"20\" style=\"stroke:#ece88bff;stroke-width:3;\" /><line x1=\"275\" y1=\"0\" x2=\"275\" y2=\"20\" style=\"stroke:#ece88bff;stroke-width:3;\" /><line x1=\"276\" y1=\"0\" x2=\"276\" y2=\"20\" style=\"stroke:#ece88bff;stroke-width:3;\" /><line x1=\"277\" y1=\"0\" x2=\"277\" y2=\"20\" style=\"stroke:#ece88bff;stroke-width:3;\" /><line x1=\"278\" y1=\"0\" x2=\"278\" y2=\"20\" style=\"stroke:#ece88bff;stroke-width:3;\" /><line x1=\"279\" y1=\"0\" x2=\"279\" y2=\"20\" style=\"stroke:#ece88bff;stroke-width:3;\" /><line x1=\"280\" y1=\"0\" x2=\"280\" y2=\"20\" style=\"stroke:#ece88bff;stroke-width:3;\" /><line x1=\"281\" y1=\"0\" x2=\"281\" y2=\"20\" style=\"stroke:#ece88bff;stroke-width:3;\" /><line x1=\"282\" y1=\"0\" x2=\"282\" y2=\"20\" style=\"stroke:#ece88bff;stroke-width:3;\" /><line x1=\"283\" y1=\"0\" x2=\"283\" y2=\"20\" style=\"stroke:#ece88bff;stroke-width:3;\" /><line x1=\"284\" y1=\"0\" x2=\"284\" y2=\"20\" style=\"stroke:#ece88bff;stroke-width:3;\" /><line x1=\"285\" y1=\"0\" x2=\"285\" y2=\"20\" style=\"stroke:#ece88bff;stroke-width:3;\" /><line x1=\"286\" y1=\"0\" x2=\"286\" y2=\"20\" style=\"stroke:#ece88bff;stroke-width:3;\" /><line x1=\"287\" y1=\"0\" x2=\"287\" y2=\"20\" style=\"stroke:#ece88bff;stroke-width:3;\" /><line x1=\"288\" y1=\"0\" x2=\"288\" y2=\"20\" style=\"stroke:#ece88bff;stroke-width:3;\" /><line x1=\"289\" y1=\"0\" x2=\"289\" y2=\"20\" style=\"stroke:#ece88bff;stroke-width:3;\" /><line x1=\"290\" y1=\"0\" x2=\"290\" y2=\"20\" style=\"stroke:#ece88bff;stroke-width:3;\" /><line x1=\"291\" y1=\"0\" x2=\"291\" y2=\"20\" style=\"stroke:#ece88bff;stroke-width:3;\" /><line x1=\"292\" y1=\"0\" x2=\"292\" y2=\"20\" style=\"stroke:#ece88bff;stroke-width:3;\" /><line x1=\"293\" y1=\"0\" x2=\"293\" y2=\"20\" style=\"stroke:#ece88bff;stroke-width:3;\" /><line x1=\"294\" y1=\"0\" x2=\"294\" y2=\"20\" style=\"stroke:#ece88bff;stroke-width:3;\" /><line x1=\"295\" y1=\"0\" x2=\"295\" y2=\"20\" style=\"stroke:#ece88bff;stroke-width:3;\" /><line x1=\"296\" y1=\"0\" x2=\"296\" y2=\"20\" style=\"stroke:#ece88bff;stroke-width:3;\" /><line x1=\"297\" y1=\"0\" x2=\"297\" y2=\"20\" style=\"stroke:#ece88bff;stroke-width:3;\" /><line x1=\"298\" y1=\"0\" x2=\"298\" y2=\"20\" style=\"stroke:#ece88bff;stroke-width:3;\" /><line x1=\"299\" y1=\"0\" x2=\"299\" y2=\"20\" style=\"stroke:#ece88bff;stroke-width:3;\" /><line x1=\"300\" y1=\"0\" x2=\"300\" y2=\"20\" style=\"stroke:#76c465ff;stroke-width:3;\" /><line x1=\"301\" y1=\"0\" x2=\"301\" y2=\"20\" style=\"stroke:#76c465ff;stroke-width:3;\" /><line x1=\"302\" y1=\"0\" x2=\"302\" y2=\"20\" style=\"stroke:#76c465ff;stroke-width:3;\" /><line x1=\"303\" y1=\"0\" x2=\"303\" y2=\"20\" style=\"stroke:#76c465ff;stroke-width:3;\" /><line x1=\"304\" y1=\"0\" x2=\"304\" y2=\"20\" style=\"stroke:#76c465ff;stroke-width:3;\" /><line x1=\"305\" y1=\"0\" x2=\"305\" y2=\"20\" style=\"stroke:#76c465ff;stroke-width:3;\" /><line x1=\"306\" y1=\"0\" x2=\"306\" y2=\"20\" style=\"stroke:#76c465ff;stroke-width:3;\" /><line x1=\"307\" y1=\"0\" x2=\"307\" y2=\"20\" style=\"stroke:#76c465ff;stroke-width:3;\" /><line x1=\"308\" y1=\"0\" x2=\"308\" y2=\"20\" style=\"stroke:#76c465ff;stroke-width:3;\" /><line x1=\"309\" y1=\"0\" x2=\"309\" y2=\"20\" style=\"stroke:#76c465ff;stroke-width:3;\" /><line x1=\"310\" y1=\"0\" x2=\"310\" y2=\"20\" style=\"stroke:#76c465ff;stroke-width:3;\" /><line x1=\"311\" y1=\"0\" x2=\"311\" y2=\"20\" style=\"stroke:#76c465ff;stroke-width:3;\" /><line x1=\"312\" y1=\"0\" x2=\"312\" y2=\"20\" style=\"stroke:#76c465ff;stroke-width:3;\" /><line x1=\"313\" y1=\"0\" x2=\"313\" y2=\"20\" style=\"stroke:#76c465ff;stroke-width:3;\" /><line x1=\"314\" y1=\"0\" x2=\"314\" y2=\"20\" style=\"stroke:#76c465ff;stroke-width:3;\" /><line x1=\"315\" y1=\"0\" x2=\"315\" y2=\"20\" style=\"stroke:#76c465ff;stroke-width:3;\" /><line x1=\"316\" y1=\"0\" x2=\"316\" y2=\"20\" style=\"stroke:#76c465ff;stroke-width:3;\" /><line x1=\"317\" y1=\"0\" x2=\"317\" y2=\"20\" style=\"stroke:#76c465ff;stroke-width:3;\" /><line x1=\"318\" y1=\"0\" x2=\"318\" y2=\"20\" style=\"stroke:#76c465ff;stroke-width:3;\" /><line x1=\"319\" y1=\"0\" x2=\"319\" y2=\"20\" style=\"stroke:#76c465ff;stroke-width:3;\" /><line x1=\"320\" y1=\"0\" x2=\"320\" y2=\"20\" style=\"stroke:#76c465ff;stroke-width:3;\" /><line x1=\"321\" y1=\"0\" x2=\"321\" y2=\"20\" style=\"stroke:#76c465ff;stroke-width:3;\" /><line x1=\"322\" y1=\"0\" x2=\"322\" y2=\"20\" style=\"stroke:#76c465ff;stroke-width:3;\" /><line x1=\"323\" y1=\"0\" x2=\"323\" y2=\"20\" style=\"stroke:#76c465ff;stroke-width:3;\" /><line x1=\"324\" y1=\"0\" x2=\"324\" y2=\"20\" style=\"stroke:#76c465ff;stroke-width:3;\" /><line x1=\"325\" y1=\"0\" x2=\"325\" y2=\"20\" style=\"stroke:#76c465ff;stroke-width:3;\" /><line x1=\"326\" y1=\"0\" x2=\"326\" y2=\"20\" style=\"stroke:#76c465ff;stroke-width:3;\" /><line x1=\"327\" y1=\"0\" x2=\"327\" y2=\"20\" style=\"stroke:#76c465ff;stroke-width:3;\" /><line x1=\"328\" y1=\"0\" x2=\"328\" y2=\"20\" style=\"stroke:#76c465ff;stroke-width:3;\" /><line x1=\"329\" y1=\"0\" x2=\"329\" y2=\"20\" style=\"stroke:#76c465ff;stroke-width:3;\" /><line x1=\"330\" y1=\"0\" x2=\"330\" y2=\"20\" style=\"stroke:#76c465ff;stroke-width:3;\" /><line x1=\"331\" y1=\"0\" x2=\"331\" y2=\"20\" style=\"stroke:#76c465ff;stroke-width:3;\" /><line x1=\"332\" y1=\"0\" x2=\"332\" y2=\"20\" style=\"stroke:#76c465ff;stroke-width:3;\" /><line x1=\"333\" y1=\"0\" x2=\"333\" y2=\"20\" style=\"stroke:#76c465ff;stroke-width:3;\" /><line x1=\"334\" y1=\"0\" x2=\"334\" y2=\"20\" style=\"stroke:#76c465ff;stroke-width:3;\" /><line x1=\"335\" y1=\"0\" x2=\"335\" y2=\"20\" style=\"stroke:#76c465ff;stroke-width:3;\" /><line x1=\"336\" y1=\"0\" x2=\"336\" y2=\"20\" style=\"stroke:#76c465ff;stroke-width:3;\" /><line x1=\"337\" y1=\"0\" x2=\"337\" y2=\"20\" style=\"stroke:#76c465ff;stroke-width:3;\" /><line x1=\"338\" y1=\"0\" x2=\"338\" y2=\"20\" style=\"stroke:#76c465ff;stroke-width:3;\" /><line x1=\"339\" y1=\"0\" x2=\"339\" y2=\"20\" style=\"stroke:#76c465ff;stroke-width:3;\" /><line x1=\"340\" y1=\"0\" x2=\"340\" y2=\"20\" style=\"stroke:#76c465ff;stroke-width:3;\" /><line x1=\"341\" y1=\"0\" x2=\"341\" y2=\"20\" style=\"stroke:#76c465ff;stroke-width:3;\" /><line x1=\"342\" y1=\"0\" x2=\"342\" y2=\"20\" style=\"stroke:#76c465ff;stroke-width:3;\" /><line x1=\"343\" y1=\"0\" x2=\"343\" y2=\"20\" style=\"stroke:#76c465ff;stroke-width:3;\" /><line x1=\"344\" y1=\"0\" x2=\"344\" y2=\"20\" style=\"stroke:#76c465ff;stroke-width:3;\" /><line x1=\"345\" y1=\"0\" x2=\"345\" y2=\"20\" style=\"stroke:#76c465ff;stroke-width:3;\" /><line x1=\"346\" y1=\"0\" x2=\"346\" y2=\"20\" style=\"stroke:#76c465ff;stroke-width:3;\" /><line x1=\"347\" y1=\"0\" x2=\"347\" y2=\"20\" style=\"stroke:#76c465ff;stroke-width:3;\" /><line x1=\"348\" y1=\"0\" x2=\"348\" y2=\"20\" style=\"stroke:#76c465ff;stroke-width:3;\" /><line x1=\"349\" y1=\"0\" x2=\"349\" y2=\"20\" style=\"stroke:#76c465ff;stroke-width:3;\" /><line x1=\"350\" y1=\"0\" x2=\"350\" y2=\"20\" style=\"stroke:#76c465ff;stroke-width:3;\" /><line x1=\"351\" y1=\"0\" x2=\"351\" y2=\"20\" style=\"stroke:#76c465ff;stroke-width:3;\" /><line x1=\"352\" y1=\"0\" x2=\"352\" y2=\"20\" style=\"stroke:#76c465ff;stroke-width:3;\" /><line x1=\"353\" y1=\"0\" x2=\"353\" y2=\"20\" style=\"stroke:#76c465ff;stroke-width:3;\" /><line x1=\"354\" y1=\"0\" x2=\"354\" y2=\"20\" style=\"stroke:#76c465ff;stroke-width:3;\" /><line x1=\"355\" y1=\"0\" x2=\"355\" y2=\"20\" style=\"stroke:#76c465ff;stroke-width:3;\" /><line x1=\"356\" y1=\"0\" x2=\"356\" y2=\"20\" style=\"stroke:#76c465ff;stroke-width:3;\" /><line x1=\"357\" y1=\"0\" x2=\"357\" y2=\"20\" style=\"stroke:#76c465ff;stroke-width:3;\" /><line x1=\"358\" y1=\"0\" x2=\"358\" y2=\"20\" style=\"stroke:#76c465ff;stroke-width:3;\" /><line x1=\"359\" y1=\"0\" x2=\"359\" y2=\"20\" style=\"stroke:#76c465ff;stroke-width:3;\" /><line x1=\"360\" y1=\"0\" x2=\"360\" y2=\"20\" style=\"stroke:#76c465ff;stroke-width:3;\" /><line x1=\"361\" y1=\"0\" x2=\"361\" y2=\"20\" style=\"stroke:#76c465ff;stroke-width:3;\" /><line x1=\"362\" y1=\"0\" x2=\"362\" y2=\"20\" style=\"stroke:#76c465ff;stroke-width:3;\" /><line x1=\"363\" y1=\"0\" x2=\"363\" y2=\"20\" style=\"stroke:#76c465ff;stroke-width:3;\" /><line x1=\"364\" y1=\"0\" x2=\"364\" y2=\"20\" style=\"stroke:#76c465ff;stroke-width:3;\" /><line x1=\"365\" y1=\"0\" x2=\"365\" y2=\"20\" style=\"stroke:#76c465ff;stroke-width:3;\" /><line x1=\"366\" y1=\"0\" x2=\"366\" y2=\"20\" style=\"stroke:#76c465ff;stroke-width:3;\" /><line x1=\"367\" y1=\"0\" x2=\"367\" y2=\"20\" style=\"stroke:#76c465ff;stroke-width:3;\" /><line x1=\"368\" y1=\"0\" x2=\"368\" y2=\"20\" style=\"stroke:#76c465ff;stroke-width:3;\" /><line x1=\"369\" y1=\"0\" x2=\"369\" y2=\"20\" style=\"stroke:#76c465ff;stroke-width:3;\" /><line x1=\"370\" y1=\"0\" x2=\"370\" y2=\"20\" style=\"stroke:#76c465ff;stroke-width:3;\" /><line x1=\"371\" y1=\"0\" x2=\"371\" y2=\"20\" style=\"stroke:#76c465ff;stroke-width:3;\" /><line x1=\"372\" y1=\"0\" x2=\"372\" y2=\"20\" style=\"stroke:#76c465ff;stroke-width:3;\" /><line x1=\"373\" y1=\"0\" x2=\"373\" y2=\"20\" style=\"stroke:#76c465ff;stroke-width:3;\" /><line x1=\"374\" y1=\"0\" x2=\"374\" y2=\"20\" style=\"stroke:#76c465ff;stroke-width:3;\" /><line x1=\"375\" y1=\"0\" x2=\"375\" y2=\"20\" style=\"stroke:#76c465ff;stroke-width:3;\" /><line x1=\"376\" y1=\"0\" x2=\"376\" y2=\"20\" style=\"stroke:#76c465ff;stroke-width:3;\" /><line x1=\"377\" y1=\"0\" x2=\"377\" y2=\"20\" style=\"stroke:#76c465ff;stroke-width:3;\" /><line x1=\"378\" y1=\"0\" x2=\"378\" y2=\"20\" style=\"stroke:#76c465ff;stroke-width:3;\" /><line x1=\"379\" y1=\"0\" x2=\"379\" y2=\"20\" style=\"stroke:#76c465ff;stroke-width:3;\" /><line x1=\"380\" y1=\"0\" x2=\"380\" y2=\"20\" style=\"stroke:#76c465ff;stroke-width:3;\" /><line x1=\"381\" y1=\"0\" x2=\"381\" y2=\"20\" style=\"stroke:#76c465ff;stroke-width:3;\" /><line x1=\"382\" y1=\"0\" x2=\"382\" y2=\"20\" style=\"stroke:#76c465ff;stroke-width:3;\" /><line x1=\"383\" y1=\"0\" x2=\"383\" y2=\"20\" style=\"stroke:#76c465ff;stroke-width:3;\" /><line x1=\"384\" y1=\"0\" x2=\"384\" y2=\"20\" style=\"stroke:#76c465ff;stroke-width:3;\" /><line x1=\"385\" y1=\"0\" x2=\"385\" y2=\"20\" style=\"stroke:#76c465ff;stroke-width:3;\" /><line x1=\"386\" y1=\"0\" x2=\"386\" y2=\"20\" style=\"stroke:#76c465ff;stroke-width:3;\" /><line x1=\"387\" y1=\"0\" x2=\"387\" y2=\"20\" style=\"stroke:#76c465ff;stroke-width:3;\" /><line x1=\"388\" y1=\"0\" x2=\"388\" y2=\"20\" style=\"stroke:#76c465ff;stroke-width:3;\" /><line x1=\"389\" y1=\"0\" x2=\"389\" y2=\"20\" style=\"stroke:#76c465ff;stroke-width:3;\" /><line x1=\"390\" y1=\"0\" x2=\"390\" y2=\"20\" style=\"stroke:#76c465ff;stroke-width:3;\" /><line x1=\"391\" y1=\"0\" x2=\"391\" y2=\"20\" style=\"stroke:#76c465ff;stroke-width:3;\" /><line x1=\"392\" y1=\"0\" x2=\"392\" y2=\"20\" style=\"stroke:#76c465ff;stroke-width:3;\" /><line x1=\"393\" y1=\"0\" x2=\"393\" y2=\"20\" style=\"stroke:#76c465ff;stroke-width:3;\" /><line x1=\"394\" y1=\"0\" x2=\"394\" y2=\"20\" style=\"stroke:#76c465ff;stroke-width:3;\" /><line x1=\"395\" y1=\"0\" x2=\"395\" y2=\"20\" style=\"stroke:#76c465ff;stroke-width:3;\" /><line x1=\"396\" y1=\"0\" x2=\"396\" y2=\"20\" style=\"stroke:#76c465ff;stroke-width:3;\" /><line x1=\"397\" y1=\"0\" x2=\"397\" y2=\"20\" style=\"stroke:#76c465ff;stroke-width:3;\" /><line x1=\"398\" y1=\"0\" x2=\"398\" y2=\"20\" style=\"stroke:#76c465ff;stroke-width:3;\" /><line x1=\"399\" y1=\"0\" x2=\"399\" y2=\"20\" style=\"stroke:#76c465ff;stroke-width:3;\" /><line x1=\"400\" y1=\"0\" x2=\"400\" y2=\"20\" style=\"stroke:#006837ff;stroke-width:3;\" /><line x1=\"401\" y1=\"0\" x2=\"401\" y2=\"20\" style=\"stroke:#006837ff;stroke-width:3;\" /><line x1=\"402\" y1=\"0\" x2=\"402\" y2=\"20\" style=\"stroke:#006837ff;stroke-width:3;\" /><line x1=\"403\" y1=\"0\" x2=\"403\" y2=\"20\" style=\"stroke:#006837ff;stroke-width:3;\" /><line x1=\"404\" y1=\"0\" x2=\"404\" y2=\"20\" style=\"stroke:#006837ff;stroke-width:3;\" /><line x1=\"405\" y1=\"0\" x2=\"405\" y2=\"20\" style=\"stroke:#006837ff;stroke-width:3;\" /><line x1=\"406\" y1=\"0\" x2=\"406\" y2=\"20\" style=\"stroke:#006837ff;stroke-width:3;\" /><line x1=\"407\" y1=\"0\" x2=\"407\" y2=\"20\" style=\"stroke:#006837ff;stroke-width:3;\" /><line x1=\"408\" y1=\"0\" x2=\"408\" y2=\"20\" style=\"stroke:#006837ff;stroke-width:3;\" /><line x1=\"409\" y1=\"0\" x2=\"409\" y2=\"20\" style=\"stroke:#006837ff;stroke-width:3;\" /><line x1=\"410\" y1=\"0\" x2=\"410\" y2=\"20\" style=\"stroke:#006837ff;stroke-width:3;\" /><line x1=\"411\" y1=\"0\" x2=\"411\" y2=\"20\" style=\"stroke:#006837ff;stroke-width:3;\" /><line x1=\"412\" y1=\"0\" x2=\"412\" y2=\"20\" style=\"stroke:#006837ff;stroke-width:3;\" /><line x1=\"413\" y1=\"0\" x2=\"413\" y2=\"20\" style=\"stroke:#006837ff;stroke-width:3;\" /><line x1=\"414\" y1=\"0\" x2=\"414\" y2=\"20\" style=\"stroke:#006837ff;stroke-width:3;\" /><line x1=\"415\" y1=\"0\" x2=\"415\" y2=\"20\" style=\"stroke:#006837ff;stroke-width:3;\" /><line x1=\"416\" y1=\"0\" x2=\"416\" y2=\"20\" style=\"stroke:#006837ff;stroke-width:3;\" /><line x1=\"417\" y1=\"0\" x2=\"417\" y2=\"20\" style=\"stroke:#006837ff;stroke-width:3;\" /><line x1=\"418\" y1=\"0\" x2=\"418\" y2=\"20\" style=\"stroke:#006837ff;stroke-width:3;\" /><line x1=\"419\" y1=\"0\" x2=\"419\" y2=\"20\" style=\"stroke:#006837ff;stroke-width:3;\" /><line x1=\"420\" y1=\"0\" x2=\"420\" y2=\"20\" style=\"stroke:#006837ff;stroke-width:3;\" /><line x1=\"421\" y1=\"0\" x2=\"421\" y2=\"20\" style=\"stroke:#006837ff;stroke-width:3;\" /><line x1=\"422\" y1=\"0\" x2=\"422\" y2=\"20\" style=\"stroke:#006837ff;stroke-width:3;\" /><line x1=\"423\" y1=\"0\" x2=\"423\" y2=\"20\" style=\"stroke:#006837ff;stroke-width:3;\" /><line x1=\"424\" y1=\"0\" x2=\"424\" y2=\"20\" style=\"stroke:#006837ff;stroke-width:3;\" /><line x1=\"425\" y1=\"0\" x2=\"425\" y2=\"20\" style=\"stroke:#006837ff;stroke-width:3;\" /><line x1=\"426\" y1=\"0\" x2=\"426\" y2=\"20\" style=\"stroke:#006837ff;stroke-width:3;\" /><line x1=\"427\" y1=\"0\" x2=\"427\" y2=\"20\" style=\"stroke:#006837ff;stroke-width:3;\" /><line x1=\"428\" y1=\"0\" x2=\"428\" y2=\"20\" style=\"stroke:#006837ff;stroke-width:3;\" /><line x1=\"429\" y1=\"0\" x2=\"429\" y2=\"20\" style=\"stroke:#006837ff;stroke-width:3;\" /><line x1=\"430\" y1=\"0\" x2=\"430\" y2=\"20\" style=\"stroke:#006837ff;stroke-width:3;\" /><line x1=\"431\" y1=\"0\" x2=\"431\" y2=\"20\" style=\"stroke:#006837ff;stroke-width:3;\" /><line x1=\"432\" y1=\"0\" x2=\"432\" y2=\"20\" style=\"stroke:#006837ff;stroke-width:3;\" /><line x1=\"433\" y1=\"0\" x2=\"433\" y2=\"20\" style=\"stroke:#006837ff;stroke-width:3;\" /><line x1=\"434\" y1=\"0\" x2=\"434\" y2=\"20\" style=\"stroke:#006837ff;stroke-width:3;\" /><line x1=\"435\" y1=\"0\" x2=\"435\" y2=\"20\" style=\"stroke:#006837ff;stroke-width:3;\" /><line x1=\"436\" y1=\"0\" x2=\"436\" y2=\"20\" style=\"stroke:#006837ff;stroke-width:3;\" /><line x1=\"437\" y1=\"0\" x2=\"437\" y2=\"20\" style=\"stroke:#006837ff;stroke-width:3;\" /><line x1=\"438\" y1=\"0\" x2=\"438\" y2=\"20\" style=\"stroke:#006837ff;stroke-width:3;\" /><line x1=\"439\" y1=\"0\" x2=\"439\" y2=\"20\" style=\"stroke:#006837ff;stroke-width:3;\" /><line x1=\"440\" y1=\"0\" x2=\"440\" y2=\"20\" style=\"stroke:#006837ff;stroke-width:3;\" /><line x1=\"441\" y1=\"0\" x2=\"441\" y2=\"20\" style=\"stroke:#006837ff;stroke-width:3;\" /><line x1=\"442\" y1=\"0\" x2=\"442\" y2=\"20\" style=\"stroke:#006837ff;stroke-width:3;\" /><line x1=\"443\" y1=\"0\" x2=\"443\" y2=\"20\" style=\"stroke:#006837ff;stroke-width:3;\" /><line x1=\"444\" y1=\"0\" x2=\"444\" y2=\"20\" style=\"stroke:#006837ff;stroke-width:3;\" /><line x1=\"445\" y1=\"0\" x2=\"445\" y2=\"20\" style=\"stroke:#006837ff;stroke-width:3;\" /><line x1=\"446\" y1=\"0\" x2=\"446\" y2=\"20\" style=\"stroke:#006837ff;stroke-width:3;\" /><line x1=\"447\" y1=\"0\" x2=\"447\" y2=\"20\" style=\"stroke:#006837ff;stroke-width:3;\" /><line x1=\"448\" y1=\"0\" x2=\"448\" y2=\"20\" style=\"stroke:#006837ff;stroke-width:3;\" /><line x1=\"449\" y1=\"0\" x2=\"449\" y2=\"20\" style=\"stroke:#006837ff;stroke-width:3;\" /><line x1=\"450\" y1=\"0\" x2=\"450\" y2=\"20\" style=\"stroke:#006837ff;stroke-width:3;\" /><line x1=\"451\" y1=\"0\" x2=\"451\" y2=\"20\" style=\"stroke:#006837ff;stroke-width:3;\" /><line x1=\"452\" y1=\"0\" x2=\"452\" y2=\"20\" style=\"stroke:#006837ff;stroke-width:3;\" /><line x1=\"453\" y1=\"0\" x2=\"453\" y2=\"20\" style=\"stroke:#006837ff;stroke-width:3;\" /><line x1=\"454\" y1=\"0\" x2=\"454\" y2=\"20\" style=\"stroke:#006837ff;stroke-width:3;\" /><line x1=\"455\" y1=\"0\" x2=\"455\" y2=\"20\" style=\"stroke:#006837ff;stroke-width:3;\" /><line x1=\"456\" y1=\"0\" x2=\"456\" y2=\"20\" style=\"stroke:#006837ff;stroke-width:3;\" /><line x1=\"457\" y1=\"0\" x2=\"457\" y2=\"20\" style=\"stroke:#006837ff;stroke-width:3;\" /><line x1=\"458\" y1=\"0\" x2=\"458\" y2=\"20\" style=\"stroke:#006837ff;stroke-width:3;\" /><line x1=\"459\" y1=\"0\" x2=\"459\" y2=\"20\" style=\"stroke:#006837ff;stroke-width:3;\" /><line x1=\"460\" y1=\"0\" x2=\"460\" y2=\"20\" style=\"stroke:#006837ff;stroke-width:3;\" /><line x1=\"461\" y1=\"0\" x2=\"461\" y2=\"20\" style=\"stroke:#006837ff;stroke-width:3;\" /><line x1=\"462\" y1=\"0\" x2=\"462\" y2=\"20\" style=\"stroke:#006837ff;stroke-width:3;\" /><line x1=\"463\" y1=\"0\" x2=\"463\" y2=\"20\" style=\"stroke:#006837ff;stroke-width:3;\" /><line x1=\"464\" y1=\"0\" x2=\"464\" y2=\"20\" style=\"stroke:#006837ff;stroke-width:3;\" /><line x1=\"465\" y1=\"0\" x2=\"465\" y2=\"20\" style=\"stroke:#006837ff;stroke-width:3;\" /><line x1=\"466\" y1=\"0\" x2=\"466\" y2=\"20\" style=\"stroke:#006837ff;stroke-width:3;\" /><line x1=\"467\" y1=\"0\" x2=\"467\" y2=\"20\" style=\"stroke:#006837ff;stroke-width:3;\" /><line x1=\"468\" y1=\"0\" x2=\"468\" y2=\"20\" style=\"stroke:#006837ff;stroke-width:3;\" /><line x1=\"469\" y1=\"0\" x2=\"469\" y2=\"20\" style=\"stroke:#006837ff;stroke-width:3;\" /><line x1=\"470\" y1=\"0\" x2=\"470\" y2=\"20\" style=\"stroke:#006837ff;stroke-width:3;\" /><line x1=\"471\" y1=\"0\" x2=\"471\" y2=\"20\" style=\"stroke:#006837ff;stroke-width:3;\" /><line x1=\"472\" y1=\"0\" x2=\"472\" y2=\"20\" style=\"stroke:#006837ff;stroke-width:3;\" /><line x1=\"473\" y1=\"0\" x2=\"473\" y2=\"20\" style=\"stroke:#006837ff;stroke-width:3;\" /><line x1=\"474\" y1=\"0\" x2=\"474\" y2=\"20\" style=\"stroke:#006837ff;stroke-width:3;\" /><line x1=\"475\" y1=\"0\" x2=\"475\" y2=\"20\" style=\"stroke:#006837ff;stroke-width:3;\" /><line x1=\"476\" y1=\"0\" x2=\"476\" y2=\"20\" style=\"stroke:#006837ff;stroke-width:3;\" /><line x1=\"477\" y1=\"0\" x2=\"477\" y2=\"20\" style=\"stroke:#006837ff;stroke-width:3;\" /><line x1=\"478\" y1=\"0\" x2=\"478\" y2=\"20\" style=\"stroke:#006837ff;stroke-width:3;\" /><line x1=\"479\" y1=\"0\" x2=\"479\" y2=\"20\" style=\"stroke:#006837ff;stroke-width:3;\" /><line x1=\"480\" y1=\"0\" x2=\"480\" y2=\"20\" style=\"stroke:#006837ff;stroke-width:3;\" /><line x1=\"481\" y1=\"0\" x2=\"481\" y2=\"20\" style=\"stroke:#006837ff;stroke-width:3;\" /><line x1=\"482\" y1=\"0\" x2=\"482\" y2=\"20\" style=\"stroke:#006837ff;stroke-width:3;\" /><line x1=\"483\" y1=\"0\" x2=\"483\" y2=\"20\" style=\"stroke:#006837ff;stroke-width:3;\" /><line x1=\"484\" y1=\"0\" x2=\"484\" y2=\"20\" style=\"stroke:#006837ff;stroke-width:3;\" /><line x1=\"485\" y1=\"0\" x2=\"485\" y2=\"20\" style=\"stroke:#006837ff;stroke-width:3;\" /><line x1=\"486\" y1=\"0\" x2=\"486\" y2=\"20\" style=\"stroke:#006837ff;stroke-width:3;\" /><line x1=\"487\" y1=\"0\" x2=\"487\" y2=\"20\" style=\"stroke:#006837ff;stroke-width:3;\" /><line x1=\"488\" y1=\"0\" x2=\"488\" y2=\"20\" style=\"stroke:#006837ff;stroke-width:3;\" /><line x1=\"489\" y1=\"0\" x2=\"489\" y2=\"20\" style=\"stroke:#006837ff;stroke-width:3;\" /><line x1=\"490\" y1=\"0\" x2=\"490\" y2=\"20\" style=\"stroke:#006837ff;stroke-width:3;\" /><line x1=\"491\" y1=\"0\" x2=\"491\" y2=\"20\" style=\"stroke:#006837ff;stroke-width:3;\" /><line x1=\"492\" y1=\"0\" x2=\"492\" y2=\"20\" style=\"stroke:#006837ff;stroke-width:3;\" /><line x1=\"493\" y1=\"0\" x2=\"493\" y2=\"20\" style=\"stroke:#006837ff;stroke-width:3;\" /><line x1=\"494\" y1=\"0\" x2=\"494\" y2=\"20\" style=\"stroke:#006837ff;stroke-width:3;\" /><line x1=\"495\" y1=\"0\" x2=\"495\" y2=\"20\" style=\"stroke:#006837ff;stroke-width:3;\" /><line x1=\"496\" y1=\"0\" x2=\"496\" y2=\"20\" style=\"stroke:#006837ff;stroke-width:3;\" /><line x1=\"497\" y1=\"0\" x2=\"497\" y2=\"20\" style=\"stroke:#006837ff;stroke-width:3;\" /><line x1=\"498\" y1=\"0\" x2=\"498\" y2=\"20\" style=\"stroke:#006837ff;stroke-width:3;\" /><line x1=\"499\" y1=\"0\" x2=\"499\" y2=\"20\" style=\"stroke:#006837ff;stroke-width:3;\" /><text x=\"0\" y=\"35\">0.0</text><text x=\"500\" y=\"35\" style=\"text-anchor:end;\">1.0</text></svg>"
      ],
      "text/plain": [
       "<branca.colormap.StepColormap at 0x7f6dd8a2b898>"
      ]
     },
     "execution_count": 47,
     "metadata": {},
     "output_type": "execute_result"
    }
   ],
   "source": [
    "# print(dir(cm.linear))\n",
    "\n",
    "steps = 5\n",
    "color_map = cm.linear.RdYlGn_10.scale(0, 1).to_step(steps)\n",
    "\n",
    "# in reverse order (green to red)\n",
    "for i in range(steps-1, -1, -1):\n",
    "    # would be fractional values, but we need them as RGB in [0,255]\n",
    "    # also drop the alpha (4th element)\n",
    "    print([int(255 * x) for x in color_map.colors[i][:-1]])\n",
    "\n",
    "color_map"
   ]
  },
  {
   "cell_type": "code",
   "execution_count": null,
   "metadata": {},
   "outputs": [],
   "source": [
    "COLOR_SCALE = [\n",
    "    [0, 104, 55],\n",
    "    [117, 195, 100],\n",
    "    [235, 231, 139],\n",
    "    [246, 125, 74],\n",
    "    [165, 0, 38]\n",
    "]\n",
    "\n",
    "busstops_layer = pydeck.Layer(\n",
    "                    \"HeatmapLayer\",\n",
    "                    data = gdf_dedup,\n",
    "                    opacity = 0.2,\n",
    "                    get_position = [\"longitude\", \"latitude\"],\n",
    "                    threshold = 0.05,\n",
    "                    intensity = 1,\n",
    "                    radiusPixels = 30,\n",
    "                    pickable = False,\n",
    "                    color_range=COLOR_SCALE,\n",
    "                )\n",
    "\n",
    "view = pydeck.data_utils.compute_view(gdf_dedup[[\"longitude\", \"latitude\"]])\n",
    "view.zoom = 6\n",
    "\n",
    "MAPBOX_TOKEN = '<THE_MAPBOX_API_TOKEN_HERE>';\n",
    "\n",
    "r = pydeck.Deck(\n",
    "    layers=[busstops_layer],\n",
    "    initial_view_state = view,\n",
    "    mapbox_key = MAPBOX_TOKEN,\n",
    "    map_style='mapbox://styles/mapbox/light-v9'\n",
    ")\n",
    "\n",
    "r.show()"
   ]
  },
  {
   "cell_type": "code",
   "execution_count": 49,
   "metadata": {},
   "outputs": [
    {
     "data": {
      : [
       "<Figure size 1080x720 with 1 Axes>"
      ]
     },
     "metadata": {
      "needs_background": "light"
     },
     "output_type": "display_data"
    }
   ],
   "source": [
    "fig, ax = plt.subplots(1, 1, figsize = (15, 10))\n",
    "\n",
    "im1 = pilim.open('images/heatmap_busstop_.png', 'r')\n",
    "ax.imshow(np.asarray(im1))\n",
    "ax.set_axis_off();"
   ]
  },
  {
   "cell_type": "markdown",
   "metadata": {},
   "source": [
    "**Create a new dataframe to work with throughout the notebook:**"
   ]
  },
  {
   "cell_type": "code",
   "execution_count": 50,
   "metadata": {},
   "outputs": [
    {
     "data": {
      "text/html": [
       "<div>\n",
       "<style scoped>\n",
       "    .dataframe tbody tr th:only-of-type {\n",
       "        vertical-align: middle;\n",
       "    }\n",
       "\n",
       "    .dataframe tbody tr th {\n",
       "        vertical-align: top;\n",
       "    }\n",
       "\n",
       "    .dataframe thead th {\n",
       "        text-align: right;\n",
       "    }\n",
       "</style>\n",
       "<table border=\"1\" class=\"dataframe\">\n",
       "  <thead>\n",
       "    <tr style=\"text-align: right;\">\n",
       "      <th></th>\n",
       "      <th>longitude</th>\n",
       "      <th>latitude</th>\n",
       "      <th>index</th>\n",
       "      <th>ligne</th>\n",
       "      <th>nom_log</th>\n",
       "      <th>info</th>\n",
       "    </tr>\n",
       "  </thead>\n",
       "  <tbody>\n",
       "    <tr>\n",
       "      <th>0</th>\n",
       "      <td>1.16201</td>\n",
       "      <td>43.51514</td>\n",
       "      <td>[1208, 6653]</td>\n",
       "      <td>{116}</td>\n",
       "      <td>Saint Lys Rossignols</td>\n",
       "      <td>Saint Lys Rossignols (116)</td>\n",
       "    </tr>\n",
       "    <tr>\n",
       "      <th>1</th>\n",
       "      <td>1.17214</td>\n",
       "      <td>43.51300</td>\n",
       "      <td>[4134, 4135, 7880, 7881]</td>\n",
       "      <td>{315, 116}</td>\n",
       "      <td>Piscine</td>\n",
       "      <td>Piscine (315,116)</td>\n",
       "    </tr>\n",
       "    <tr>\n",
       "      <th>2</th>\n",
       "      <td>1.17354</td>\n",
       "      <td>43.50968</td>\n",
       "      <td>[4138, 4139, 4140, 6657]</td>\n",
       "      <td>{315, 116}</td>\n",
       "      <td>8 mai 1945</td>\n",
       "      <td>8 mai 1945 (315,116)</td>\n",
       "    </tr>\n",
       "    <tr>\n",
       "      <th>3</th>\n",
       "      <td>1.17521</td>\n",
       "      <td>43.50767</td>\n",
       "      <td>[1212, 4136, 4137, 6656]</td>\n",
       "      <td>{315, 116}</td>\n",
       "      <td>Barrat</td>\n",
       "      <td>Barrat (315,116)</td>\n",
       "    </tr>\n",
       "    <tr>\n",
       "      <th>4</th>\n",
       "      <td>1.17616</td>\n",
       "      <td>43.51513</td>\n",
       "      <td>[2390, 4133]</td>\n",
       "      <td>{315}</td>\n",
       "      <td>Boulodrome</td>\n",
       "      <td>Boulodrome (315)</td>\n",
       "    </tr>\n",
       "  </tbody>\n",
       "</table>\n",
       "</div>"
      ],
      "text/plain": [
       "   longitude  latitude                     index       ligne  \\\n",
       "0    1.16201  43.51514              [1208, 6653]       {116}   \n",
       "1    1.17214  43.51300  [4134, 4135, 7880, 7881]  {315, 116}   \n",
       "2    1.17354  43.50968  [4138, 4139, 4140, 6657]  {315, 116}   \n",
       "3    1.17521  43.50767  [1212, 4136, 4137, 6656]  {315, 116}   \n",
       "4    1.17616  43.51513              [2390, 4133]       {315}   \n",
       "\n",
       "                nom_log                        info  \n",
       "0  Saint Lys Rossignols  Saint Lys Rossignols (116)  \n",
       "1               Piscine           Piscine (315,116)  \n",
       "2            8 mai 1945        8 mai 1945 (315,116)  \n",
       "3                Barrat            Barrat (315,116)  \n",
       "4            Boulodrome            Boulodrome (315)  "
      ]
     },
     "execution_count": 50,
     "metadata": {},
     "output_type": "execute_result"
    }
   ],
   "source": [
    "gdf_raw_cpy = gdf_raw.reset_index(inplace = False, drop = False)\n",
    "df_stops_to_buslines = gdf_raw_cpy.groupby(by=[\"longitude\", \"latitude\"]).agg(\n",
    "                                    {\"index\": list, \"ligne\": set, \"nom_log\": \"first\"})\n",
    "\n",
    "df_stops_to_buslines[\"info\"] = df_stops_to_buslines[[\"nom_log\", \"ligne\"]].apply(\n",
    "                                  lambda x: \"{} ({})\".format(x[0], \",\".join(list(x[1]))), \n",
    "                                  axis = 1)\n",
    "df_stops_to_buslines.reset_index(inplace = True, drop = False)\n",
    "df_stops_to_buslines.head()\n"
   ]
  },
  {
   "cell_type": "markdown",
   "metadata": {},
   "source": [
    "## II.2. Index data spatially with H3"
   ]
  },
  {
   "cell_type": "code",
   "execution_count": 51,
   "metadata": {},
   "outputs": [
    {
     "name": "stdout",
     "output_type": "stream",
     "text": [
      "At resolution 7 -->  H3 cell id : hex_id_7 and its geometry: geometry_7 \n",
      "At resolution 8 -->  H3 cell id : hex_id_8 and its geometry: geometry_8 \n",
      "At resolution 9 -->  H3 cell id : hex_id_9 and its geometry: geometry_9 \n",
      "At resolution 10 -->  H3 cell id : hex_id_10 and its geometry: geometry_10 \n"
     ]
    },
    {
     "data": {
      "text/html": [
       "<div>\n",
       "<style scoped>\n",
       "    .dataframe tbody tr th:only-of-type {\n",
       "        vertical-align: middle;\n",
       "    }\n",
       "\n",
       "    .dataframe tbody tr th {\n",
       "        vertical-align: top;\n",
       "    }\n",
       "\n",
       "    .dataframe thead th {\n",
       "        text-align: right;\n",
       "    }\n",
       "</style>\n",
       "<table border=\"1\" class=\"dataframe\">\n",
       "  <thead>\n",
       "    <tr style=\"text-align: right;\">\n",
       "      <th></th>\n",
       "      <th>0</th>\n",
       "      <th>1</th>\n",
       "      <th>2</th>\n",
       "      <th>3</th>\n",
       "      <th>4</th>\n",
       "    </tr>\n",
       "  </thead>\n",
       "  <tbody>\n",
       "    <tr>\n",
       "      <th>longitude</th>\n",
       "      <td>1.16201</td>\n",
       "      <td>1.17214</td>\n",
       "      <td>1.17354</td>\n",
       "      <td>1.17521</td>\n",
       "      <td>1.17616</td>\n",
       "    </tr>\n",
       "    <tr>\n",
       "      <th>latitude</th>\n",
       "      <td>43.51514</td>\n",
       "      <td>43.51300</td>\n",
       "      <td>43.50968</td>\n",
       "      <td>43.50767</td>\n",
       "      <td>43.51513</td>\n",
       "    </tr>\n",
       "    <tr>\n",
       "      <th>index</th>\n",
       "      <td>[1208, 6653]</td>\n",
       "      <td>[4134, 4135, 7880, 7881]</td>\n",
       "      <td>[4138, 4139, 4140, 6657]</td>\n",
       "      <td>[1212, 4136, 4137, 6656]</td>\n",
       "      <td>[2390, 4133]</td>\n",
       "    </tr>\n",
       "    <tr>\n",
       "      <th>ligne</th>\n",
       "      <td>{116}</td>\n",
       "      <td>{315, 116}</td>\n",
       "      <td>{315, 116}</td>\n",
       "      <td>{315, 116}</td>\n",
       "      <td>{315}</td>\n",
       "    </tr>\n",
       "    <tr>\n",
       "      <th>nom_log</th>\n",
       "      <td>Saint Lys Rossignols</td>\n",
       "      <td>Piscine</td>\n",
       "      <td>8 mai 1945</td>\n",
       "      <td>Barrat</td>\n",
       "      <td>Boulodrome</td>\n",
       "    </tr>\n",
       "    <tr>\n",
       "      <th>info</th>\n",
       "      <td>Saint Lys Rossignols (116)</td>\n",
       "      <td>Piscine (315,116)</td>\n",
       "      <td>8 mai 1945 (315,116)</td>\n",
       "      <td>Barrat (315,116)</td>\n",
       "      <td>Boulodrome (315)</td>\n",
       "    </tr>\n",
       "    <tr>\n",
       "      <th>hex_id_7</th>\n",
       "      <td>873960cd0ffffff</td>\n",
       "      <td>873960cd0ffffff</td>\n",
       "      <td>873960cd0ffffff</td>\n",
       "      <td>873960cd0ffffff</td>\n",
       "      <td>873960cd0ffffff</td>\n",
       "    </tr>\n",
       "    <tr>\n",
       "      <th>geometry_7</th>\n",
       "      <td>{'type': 'Polygon', 'coordinates': [((1.1682108111794347, 4...</td>\n",
       "      <td>{'type': 'Polygon', 'coordinates': [((1.1682108111794347, 4...</td>\n",
       "      <td>{'type': 'Polygon', 'coordinates': [((1.1682108111794347, 4...</td>\n",
       "      <td>{'type': 'Polygon', 'coordinates': [((1.1682108111794347, 4...</td>\n",
       "      <td>{'type': 'Polygon', 'coordinates': [((1.1682108111794347, 4...</td>\n",
       "    </tr>\n",
       "    <tr>\n",
       "      <th>hex_id_8</th>\n",
       "      <td>883960cd0dfffff</td>\n",
       "      <td>883960cd01fffff</td>\n",
       "      <td>883960cd01fffff</td>\n",
       "      <td>883960cd01fffff</td>\n",
       "      <td>883960cd0bfffff</td>\n",
       "    </tr>\n",
       "    <tr>\n",
       "      <th>geometry_8</th>\n",
       "      <td>{'type': 'Polygon', 'coordinates': [((1.1612006014059548, 4...</td>\n",
       "      <td>{'type': 'Polygon', 'coordinates': [((1.1717612358664187, 4...</td>\n",
       "      <td>{'type': 'Polygon', 'coordinates': [((1.1717612358664187, 4...</td>\n",
       "      <td>{'type': 'Polygon', 'coordinates': [((1.1717612358664187, 4...</td>\n",
       "      <td>{'type': 'Polygon', 'coordinates': [((1.178771443825885, 43...</td>\n",
       "    </tr>\n",
       "    <tr>\n",
       "      <th>hex_id_9</th>\n",
       "      <td>893960cd0d7ffff</td>\n",
       "      <td>893960cd017ffff</td>\n",
       "      <td>893960cd007ffff</td>\n",
       "      <td>893960cd03bffff</td>\n",
       "      <td>893960cd0a3ffff</td>\n",
       "    </tr>\n",
       "    <tr>\n",
       "      <th>geometry_9</th>\n",
       "      <td>{'type': 'Polygon', 'coordinates': [((1.1612006014059613, 4...</td>\n",
       "      <td>{'type': 'Polygon', 'coordinates': [((1.1717612358664058, 4...</td>\n",
       "      <td>{'type': 'Polygon', 'coordinates': [((1.1742839156019138, 4...</td>\n",
       "      <td>{'type': 'Polygon', 'coordinates': [((1.1768063400238906, 4...</td>\n",
       "      <td>{'type': 'Polygon', 'coordinates': [((1.177275496559883, 43...</td>\n",
       "    </tr>\n",
       "    <tr>\n",
       "      <th>hex_id_10</th>\n",
       "      <td>8a3960cd0d6ffff</td>\n",
       "      <td>8a3960cd0147fff</td>\n",
       "      <td>8a3960cd0057fff</td>\n",
       "      <td>8a3960cd03b7fff</td>\n",
       "      <td>8a3960cd0a17fff</td>\n",
       "    </tr>\n",
       "    <tr>\n",
       "      <th>geometry_10</th>\n",
       "      <td>{'type': 'Polygon', 'coordinates': [((1.1627093694123714, 4...</td>\n",
       "      <td>{'type': 'Polygon', 'coordinates': [((1.1722683604723174, 4...</td>\n",
       "      <td>{'type': 'Polygon', 'coordinates': [((1.1737896159323953, 4...</td>\n",
       "      <td>{'type': 'Polygon', 'coordinates': [((1.1758050060682463, 4...</td>\n",
       "      <td>{'type': 'Polygon', 'coordinates': [((1.1767810809961807, 4...</td>\n",
       "    </tr>\n",
       "  </tbody>\n",
       "</table>\n",
       "</div>"
      ],
      "text/plain": [
       "                                                                          0  \\\n",
       "longitude                                                           1.16201   \n",
       "latitude                                                           43.51514   \n",
       "index                                                          [1208, 6653]   \n",
       "ligne                                                                 {116}   \n",
       "nom_log                                                Saint Lys Rossignols   \n",
       "info                                             Saint Lys Rossignols (116)   \n",
       "hex_id_7                                                    873960cd0ffffff   \n",
       "geometry_7   {'type': 'Polygon', 'coordinates': [((1.1682108111794347, 4...   \n",
       "hex_id_8                                                    883960cd0dfffff   \n",
       "geometry_8   {'type': 'Polygon', 'coordinates': [((1.1612006014059548, 4...   \n",
       "hex_id_9                                                    893960cd0d7ffff   \n",
       "geometry_9   {'type': 'Polygon', 'coordinates': [((1.1612006014059613, 4...   \n",
       "hex_id_10                                                   8a3960cd0d6ffff   \n",
       "geometry_10  {'type': 'Polygon', 'coordinates': [((1.1627093694123714, 4...   \n",
       "\n",
       "                                                                          1  \\\n",
       "longitude                                                           1.17214   \n",
       "latitude                                                           43.51300   \n",
       "index                                              [4134, 4135, 7880, 7881]   \n",
       "ligne                                                            {315, 116}   \n",
       "nom_log                                                             Piscine   \n",
       "info                                                      Piscine (315,116)   \n",
       "hex_id_7                                                    873960cd0ffffff   \n",
       "geometry_7   {'type': 'Polygon', 'coordinates': [((1.1682108111794347, 4...   \n",
       "hex_id_8                                                    883960cd01fffff   \n",
       "geometry_8   {'type': 'Polygon', 'coordinates': [((1.1717612358664187, 4...   \n",
       "hex_id_9                                                    893960cd017ffff   \n",
       "geometry_9   {'type': 'Polygon', 'coordinates': [((1.1717612358664058, 4...   \n",
       "hex_id_10                                                   8a3960cd0147fff   \n",
       "geometry_10  {'type': 'Polygon', 'coordinates': [((1.1722683604723174, 4...   \n",
       "\n",
       "                                                                          2  \\\n",
       "longitude                                                           1.17354   \n",
       "latitude                                                           43.50968   \n",
       "index                                              [4138, 4139, 4140, 6657]   \n",
       "ligne                                                            {315, 116}   \n",
       "nom_log                                                          8 mai 1945   \n",
       "info                                                   8 mai 1945 (315,116)   \n",
       "hex_id_7                                                    873960cd0ffffff   \n",
       "geometry_7   {'type': 'Polygon', 'coordinates': [((1.1682108111794347, 4...   \n",
       "hex_id_8                                                    883960cd01fffff   \n",
       "geometry_8   {'type': 'Polygon', 'coordinates': [((1.1717612358664187, 4...   \n",
       "hex_id_9                                                    893960cd007ffff   \n",
       "geometry_9   {'type': 'Polygon', 'coordinates': [((1.1742839156019138, 4...   \n",
       "hex_id_10                                                   8a3960cd0057fff   \n",
       "geometry_10  {'type': 'Polygon', 'coordinates': [((1.1737896159323953, 4...   \n",
       "\n",
       "                                                                          3  \\\n",
       "longitude                                                           1.17521   \n",
       "latitude                                                           43.50767   \n",
       "index                                              [1212, 4136, 4137, 6656]   \n",
       "ligne                                                            {315, 116}   \n",
       "nom_log                                                              Barrat   \n",
       "info                                                       Barrat (315,116)   \n",
       "hex_id_7                                                    873960cd0ffffff   \n",
       "geometry_7   {'type': 'Polygon', 'coordinates': [((1.1682108111794347, 4...   \n",
       "hex_id_8                                                    883960cd01fffff   \n",
       "geometry_8   {'type': 'Polygon', 'coordinates': [((1.1717612358664187, 4...   \n",
       "hex_id_9                                                    893960cd03bffff   \n",
       "geometry_9   {'type': 'Polygon', 'coordinates': [((1.1768063400238906, 4...   \n",
       "hex_id_10                                                   8a3960cd03b7fff   \n",
       "geometry_10  {'type': 'Polygon', 'coordinates': [((1.1758050060682463, 4...   \n",
       "\n",
       "                                                                          4  \n",
       "longitude                                                           1.17616  \n",
       "latitude                                                           43.51513  \n",
       "index                                                          [2390, 4133]  \n",
       "ligne                                                                 {315}  \n",
       "nom_log                                                          Boulodrome  \n",
       "info                                                       Boulodrome (315)  \n",
       "hex_id_7                                                    873960cd0ffffff  \n",
       "geometry_7   {'type': 'Polygon', 'coordinates': [((1.1682108111794347, 4...  \n",
       "hex_id_8                                                    883960cd0bfffff  \n",
       "geometry_8   {'type': 'Polygon', 'coordinates': [((1.178771443825885, 43...  \n",
       "hex_id_9                                                    893960cd0a3ffff  \n",
       "geometry_9   {'type': 'Polygon', 'coordinates': [((1.177275496559883, 43...  \n",
       "hex_id_10                                                   8a3960cd0a17fff  \n",
       "geometry_10  {'type': 'Polygon', 'coordinates': [((1.1767810809961807, 4...  "
      ]
     },
     "execution_count": 51,
     "metadata": {},
     "output_type": "execute_result"
    }
   ],
   "source": [
    "# index each data point into the spatial index of the specified resolution\n",
    "for res in range(7, 11):\n",
    "    col_hex_id = \"hex_id_{}\".format(res)\n",
    "    col_geom = \"geometry_{}\".format(res)\n",
    "    msg_ = \"At resolution {} -->  H3 cell id : {} and its geometry: {} \"\n",
    "    print(msg_.format(res, col_hex_id, col_geom))\n",
    "\n",
    "    df_stops_to_buslines[col_hex_id] = df_stops_to_buslines.apply(\n",
    "                                        lambda row: h3.geo_to_h3(\n",
    "                                                    lat = row[\"latitude\"],\n",
    "                                                    lng = row[\"longitude\"],\n",
    "                                                    resolution = res),\n",
    "                                        axis = 1)\n",
    "\n",
    "    # use h3.h3_to_geo_boundary to obtain the geometries of these hexagons\n",
    "    df_stops_to_buslines[col_geom] = df_stops_to_buslines[col_hex_id].apply(\n",
    "                                        lambda x: {\"type\": \"Polygon\",\n",
    "                                                   \"coordinates\":\n",
    "                                                   [h3.h3_to_geo_boundary(\n",
    "                                                       h=x, geo_json=True)]\n",
    "                                                   }\n",
    "                                         )\n",
    "# transpose for better display\n",
    "df_stops_to_buslines.head().T"
   ]
  },
  {
   "cell_type": "markdown",
   "metadata": {},
   "source": [
    "## II.3 Compute K Nearest Neighbors (spatial search) using the H3 index"
   ]
  },
  {
   "cell_type": "code",
   "execution_count": 52,
   "metadata": {},
   "outputs": [
    {
     "name": "stdout",
     "output_type": "stream",
     "text": [
      "Help on function hex_ring in module h3.api._api_template:\n",
      "\n",
      "hex_ring(h, k=1)\n",
      "    Return unordered set of cells with H3 distance `== k` from `h`.\n",
      "    That is, the \"hollow\" ring.\n",
      "    \n",
      "    Parameters\n",
      "    ----------\n",
      "    h : H3Cell\n",
      "    k : int\n",
      "        Size of ring.\n",
      "    \n",
      "    Returns\n",
      "    -------\n",
      "    unordered collection of H3Cell\n",
      "\n"
     ]
    }
   ],
   "source": [
    "help(h3.hex_ring)"
   ]
  },
  {
   "cell_type": "markdown",
   "metadata": {},
   "source": [
    "Create an inverted index hex_id_9 to list of row indices in df_stops_to_buslines:"
   ]
  },
  {
   "cell_type": "code",
   "execution_count": 53,
   "metadata": {},
   "outputs": [
    {
     "name": "stdout",
     "output_type": "stream",
     "text": [
      "Will operate on column:  hex_id_9\n",
      "Using 1709 hexagons\n"
     ]
    },
    {
     "data": {
      "text/html": [
       "<div>\n",
       "<style scoped>\n",
       "    .dataframe tbody tr th:only-of-type {\n",
       "        vertical-align: middle;\n",
       "    }\n",
       "\n",
       "    .dataframe tbody tr th {\n",
       "        vertical-align: top;\n",
       "    }\n",
       "\n",
       "    .dataframe thead th {\n",
       "        text-align: right;\n",
       "    }\n",
       "</style>\n",
       "<table border=\"1\" class=\"dataframe\">\n",
       "  <thead>\n",
       "    <tr style=\"text-align: right;\">\n",
       "      <th></th>\n",
       "      <th>list_indices</th>\n",
       "      <th>num_indices</th>\n",
       "    </tr>\n",
       "    <tr>\n",
       "      <th>hex_id_9</th>\n",
       "      <th></th>\n",
       "      <th></th>\n",
       "    </tr>\n",
       "  </thead>\n",
       "  <tbody>\n",
       "    <tr>\n",
       "      <th>893960185b7ffff</th>\n",
       "      <td>[1012, 1029, 1035, 1036]</td>\n",
       "      <td>4</td>\n",
       "    </tr>\n",
       "    <tr>\n",
       "      <th>89396018dc3ffff</th>\n",
       "      <td>[1602, 1607, 1612, 1613]</td>\n",
       "      <td>4</td>\n",
       "    </tr>\n",
       "    <tr>\n",
       "      <th>8939601ab17ffff</th>\n",
       "      <td>[1561, 1566, 1570]</td>\n",
       "      <td>3</td>\n",
       "    </tr>\n",
       "    <tr>\n",
       "      <th>89396018677ffff</th>\n",
       "      <td>[662, 680, 688]</td>\n",
       "      <td>3</td>\n",
       "    </tr>\n",
       "    <tr>\n",
       "      <th>89396018c9bffff</th>\n",
       "      <td>[1342, 1343, 1364]</td>\n",
       "      <td>3</td>\n",
       "    </tr>\n",
       "  </tbody>\n",
       "</table>\n",
       "</div>"
      ],
      "text/plain": [
       "                             list_indices  num_indices\n",
       "hex_id_9                                              \n",
       "893960185b7ffff  [1012, 1029, 1035, 1036]            4\n",
       "89396018dc3ffff  [1602, 1607, 1612, 1613]            4\n",
       "8939601ab17ffff        [1561, 1566, 1570]            3\n",
       "89396018677ffff           [662, 680, 688]            3\n",
       "89396018c9bffff        [1342, 1343, 1364]            3"
      ]
     },
     "execution_count": 53,
     "metadata": {},
     "output_type": "execute_result"
    }
   ],
   "source": [
    "resolution_lookup = 9\n",
    "hexes_column = \"hex_id_{}\".format(resolution_lookup)\n",
    "print(\"Will operate on column: \", hexes_column)\n",
    "df_aux = df_stops_to_buslines[[hexes_column]]\n",
    "df_aux.reset_index(inplace = True, drop = False)\n",
    "# columns are [index, hex_id_9]\n",
    "lookup_hex_to_indices = pd.DataFrame(\n",
    "                          df_aux.groupby(by = hexes_column)[\"index\"].apply(list)\n",
    "                        ).reset_index(inplace = False, drop = False)\n",
    "lookup_hex_to_indices.rename(columns = {\"index\": \"list_indices\"}, inplace = True)\n",
    "lookup_hex_to_indices[\"num_indices\"] = lookup_hex_to_indices[\"list_indices\"].apply(\n",
    "                                                                   lambda x: len(x))\n",
    "\n",
    "lookup_hex_to_indices.set_index(hexes_column, inplace = True)\n",
    "\n",
    "print(\"Using {} hexagons\".format(lookup_hex_to_indices.shape[0]))\n",
    "lookup_hex_to_indices.sort_values(by = \"num_indices\", ascending = False).head()"
   ]
  },
  {
   "cell_type": "markdown",
   "metadata": {},
   "source": [
    "For a given GPS location, we index it and then iterate over its hollow rings until we collect the candidates. Last step for computing result in descending distance, is to compute the actual Haversine distance: "
   ]
  },
  {
   "cell_type": "code",
   "execution_count": 54,
   "metadata": {},
   "outputs": [
    {
     "name": "stdout",
     "output_type": "stream",
     "text": [
      "processed ring: 0, candidates before: 0, candidates after: 1\n",
      "processed ring: 1, candidates before: 1, candidates after: 9\n",
      "processed ring: 2, candidates before: 9, candidates after: 19\n",
      "Candidate rows: \n",
      " [1220, 1267, 1256, 1280, 1231, 1255, 1195, 1201, 1211, 1222, 1120, 1137, 1148, 1152, 1204, 1171, 1315, 1261, 1279]\n"
     ]
    }
   ],
   "source": [
    "chosen_point = (43.595707, 1.452252)\n",
    "num_neighbors_wanted = 10\n",
    "\n",
    "hex_source = h3.geo_to_h3(lat = chosen_point[0],\n",
    "                          lng = chosen_point[1], \n",
    "                          resolution = 9)\n",
    "\n",
    "list_candidates = []\n",
    "rest_needed = num_neighbors_wanted - len(list_candidates)\n",
    "ring_seqno = 0\n",
    "hexes_processed = []\n",
    "\n",
    "while rest_needed > 0:\n",
    "    list_hexes_hollow_ring = list(h3.hex_ring(h = hex_source, k = ring_seqno))\n",
    "    for hex_on_ring in list_hexes_hollow_ring:\n",
    "        try:\n",
    "            new_candidates = lookup_hex_to_indices.loc[hex_on_ring][\"list_indices\"]\n",
    "            list_candidates.extend(new_candidates)\n",
    "        except Exception:\n",
    "            # we may get KeyError when no entry in lookup_hex_to_indices for a hex id\n",
    "            pass\n",
    "        hexes_processed.append(hex_on_ring)\n",
    "    \n",
    "    msg_ = \"processed ring: {}, candidates before: {}, candidates after: {}\"\n",
    "    print(msg_.format(ring_seqno, \n",
    "                      num_neighbors_wanted - rest_needed, \n",
    "                      len(list_candidates)))\n",
    "    \n",
    "    rest_needed = num_neighbors_wanted - len(list_candidates)\n",
    "    ring_seqno = ring_seqno + 1\n",
    "    \n",
    "print(\"Candidate rows: \\n\", list_candidates)"
   ]
  },
  {
   "cell_type": "code",
   "execution_count": 55,
   "metadata": {},
   "outputs": [],
   "source": [
    "def haversine_dist(lon_src, lat_src, lon_dst, lat_dst):\n",
    "    '''returns distance between GPS points, measured in meters'''\n",
    "\n",
    "    lon1_rad, lat1_rad, lon2_rad, lat2_rad = map(np.radians, \n",
    "                                                 [lon_src, lat_src, lon_dst, lat_dst])\n",
    "\n",
    "    dlon = lon2_rad - lon1_rad\n",
    "    dlat = lat2_rad - lat1_rad\n",
    "\n",
    "    a = np.sin(dlat / 2.0) ** 2 + np.cos(lat1_rad) * \\\n",
    "        np.cos(lat2_rad) * np.sin(dlon / 2.0) ** 2\n",
    "\n",
    "    c = 2 * np.arcsin(np.sqrt(a))\n",
    "    km = 6367 * c\n",
    "    return km * 1000"
   ]
  },
  {
   "cell_type": "code",
   "execution_count": 56,
   "metadata": {},
   "outputs": [
    {
     "name": "stdout",
     "output_type": "stream",
     "text": [
      "[(110.30090345004336, 1220),\n",
      " (211.08447647799304, 1201),\n",
      " (241.09973884919881, 1171),\n",
      " (343.8694433008194, 1211),\n",
      " (394.46277577154916, 1256),\n",
      " (430.12188861082956, 1267),\n",
      " (469.8637112761113, 1137),\n",
      " (483.1633371728286, 1231),\n",
      " (550.8099362366282, 1280),\n",
      " (558.5488318871681, 1222),\n",
      " (561.4638710344096, 1152),\n",
      " (561.984178495105, 1195),\n",
      " (566.3756339553231, 1204),\n",
      " (573.5175535493113, 1120),\n",
      " (580.5753879614737, 1255),\n",
      " (647.3504992196245, 1148),\n",
      " (818.3981808448962, 1315),\n",
      " (830.3178617453524, 1279),\n",
      " (859.4396937242238, 1261)]\n",
      "-------------------------------------------------\n",
      "[1220, 1201, 1171, 1211, 1256, 1267, 1137, 1231, 1280, 1222]\n"
     ]
    }
   ],
   "source": [
    "ordered_candidates_by_distance = []\n",
    "\n",
    "for candid in list_candidates:\n",
    "    candid_busstop_lat = df_stops_to_buslines.iloc[candid][\"latitude\"]\n",
    "    candid_busstop_lon = df_stops_to_buslines.iloc[candid][\"longitude\"]\n",
    "    \n",
    "    # compute Haversine to source\n",
    "    dist_to_source = haversine_dist(lon_src = chosen_point[1], \n",
    "                                    lat_src = chosen_point[0], \n",
    "                                    lon_dst = candid_busstop_lon,\n",
    "                                    lat_dst = candid_busstop_lat)\n",
    "    \n",
    "    if len(ordered_candidates_by_distance) == 0:\n",
    "        ordered_candidates_by_distance.append((dist_to_source, candid))\n",
    "    else:\n",
    "        bisect.insort(ordered_candidates_by_distance, (dist_to_source, candid))\n",
    "\n",
    "\n",
    "pprint(ordered_candidates_by_distance)\n",
    "\n",
    "print(\"-------------------------------------------------\")\n",
    "# the final result\n",
    "final_result = ordered_candidates_by_distance[0:num_neighbors_wanted]\n",
    "list_candidates_result = [x[1] for x in final_result]\n",
    "print(list_candidates_result)"
   ]
  },
  {
   "cell_type": "code",
   "execution_count": 57,
   "metadata": {},
   "outputs": [
    {
     "name": "stdout",
     "output_type": "stream",
     "text": [
      "Nearest bus stops: \n",
      "======================================\n",
      "Grand Rond (L7,29,31,44)\n",
      "Passerelle St-Sauveur (27)\n",
      "Seel (27)\n",
      "Périssé (SCOL6,L8,SCOL7)\n",
      "Place Dupuy (L8,L1)\n",
      "Port St-Etienne (SCOL6,L1,SCOL7)\n",
      "François Verdier (L9,L8,29,L7,14,L1,44)\n",
      "Quartier Général (L7,29,44)\n",
      "Jardin des Plantes (L7,44)\n",
      "Frizac (L7)\n",
      "Salin-Parlement (L4)\n",
      "Féral (VILLE)\n",
      "Boulbonne (L9,L7,14,44)\n",
      "Trois Banquets (VILLE)\n",
      "Duméril (44)\n",
      "Jardin Royal (31)\n",
      "Lanfant (SCOL6,L8,SCOL7)\n",
      "Guilhemery (27)\n",
      "Aqueduc (SCOL6,L1,SCOL7)\n"
     ]
    },
    {
     "data": {
      : [
       "<Figure size 720x720 with 1 Axes>"
      ]
     },
     "metadata": {
      "needs_background": "light"
     },
     "output_type": "display_data"
    }
   ],
   "source": [
    "# plot the candidates\n",
    "fig, ax = plt.subplots(1, 1, figsize = (10, 10))\n",
    "\n",
    "for hex_id in hexes_processed:\n",
    "    geom_boundary_coords = h3.h3_to_geo_boundary(hex_id,\n",
    "                                                 geo_json = True)\n",
    "    geom_shp = geometry.Polygon(geom_boundary_coords)\n",
    "    ax.plot(*geom_shp.exterior.xy, color = \"purple\")\n",
    "    \n",
    "# the source in red\n",
    "circle_source = plt.Circle((chosen_point[1], chosen_point[0]), \n",
    "                           0.00025, color='red')\n",
    "ax.add_artist(circle_source)\n",
    "\n",
    "print(\"Nearest bus stops: \\n======================================\")\n",
    "\n",
    "# the nearest candidates in green, the rest of the candidates in orange\n",
    "for candid in list_candidates:\n",
    "    candid_busstop_lat = df_stops_to_buslines.iloc[candid][\"latitude\"]\n",
    "    candid_busstop_lon = df_stops_to_buslines.iloc[candid][\"longitude\"]\n",
    "    candid_busstop_info = df_stops_to_buslines.iloc[candid][\"info\"]\n",
    "    \n",
    "    print(\"{}\".format(candid_busstop_info))\n",
    "    \n",
    "    if candid in list_candidates_result:\n",
    "        circle_candid = plt.Circle((candid_busstop_lon, candid_busstop_lat), \n",
    "                                   0.00025, color='green')\n",
    "        # draw a line if it's in he nearest neighbours final result\n",
    "        ax.plot([chosen_point[1], candid_busstop_lon], \n",
    "                [chosen_point[0], candid_busstop_lat], \n",
    "                'green', linestyle=':', marker='')\n",
    "    else:    \n",
    "        circle_candid = plt.Circle((candid_busstop_lon, candid_busstop_lat), \n",
    "                                   0.00025, color='orange')\n",
    "    ax.add_artist(circle_candid)\n",
    "    "
   ]
  },
  {
   "cell_type": "markdown",
   "metadata": {},
   "source": [
    "Note: there exist bus stops on the 2nd hollow ring that are nearer to the source (which is marked by red circle) than some of the bus stops on the 1st hollow ring.  \n",
    "So it is adviseabale to always include one additional hollow ring of candidates before computing Haversine distance."
   ]
  },
  {
   "cell_type": "markdown",
   "metadata": {},
   "source": [
    "-------------"
   ]
  },
  {
   "cell_type": "markdown",
   "metadata": {},
   "source": [
    "## II.4. Compute Point in Polygon (spatial join) using the H3 index"
   ]
  },
  {
   "cell_type": "markdown",
   "metadata": {},
   "source": [
    "For this demo, we use the set of districts of Toulouse:"
   ]
  },
  {
   "cell_type": "code",
   "execution_count": 58,
   "metadata": {},
   "outputs": [],
   "source": [
    "def load_and_prepare_districts(filepath):\n",
    "    \"\"\"Loads a geojson files of polygon geometries and features,\n",
    "    swaps the latitude and longitude andstores geojson\"\"\"\n",
    "\n",
    "    gdf_districts = gpd.read_file(filepath, driver=\"GeoJSON\")\n",
    "    \n",
    "    gdf_districts[\"geom_geojson\"] = gdf_districts[\"geometry\"].apply(\n",
    "                                              lambda x: geometry.mapping(x))\n",
    "\n",
    "    gdf_districts[\"geom_swap\"] = gdf_districts[\"geometry\"].map(\n",
    "                                              lambda polygon: ops.transform(\n",
    "                                                  lambda x, y: (y, x), polygon))\n",
    "\n",
    "    gdf_districts[\"geom_swap_geojson\"] = gdf_districts[\"geom_swap\"].apply(\n",
    "                                              lambda x: geometry.mapping(x))\n",
    "    \n",
    "    return gdf_districts\n"
   ]
  },
  {
   "cell_type": "code",
   "execution_count": 59,
   "metadata": {},
   "outputs": [
    {
     "name": "stdout",
     "output_type": "stream",
     "text": [
      "(60, 90)\n",
      "\n",
      "--------------------------------------------------------\n",
      "\n",
      "AMIDONNIERS        CROIX-DE-PIERRE       LE BUSCA               RANGUEIL - CHR - FACULTES\n",
      "ARENES             EMPALOT               LES CHALETS            REYNERIE                 \n",
      "ARNAUD BERNARD     FAOURETTE             LES IZARDS             ROSERAIE                 \n",
      "BAGATELLE          FER-A-CHEVAL          LES PRADETTES          SAINT-AGNE               \n",
      "BARRIERE-DE-PARIS  FONTAINE-LESTANG      MARENGO - JOLIMONT     SAINT-AUBIN - DUPUY      \n",
      "BASSO-CAMBO        GINESTOUS             MATABIAU               SAINT-CYPRIEN            \n",
      "BELLEFONTAINE      GRAMONT               MINIMES                SAINT-ETIENNE            \n",
      "BONNEFOY           GUILHEMERY            MIRAIL-UNIVERSITE      SAINT-GEORGES            \n",
      "CAPITOLE           JULES JULIEN          MONTAUDRAN - LESPINET  SAINT-MARTIN-DU-TOUCH    \n",
      "CARMES             JUNCASSE - ARGOULETS  PAPUS                  SAINT-MICHEL             \n",
      "CASSELARDIT        LA CEPIERE            PATTE D'OIE            SAINT-SIMON              \n",
      "CHATEAU-DE-L'HERS  LA FOURGUETTE         PONT-DES-DEMOISELLES   SAUZELONG - RANGUEIL     \n",
      "COMPANS            LA TERRASSE           POUVOURVILLE           SEPT DENIERS             \n",
      "COTE PAVEE         LALANDE               PURPAN                 SOUPETARD                \n",
      "CROIX-DAURADE      LARDENNE              RAMIER                 ZONES D'ACTIVITES SUD    \n",
      "\n",
      "\n",
      "--------------------------------------------------------\n",
      "\n"
     ]
    },
    {
     "data": {
      "text/html": [
       "<div>\n",
       "<style scoped>\n",
       "    .dataframe tbody tr th:only-of-type {\n",
       "        vertical-align: middle;\n",
       "    }\n",
       "\n",
       "    .dataframe tbody tr th {\n",
       "        vertical-align: top;\n",
       "    }\n",
       "\n",
       "    .dataframe thead th {\n",
       "        text-align: right;\n",
       "    }\n",
       "</style>\n",
       "<table border=\"1\" class=\"dataframe\">\n",
       "  <thead>\n",
       "    <tr style=\"text-align: right;\">\n",
       "      <th></th>\n",
       "      <th>libelle_du_grand_quartier</th>\n",
       "      <th>geometry</th>\n",
       "      <th>geom_swap</th>\n",
       "      <th>geom_swap_geojson</th>\n",
       "    </tr>\n",
       "  </thead>\n",
       "  <tbody>\n",
       "    <tr>\n",
       "      <th>0</th>\n",
       "      <td>POUVOURVILLE</td>\n",
       "      <td>POLYGON ((1.43836 43.54349, 1.43861 43.54391, 1.43896 43.54...</td>\n",
       "      <td>POLYGON ((43.54349 1.43836, 43.54391 1.43861, 43.54451 1.43...</td>\n",
       "      <td>{'type': 'Polygon', 'coordinates': (((43.543488564769895, 1...</td>\n",
       "    </tr>\n",
       "    <tr>\n",
       "      <th>1</th>\n",
       "      <td>MIRAIL-UNIVERSITE</td>\n",
       "      <td>POLYGON ((1.40771 43.57711, 1.40926 43.57469, 1.40991 43.57...</td>\n",
       "      <td>POLYGON ((43.57711 1.40771, 43.57469 1.40926, 43.57367 1.40...</td>\n",
       "      <td>{'type': 'Polygon', 'coordinates': (((43.57710502457672, 1....</td>\n",
       "    </tr>\n",
       "    <tr>\n",
       "      <th>2</th>\n",
       "      <td>BONNEFOY</td>\n",
       "      <td>POLYGON ((1.46186 43.62289, 1.46217 43.62286, 1.46277 43.62...</td>\n",
       "      <td>POLYGON ((43.62289 1.46186, 43.62286 1.46217, 43.62269 1.46...</td>\n",
       "      <td>{'type': 'Polygon', 'coordinates': (((43.62289091647399, 1....</td>\n",
       "    </tr>\n",
       "    <tr>\n",
       "      <th>3</th>\n",
       "      <td>GINESTOUS</td>\n",
       "      <td>POLYGON ((1.42352 43.64833, 1.42323 43.64673, 1.42333 43.64...</td>\n",
       "      <td>POLYGON ((43.64833 1.42352, 43.64673 1.42323, 43.64672 1.42...</td>\n",
       "      <td>{'type': 'Polygon', 'coordinates': (((43.64832971716174, 1....</td>\n",
       "    </tr>\n",
       "    <tr>\n",
       "      <th>4</th>\n",
       "      <td>SAINT-MARTIN-DU-TOUCH</td>\n",
       "      <td>POLYGON ((1.35109 43.60620, 1.35224 43.60798, 1.35297 43.60...</td>\n",
       "      <td>POLYGON ((43.60620 1.35109, 43.60798 1.35224, 43.60899 1.35...</td>\n",
       "      <td>{'type': 'Polygon', 'coordinates': (((43.60620250781113, 1....</td>\n",
       "    </tr>\n",
       "  </tbody>\n",
       "</table>\n",
       "</div>"
      ],
      "text/plain": [
       "  libelle_du_grand_quartier  \\\n",
       "0              POUVOURVILLE   \n",
       "1         MIRAIL-UNIVERSITE   \n",
       "2                  BONNEFOY   \n",
       "3                 GINESTOUS   \n",
       "4     SAINT-MARTIN-DU-TOUCH   \n",
       "\n",
       "                                                         geometry  \\\n",
       "0  POLYGON ((1.43836 43.54349, 1.43861 43.54391, 1.43896 43.54...   \n",
       "1  POLYGON ((1.40771 43.57711, 1.40926 43.57469, 1.40991 43.57...   \n",
       "2  POLYGON ((1.46186 43.62289, 1.46217 43.62286, 1.46277 43.62...   \n",
       "3  POLYGON ((1.42352 43.64833, 1.42323 43.64673, 1.42333 43.64...   \n",
       "4  POLYGON ((1.35109 43.60620, 1.35224 43.60798, 1.35297 43.60...   \n",
       "\n",
       "                                                        geom_swap  \\\n",
       "0  POLYGON ((43.54349 1.43836, 43.54391 1.43861, 43.54451 1.43...   \n",
       "1  POLYGON ((43.57711 1.40771, 43.57469 1.40926, 43.57367 1.40...   \n",
       "2  POLYGON ((43.62289 1.46186, 43.62286 1.46217, 43.62269 1.46...   \n",
       "3  POLYGON ((43.64833 1.42352, 43.64673 1.42323, 43.64672 1.42...   \n",
       "4  POLYGON ((43.60620 1.35109, 43.60798 1.35224, 43.60899 1.35...   \n",
       "\n",
       "                                                geom_swap_geojson  \n",
       "0  {'type': 'Polygon', 'coordinates': (((43.543488564769895, 1...  \n",
       "1  {'type': 'Polygon', 'coordinates': (((43.57710502457672, 1....  \n",
       "2  {'type': 'Polygon', 'coordinates': (((43.62289091647399, 1....  \n",
       "3  {'type': 'Polygon', 'coordinates': (((43.64832971716174, 1....  \n",
       "4  {'type': 'Polygon', 'coordinates': (((43.60620250781113, 1....  "
      ]
     },
     "execution_count": 59,
     "metadata": {},
     "output_type": "execute_result"
    }
   ],
   "source": [
    "input_file_districts = \"datasets_demo/districts_Toulouse.geojson\"\n",
    "gdf_districts = load_and_prepare_districts(filepath = input_file_districts) \n",
    " \n",
    "print(gdf_districts.shape)\n",
    "print(\"\\n--------------------------------------------------------\\n\")\n",
    "list_districts = list(gdf_districts[\"libelle_du_grand_quartier\"].unique())\n",
    "list_districts.sort()\n",
    "print(columnize(list_districts, displaywidth=100))\n",
    "print(\"\\n--------------------------------------------------------\\n\")\n",
    "\n",
    "gdf_districts[[\"libelle_du_grand_quartier\", \"geometry\", \n",
    "               \"geom_swap\", \"geom_swap_geojson\"]].head()"
   ]
  },
  {
   "cell_type": "markdown",
   "metadata": {},
   "source": [
    "The approach is to fill each district geometry with hexgons at resolution 13 and then compact them.\n",
    "\n",
    "**Initial fill:**"
   ]
  },
  {
   "cell_type": "code",
   "execution_count": 60,
   "metadata": {},
   "outputs": [
    {
     "name": "stdout",
     "output_type": "stream",
     "text": [
      "Help on function polyfill in module h3.api._api_template:\n",
      "\n",
      "polyfill(geojson, res, geo_json_conformant=False)\n",
      "    Get set of hexagons whose *centers* are contained within\n",
      "    a GeoJSON-style polygon.\n",
      "    \n",
      "    Parameters\n",
      "    ----------\n",
      "    geojson : dict\n",
      "        GeoJSON-style input dictionary describing a polygon (optionally\n",
      "        including holes).\n",
      "    \n",
      "        Dictionary should be formatted like:\n",
      "    \n",
      "        ```\n",
      "        {\n",
      "            'type': 'Polygon',\n",
      "            'coordinates': [outer, hole1, hole2, ...],\n",
      "        }\n",
      "        ```\n",
      "        `outer`, `hole1`, etc., are lists of geo coordinate tuples.\n",
      "        The holes are optional.\n",
      "    \n",
      "    res : int\n",
      "        Desired output resolution for cells.\n",
      "    geo_json_conformant : bool, optional\n",
      "        When `True`, `outer`, `hole1`, etc. must be sequences of\n",
      "        lng/lat pairs, with the last the same as the first.\n",
      "        When `False`, they must be sequences of lat/lng pairs,\n",
      "        with the last not needing to match the first.\n",
      "    \n",
      "    Returns\n",
      "    -------\n",
      "    unordered collection of H3Cell\n",
      "\n"
     ]
    }
   ],
   "source": [
    "help(h3.polyfill)"
   ]
  },
  {
   "cell_type": "code",
   "execution_count": 61,
   "metadata": {},
   "outputs": [],
   "source": [
    "def fill_hexagons(geom_geojson, res, flag_swap = False, flag_return_df = False):\n",
    "    \"\"\"Fills a geometry given in geojson format with H3 hexagons at specified\n",
    "    resolution. The flag_reverse_geojson allows to specify whether the geometry\n",
    "    is lon/lat or swapped\"\"\"\n",
    "\n",
    "    set_hexagons = h3.polyfill(geojson = geom_geojson,\n",
    "                               res = res,\n",
    "                               geo_json_conformant = flag_swap)\n",
    "    list_hexagons_filling = list(set_hexagons)\n",
    "\n",
    "    if flag_return_df is True:\n",
    "        # make dataframe\n",
    "        df_fill_hex = pd.DataFrame({\"hex_id\": list_hexagons_filling})\n",
    "        df_fill_hex[\"value\"] = 0\n",
    "        df_fill_hex['geometry'] = df_fill_hex.hex_id.apply(\n",
    "                                    lambda x:\n",
    "                                    {\"type\": \"Polygon\",\n",
    "                                     \"coordinates\": [\n",
    "                                        h3.h3_to_geo_boundary(h=x,\n",
    "                                                              geo_json=True)\n",
    "                                        ]\n",
    "                                     })\n",
    "        assert(df_fill_hex.shape[0] == len(list_hexagons_filling))\n",
    "        return df_fill_hex\n",
    "    else:\n",
    "        return list_hexagons_filling\n"
   ]
  },
  {
   "cell_type": "code",
   "execution_count": 62,
   "metadata": {},
   "outputs": [
    {
     "name": "stdout",
     "output_type": "stream",
     "text": [
      "Until here, we'd have to search over 2851449 hexagons\n"
     ]
    },
    {
     "data": {
      "text/html": [
       "<div>\n",
       "<style scoped>\n",
       "    .dataframe tbody tr th:only-of-type {\n",
       "        vertical-align: middle;\n",
       "    }\n",
       "\n",
       "    .dataframe tbody tr th {\n",
       "        vertical-align: top;\n",
       "    }\n",
       "\n",
       "    .dataframe thead th {\n",
       "        text-align: right;\n",
       "    }\n",
       "</style>\n",
       "<table border=\"1\" class=\"dataframe\">\n",
       "  <thead>\n",
       "    <tr style=\"text-align: right;\">\n",
       "      <th></th>\n",
       "      <th>libelle_du_grand_quartier</th>\n",
       "      <th>geometry</th>\n",
       "      <th>num_hex_fill_initial</th>\n",
       "    </tr>\n",
       "  </thead>\n",
       "  <tbody>\n",
       "    <tr>\n",
       "      <th>0</th>\n",
       "      <td>POUVOURVILLE</td>\n",
       "      <td>POLYGON ((1.43836 43.54349, 1.43861 43.54391, 1.43896 43.54...</td>\n",
       "      <td>68255</td>\n",
       "    </tr>\n",
       "    <tr>\n",
       "      <th>1</th>\n",
       "      <td>MIRAIL-UNIVERSITE</td>\n",
       "      <td>POLYGON ((1.40771 43.57711, 1.40926 43.57469, 1.40991 43.57...</td>\n",
       "      <td>25403</td>\n",
       "    </tr>\n",
       "    <tr>\n",
       "      <th>2</th>\n",
       "      <td>BONNEFOY</td>\n",
       "      <td>POLYGON ((1.46186 43.62289, 1.46217 43.62286, 1.46277 43.62...</td>\n",
       "      <td>36671</td>\n",
       "    </tr>\n",
       "    <tr>\n",
       "      <th>3</th>\n",
       "      <td>GINESTOUS</td>\n",
       "      <td>POLYGON ((1.42352 43.64833, 1.42323 43.64673, 1.42333 43.64...</td>\n",
       "      <td>168200</td>\n",
       "    </tr>\n",
       "    <tr>\n",
       "      <th>4</th>\n",
       "      <td>SAINT-MARTIN-DU-TOUCH</td>\n",
       "      <td>POLYGON ((1.35109 43.60620, 1.35224 43.60798, 1.35297 43.60...</td>\n",
       "      <td>158445</td>\n",
       "    </tr>\n",
       "  </tbody>\n",
       "</table>\n",
       "</div>"
      ],
      "text/plain": [
       "  libelle_du_grand_quartier  \\\n",
       "0              POUVOURVILLE   \n",
       "1         MIRAIL-UNIVERSITE   \n",
       "2                  BONNEFOY   \n",
       "3                 GINESTOUS   \n",
       "4     SAINT-MARTIN-DU-TOUCH   \n",
       "\n",
       "                                                         geometry  \\\n",
       "0  POLYGON ((1.43836 43.54349, 1.43861 43.54391, 1.43896 43.54...   \n",
       "1  POLYGON ((1.40771 43.57711, 1.40926 43.57469, 1.40991 43.57...   \n",
       "2  POLYGON ((1.46186 43.62289, 1.46217 43.62286, 1.46277 43.62...   \n",
       "3  POLYGON ((1.42352 43.64833, 1.42323 43.64673, 1.42333 43.64...   \n",
       "4  POLYGON ((1.35109 43.60620, 1.35224 43.60798, 1.35297 43.60...   \n",
       "\n",
       "   num_hex_fill_initial  \n",
       "0                 68255  \n",
       "1                 25403  \n",
       "2                 36671  \n",
       "3                168200  \n",
       "4                158445  "
      ]
     },
     "execution_count": 62,
     "metadata": {},
     "output_type": "execute_result"
    }
   ],
   "source": [
    "gdf_districts[\"hex_fill_initial\"] = gdf_districts[\"geom_swap_geojson\"].apply(\n",
    "                                         lambda x: list(fill_hexagons(geom_geojson = x, \n",
    "                                                                      res = 13))\n",
    "                                          )\n",
    "gdf_districts[\"num_hex_fill_initial\"] = gdf_districts[\"hex_fill_initial\"].apply(len)\n",
    "\n",
    "total_num_hex_initial = gdf_districts[\"num_hex_fill_initial\"].sum()\n",
    "print(\"Until here, we'd have to search over {} hexagons\".format(total_num_hex_initial))\n",
    "\n",
    "gdf_districts[[\"libelle_du_grand_quartier\", \"geometry\", \"num_hex_fill_initial\"]].head()"
   ]
  },
  {
   "cell_type": "markdown",
   "metadata": {},
   "source": [
    "To reduce the number of hexagons we can benefit from H3 cells compacting.\n",
    "\n",
    "**Compacted fill:**"
   ]
  },
  {
   "cell_type": "code",
   "execution_count": 63,
   "metadata": {},
   "outputs": [
    {
     "name": "stdout",
     "output_type": "stream",
     "text": [
      "Help on function compact in module h3.api._api_template:\n",
      "\n",
      "compact(hexes)\n",
      "    Compact a collection of H3 cells by combining\n",
      "    smaller cells into larger cells, if all child cells\n",
      "    are present.\n",
      "    \n",
      "    Parameters\n",
      "    ----------\n",
      "    hexes : iterable of H3Cell\n",
      "    \n",
      "    Returns\n",
      "    -------\n",
      "    unordered collection of H3Cell\n",
      "\n"
     ]
    }
   ],
   "source": [
    "help(h3.compact)"
   ]
  },
  {
   "cell_type": "code",
   "execution_count": 64,
   "metadata": {},
   "outputs": [
    {
     "name": "stdout",
     "output_type": "stream",
     "text": [
      "Reduced number of cells from 2851449 to 94287 \n",
      "\n"
     ]
    },
    {
     "data": {
      "text/html": [
       "<div>\n",
       "<style scoped>\n",
       "    .dataframe tbody tr th:only-of-type {\n",
       "        vertical-align: middle;\n",
       "    }\n",
       "\n",
       "    .dataframe tbody tr th {\n",
       "        vertical-align: top;\n",
       "    }\n",
       "\n",
       "    .dataframe thead th {\n",
       "        text-align: right;\n",
       "    }\n",
       "</style>\n",
       "<table border=\"1\" class=\"dataframe\">\n",
       "  <thead>\n",
       "    <tr style=\"text-align: right;\">\n",
       "      <th></th>\n",
       "      <th>libelle_du_grand_quartier</th>\n",
       "      <th>geometry</th>\n",
       "      <th>num_hex_fill_initial</th>\n",
       "      <th>num_hex_fill_compact</th>\n",
       "      <th>hex_resolutions_counts</th>\n",
       "    </tr>\n",
       "  </thead>\n",
       "  <tbody>\n",
       "    <tr>\n",
       "      <th>0</th>\n",
       "      <td>POUVOURVILLE</td>\n",
       "      <td>POLYGON ((1.43836 43.54349, 1.43861 43.54391, 1.43896 43.54...</td>\n",
       "      <td>68255</td>\n",
       "      <td>2813</td>\n",
       "      <td>{12: 668, 13: 1839, 11: 224, 10: 71, 9: 11}</td>\n",
       "    </tr>\n",
       "    <tr>\n",
       "      <th>1</th>\n",
       "      <td>MIRAIL-UNIVERSITE</td>\n",
       "      <td>POLYGON ((1.40771 43.57711, 1.40926 43.57469, 1.40991 43.57...</td>\n",
       "      <td>25403</td>\n",
       "      <td>1175</td>\n",
       "      <td>{13: 749, 12: 288, 11: 105, 10: 30, 9: 3}</td>\n",
       "    </tr>\n",
       "    <tr>\n",
       "      <th>2</th>\n",
       "      <td>BONNEFOY</td>\n",
       "      <td>POLYGON ((1.46186 43.62289, 1.46217 43.62286, 1.46277 43.62...</td>\n",
       "      <td>36671</td>\n",
       "      <td>1811</td>\n",
       "      <td>{11: 158, 13: 1167, 12: 438, 10: 44, 9: 4}</td>\n",
       "    </tr>\n",
       "    <tr>\n",
       "      <th>3</th>\n",
       "      <td>GINESTOUS</td>\n",
       "      <td>POLYGON ((1.42352 43.64833, 1.42323 43.64673, 1.42333 43.64...</td>\n",
       "      <td>168200</td>\n",
       "      <td>3446</td>\n",
       "      <td>{13: 2132, 12: 834, 10: 120, 11: 323, 9: 36, 8: 1}</td>\n",
       "    </tr>\n",
       "    <tr>\n",
       "      <th>4</th>\n",
       "      <td>SAINT-MARTIN-DU-TOUCH</td>\n",
       "      <td>POLYGON ((1.35109 43.60620, 1.35224 43.60798, 1.35297 43.60...</td>\n",
       "      <td>158445</td>\n",
       "      <td>3459</td>\n",
       "      <td>{13: 2219, 11: 274, 12: 849, 10: 98, 9: 15, 8: 4}</td>\n",
       "    </tr>\n",
       "  </tbody>\n",
       "</table>\n",
       "</div>"
      ],
      "text/plain": [
       "  libelle_du_grand_quartier  \\\n",
       "0              POUVOURVILLE   \n",
       "1         MIRAIL-UNIVERSITE   \n",
       "2                  BONNEFOY   \n",
       "3                 GINESTOUS   \n",
       "4     SAINT-MARTIN-DU-TOUCH   \n",
       "\n",
       "                                                         geometry  \\\n",
       "0  POLYGON ((1.43836 43.54349, 1.43861 43.54391, 1.43896 43.54...   \n",
       "1  POLYGON ((1.40771 43.57711, 1.40926 43.57469, 1.40991 43.57...   \n",
       "2  POLYGON ((1.46186 43.62289, 1.46217 43.62286, 1.46277 43.62...   \n",
       "3  POLYGON ((1.42352 43.64833, 1.42323 43.64673, 1.42333 43.64...   \n",
       "4  POLYGON ((1.35109 43.60620, 1.35224 43.60798, 1.35297 43.60...   \n",
       "\n",
       "   num_hex_fill_initial  num_hex_fill_compact  \\\n",
       "0                 68255                  2813   \n",
       "1                 25403                  1175   \n",
       "2                 36671                  1811   \n",
       "3                168200                  3446   \n",
       "4                158445                  3459   \n",
       "\n",
       "                               hex_resolutions_counts  \n",
       "0         {12: 668, 13: 1839, 11: 224, 10: 71, 9: 11}  \n",
       "1           {13: 749, 12: 288, 11: 105, 10: 30, 9: 3}  \n",
       "2          {11: 158, 13: 1167, 12: 438, 10: 44, 9: 4}  \n",
       "3  {13: 2132, 12: 834, 10: 120, 11: 323, 9: 36, 8: 1}  \n",
       "4   {13: 2219, 11: 274, 12: 849, 10: 98, 9: 15, 8: 4}  "
      ]
     },
     "execution_count": 64,
     "metadata": {},
     "output_type": "execute_result"
    }
   ],
   "source": [
    "gdf_districts[\"hex_fill_compact\"] = gdf_districts[\"hex_fill_initial\"].apply(\n",
    "                                                lambda x: list(h3.compact(x)))\n",
    "gdf_districts[\"num_hex_fill_compact\"] = gdf_districts[\"hex_fill_compact\"].apply(len)\n",
    "\n",
    "print(\"Reduced number of cells from {} to {} \\n\".format(\n",
    "            gdf_districts[\"num_hex_fill_initial\"].sum(),\n",
    "            gdf_districts[\"num_hex_fill_compact\"].sum()))\n",
    "\n",
    "# count cells by index resolution after compacting\n",
    "\n",
    "gdf_districts[\"hex_resolutions\"] = gdf_districts[\"hex_fill_compact\"].apply(\n",
    "                                            lambda x: \n",
    "                                            [h3.h3_get_resolution(hexid) for hexid in x])\n",
    "gdf_districts[\"hex_resolutions_counts\"] = gdf_districts[\"hex_resolutions\"].apply(\n",
    "                                            lambda x: Counter(x))\n",
    "\n",
    "\n",
    "gdf_districts[[\"libelle_du_grand_quartier\", \"geometry\", \n",
    "               \"num_hex_fill_initial\", \"num_hex_fill_compact\", \n",
    "               \"hex_resolutions_counts\"]].head()"
   ]
  },
  {
   "cell_type": "code",
   "execution_count": 65,
   "metadata": {},
   "outputs": [],
   "source": [
    "# this column of empty lists is a placeholder, will be used further in this section\n",
    "gdf_districts[\"compacted_novoids\"] = [[] for _ in range(gdf_districts.shape[0])]"
   ]
  },
  {
   "cell_type": "code",
   "execution_count": 66,
   "metadata": {},
   "outputs": [],
   "source": [
    "def plot_basemap_region_fill(df_boundaries_zones, initial_map = None):\n",
    "    \n",
    "    \"\"\"On a folium map, add the boundaries of the geometries in geojson formatted\n",
    "       column of df_boundaries_zones\"\"\"\n",
    "\n",
    "    if initial_map is None:\n",
    "        initial_map = base_empty_map()\n",
    "\n",
    "    feature_group = folium.FeatureGroup(name='Boundaries')\n",
    "\n",
    "    for i, row in df_boundaries_zones.iterrows():\n",
    "        feature_sel = Feature(geometry = row[\"geom_geojson\"], id=str(i))\n",
    "        feat_collection_sel = FeatureCollection([feature_sel])\n",
    "        geojson_subzone = json.dumps(feat_collection_sel)\n",
    "\n",
    "        GeoJson(\n",
    "                geojson_subzone,\n",
    "                style_function=lambda feature: {\n",
    "                    'fillColor': None,\n",
    "                    'color': 'blue',\n",
    "                    'weight': 5,\n",
    "                    'fillOpacity': 0\n",
    "                }\n",
    "            ).add_to(feature_group)\n",
    "\n",
    "    feature_group.add_to(initial_map)\n",
    "    return initial_map\n",
    "\n",
    "# ---------------------------------------------------------------------------\n",
    "\n",
    "\n",
    "def hexagons_dataframe_to_geojson(df_hex, hex_id_field,\n",
    "                                  geometry_field, value_field,\n",
    "                                  file_output = None):\n",
    "\n",
    "    \"\"\"Produce the GeoJSON representation containing all geometries in a dataframe\n",
    "     based on a column in geojson format (geometry_field)\"\"\"\n",
    "\n",
    "    list_features = []\n",
    "\n",
    "    for i, row in df_hex.iterrows():\n",
    "        feature = Feature(geometry = row[geometry_field],\n",
    "                          id = row[hex_id_field],\n",
    "                          properties = {\"value\": row[value_field]})\n",
    "        list_features.append(feature)\n",
    "\n",
    "    feat_collection = FeatureCollection(list_features)\n",
    "\n",
    "    geojson_result = json.dumps(feat_collection)\n",
    "\n",
    "    # optionally write to file\n",
    "    if file_output is not None:\n",
    "        with open(file_output, \"w\") as f:\n",
    "            json.dump(feat_collection, f)\n",
    "\n",
    "    return geojson_result\n",
    "\n",
    "# ---------------------------------------------------------------------------------\n",
    "\n",
    "\n",
    "def map_addlayer_filling(df_fill_hex, layer_name, map_initial, fillcolor = None):\n",
    "    \"\"\" On a folium map (likely created with plot_basemap_region_fill),\n",
    "        add a layer of hexagons that filled the geometry at given H3 resolution\n",
    "        (df_fill_hex returned by fill_hexagons method)\"\"\"\n",
    "\n",
    "    geojson_hx = hexagons_dataframe_to_geojson(df_fill_hex,\n",
    "                                               hex_id_field = \"hex_id\",\n",
    "                                               value_field = \"value\",\n",
    "                                               geometry_field = \"geometry\")\n",
    "\n",
    "    GeoJson(\n",
    "            geojson_hx,\n",
    "            style_function=lambda feature: {\n",
    "                'fillColor': fillcolor,\n",
    "                'color': 'red',\n",
    "                'weight': 2,\n",
    "                'fillOpacity': 0.1\n",
    "            },\n",
    "            name = layer_name\n",
    "        ).add_to(map_initial)\n",
    "\n",
    "    return map_initial\n",
    "\n",
    "# -------------------------------------------------------------------------------------\n",
    "\n",
    "\n",
    "def visualize_district_filled_compact(gdf_districts, \n",
    "                                      list_districts_names, \n",
    "                                      fillcolor = None):\n",
    "       \n",
    "    overall_map = base_empty_map()\n",
    "    gdf_districts_sel = gdf_districts[gdf_districts[\"libelle_du_grand_quartier\"]\n",
    "                                      .isin(list_districts_names)] \n",
    "    \n",
    "    map_district = plot_basemap_region_fill(gdf_districts_sel, \n",
    "                                            initial_map = overall_map)\n",
    "    \n",
    "    for i, row in gdf_districts_sel.iterrows():\n",
    "    \n",
    "        district_name = row[\"libelle_du_grand_quartier\"]\n",
    "        if len(row[\"compacted_novoids\"]) > 0:\n",
    "            list_hexagons_filling_compact = row[\"compacted_novoids\"]\n",
    "        else:\n",
    "            list_hexagons_filling_compact = []\n",
    "            \n",
    "        list_hexagons_filling_compact.extend(row[\"hex_fill_compact\"])\n",
    "        list_hexagons_filling_compact = list(set(list_hexagons_filling_compact))\n",
    "\n",
    "        # make dataframes\n",
    "        df_fill_compact = pd.DataFrame({\"hex_id\": list_hexagons_filling_compact})\n",
    "        df_fill_compact[\"value\"] = 0\n",
    "        df_fill_compact['geometry'] = df_fill_compact.hex_id.apply(\n",
    "                                        lambda x: \n",
    "                                        {\"type\": \"Polygon\",\n",
    "                                         \"coordinates\": [\n",
    "                                             h3.h3_to_geo_boundary(h=x,\n",
    "                                                                   geo_json=True)\n",
    "                                         ]\n",
    "                                         })\n",
    "\n",
    "        map_fill_compact = map_addlayer_filling(df_fill_hex = df_fill_compact, \n",
    "                                                layer_name = district_name,\n",
    "                                                map_initial = map_district,\n",
    "                                                fillcolor = fillcolor)\n",
    "        \n",
    "    folium.map.LayerControl('bottomright', collapsed=True).add_to(map_fill_compact)\n",
    "\n",
    "    return map_fill_compact"
   ]
  },
  {
   "cell_type": "code",
   "execution_count": null,
   "metadata": {},
   "outputs": [],
   "source": [
    "list_districts_names = [\"MIRAIL-UNIVERSITE\", \"BAGATELLE\", \"PAPUS\",\n",
    "                        \"FAOURETTE\", \"CROIX-DE-PIERRE\"]\n",
    "visualize_district_filled_compact(gdf_districts = gdf_districts,\n",
    "                                  list_districts_names = list_districts_names)"
   ]
  },
  {
   "cell_type": "code",
   "execution_count": 68,
   "metadata": {},
   "outputs": [
    {
     "data": {
      : [
       "<Figure size 1152x1152 with 1 Axes>"
      ]
     },
     "metadata": {
      "needs_background": "light"
     },
     "output_type": "display_data"
    }
   ],
   "source": [
    "fig, ax = plt.subplots(1, 1, figsize=(16, 16))\n",
    "\n",
    "im1 = pilim.open('images/districts_fill_compact.png', 'r')\n",
    "ax.imshow(np.asarray(im1))\n",
    "ax.set_title(\"Polyfill compacted for selected districts\")\n",
    "ax.set_axis_off();\n"
   ]
  },
  {
   "cell_type": "markdown",
   "metadata": {},
   "source": [
    "In the detail zoom that follows, we can observe that some small areas remained uncovered after compacting the set of hexagons used for filling districts geometries.   \n",
    "These small voids occur at the juxtaposition of hexagon cells of different H3 resolutions. \n",
    "As explained in section I.2 of the preliminaries, the parent's polygon does not overlap completely with the multipolygon of its children union.\n",
    "\n",
    "A consequence of this, for our spatial join, is that any point that would fall exactly in such a void would  be wrongly labelled as outside the district.\n"
   ]
  },
  {
   "cell_type": "code",
   "execution_count": 69,
   "metadata": {},
   "outputs": [
    {
     "data": {
      : [
       "<Figure size 1152x1152 with 1 Axes>"
      ]
     },
     "metadata": {
      "needs_background": "light"
     },
     "output_type": "display_data"
    }
   ],
   "source": [
    "fig, ax = plt.subplots(1, 1, figsize=(16, 16))\n",
    "\n",
    "im1 = pilim.open('images/compacted_voids.png', 'r')\n",
    "ax.imshow(np.asarray(im1))\n",
    "ax.set_title(\"Polyfill compacted for selected districts (voids zoomed in)\")\n",
    "ax.set_axis_off();"
   ]
  },
  {
   "cell_type": "markdown",
   "metadata": {},
   "source": [
    "So far, how many hexagons belonged to more than one district (i.e were on the border between districts)?"
   ]
  },
  {
   "cell_type": "code",
   "execution_count": 70,
   "metadata": {},
   "outputs": [],
   "source": [
    "def check_hexes_on_multiple_districts(gdf_districts, hexes_column):\n",
    "    \n",
    "    # map district name --> list of cells after compacting\n",
    "    dict_district_hexes = dict(zip(gdf_districts[\"libelle_du_grand_quartier\"], \n",
    "                                   gdf_districts[hexes_column]))\n",
    "\n",
    "    # reverse dict to map cell id --> district name \n",
    "    # basically we're performing an inverting of a dictionary with list values\n",
    "\n",
    "    dict_hex_districts = {}\n",
    "    for k, v in dict_district_hexes.items():\n",
    "        for x in v:\n",
    "            dict_hex_districts.setdefault(x, []).append(k)\n",
    "\n",
    "    list_keys = list(dict_hex_districts.keys())\n",
    "    print(\"Total number of keys in dict reversed:\", len(list_keys))\n",
    "    print(\"Example:\", list_keys[0], \" ==> \", dict_hex_districts[list_keys[0]])\n",
    "\n",
    "    print(\"---------------------------------------------------\")\n",
    "    # check if any hex maps to more than 1 district name\n",
    "    dict_hex_of_multiple_districts = {}\n",
    "    for k, v in dict_hex_districts.items():\n",
    "        if len(v) > 1:\n",
    "            dict_hex_of_multiple_districts[k] = v\n",
    "\n",
    "    print(\"Hexes mapped to multiple districts:\", \n",
    "          len(dict_hex_of_multiple_districts.keys()))\n",
    "    c = Counter([h3.h3_get_resolution(k) for k in dict_hex_of_multiple_districts])\n",
    "    pprint(c)\n",
    "    \n",
    "    return dict_hex_districts"
   ]
  },
  {
   "cell_type": "code",
   "execution_count": 71,
   "metadata": {},
   "outputs": [
    {
     "name": "stdout",
     "output_type": "stream",
     "text": [
      "Total number of keys in dict reversed: 94287\n",
      "Example: 8c396018ec19dff  ==>  ['POUVOURVILLE']\n",
      "---------------------------------------------------\n",
      "Hexes mapped to multiple districts: 0\n",
      "Counter()\n"
     ]
    }
   ],
   "source": [
    "_ = check_hexes_on_multiple_districts(gdf_districts, hexes_column = \"hex_fill_compact\")"
   ]
  },
  {
   "cell_type": "markdown",
   "metadata": {},
   "source": [
    "**Fill the voids**"
   ]
  },
  {
   "cell_type": "code",
   "execution_count": 72,
   "metadata": {},
   "outputs": [
    {
     "name": "stdout",
     "output_type": "stream",
     "text": [
      "Help on function h3_line in module h3.api._api_template:\n",
      "\n",
      "h3_line(start, end)\n",
      "    Returns the ordered collection of cells denoting a\n",
      "    minimum-length non-unique path between cells.\n",
      "    \n",
      "    Parameters\n",
      "    ----------\n",
      "    start : H3Cell\n",
      "    end : H3Cell\n",
      "    \n",
      "    Returns\n",
      "    -------\n",
      "    ordered collection of H3Cell\n",
      "        Starting with `start`, and ending with `end`.\n",
      "\n"
     ]
    }
   ],
   "source": [
    "help(h3.h3_line)"
   ]
  },
  {
   "cell_type": "code",
   "execution_count": 73,
   "metadata": {},
   "outputs": [],
   "source": [
    "def get_hexes_traversed_by_borders(gdf_districts, res):\n",
    "    \"\"\"Identify the resolution 12 hexagons that are traversed by districts boundaries\"\"\"\n",
    "    set_traversed_hexes = set()\n",
    "    \n",
    "    for i, row in gdf_districts.iterrows():\n",
    "        coords = row[\"geometry\"].boundary.coords\n",
    "        for j in range(len(coords)-1):\n",
    "            # for each \"leg\" (segment) of the linestring\n",
    "            start_leg = coords[j]\n",
    "            stop_leg = coords[j]\n",
    "            # note: they are (lon,lat)\n",
    "            start_hexid = h3.geo_to_h3(lat = start_leg[1],\n",
    "                                       lng = start_leg[0],\n",
    "                                       resolution = res)\n",
    "            stop_hexid = h3.geo_to_h3(lat = stop_leg[1],\n",
    "                                      lng = stop_leg[0],\n",
    "                                      resolution = res)\n",
    "            traversed_hexes = h3.h3_line(start = start_hexid,\n",
    "                                         end = stop_hexid) \n",
    "            set_traversed_hexes |= set(traversed_hexes)\n",
    "            \n",
    "    return list(set_traversed_hexes)   \n",
    "    "
   ]
  },
  {
   "cell_type": "code",
   "execution_count": 74,
   "metadata": {},
   "outputs": [
    {
     "name": "stdout",
     "output_type": "stream",
     "text": [
      "2379 hexes on boundary at res 11\n",
      "2775 hexes on boundary at res 12\n",
      "2858 hexes on boundary at res 13\n"
     ]
    }
   ],
   "source": [
    "boundary_hexes_res11 = get_hexes_traversed_by_borders(gdf_districts, res = 11)\n",
    "boundary_hexes_res12 = get_hexes_traversed_by_borders(gdf_districts, res = 12)\n",
    "boundary_hexes_res13 = get_hexes_traversed_by_borders(gdf_districts, res = 13)\n",
    "\n",
    "print(\"{} hexes on boundary at res {}\".format(len(boundary_hexes_res11), 11))\n",
    "print(\"{} hexes on boundary at res {}\".format(len(boundary_hexes_res12), 12))\n",
    "print(\"{} hexes on boundary at res {}\".format(len(boundary_hexes_res13), 13))"
   ]
  },
  {
   "cell_type": "code",
   "execution_count": 75,
   "metadata": {},
   "outputs": [],
   "source": [
    "def fill_voids(row, fill_voids_res = 12):\n",
    "    \"\"\"For each cell resulted from compacting, get its central child at resolution\n",
    "    fill_voids_res; compute specific hollow rings of this central child, overall achieving\n",
    "    an envelope(buffer) of each of the coarser hexagons with more fine-grained hexagons\"\"\"\n",
    "    \n",
    "    hexes_compacted = row[\"hex_fill_compact\"]\n",
    "    \n",
    "    set_fillvoids = set()\n",
    "    for i in range(len(hexes_compacted)):\n",
    "        hex_id = hexes_compacted[i]\n",
    "        res_hex = h3.h3_get_resolution(hex_id)\n",
    "        if res_hex < fill_voids_res:\n",
    "            center_hex = h3.h3_to_center_child(h = hex_id, \n",
    "                                               res = fill_voids_res)\n",
    "            if res_hex - fill_voids_res == -4:\n",
    "                # e.g. res_hex = 8, fill_voids_res = 12\n",
    "                # ==> include 3xgrandchildren on rings [30, .., 32, 33]\n",
    "                for j in range(30, 34):\n",
    "                    hollow_ring = h3.hex_ring(h = center_hex, k = j)\n",
    "                    set_fillvoids |= hollow_ring                    \n",
    "            elif res_hex - fill_voids_res == -3:\n",
    "                # e.g. res_hex = 9, fill_voids_res = 12\n",
    "                # ==> include 2xgrandchildren on rings [10,11,12]\n",
    "                for j in range(10, 13):\n",
    "                    hollow_ring = h3.hex_ring(h = center_hex, k = j)\n",
    "                    set_fillvoids |= hollow_ring  \n",
    "            elif res_hex - fill_voids_res == -2:\n",
    "                # e.g. res_hex = 10, fill_voids_res = 12\n",
    "                # ==> include grandchildren on rings 4 and 5\n",
    "                for j in [4, 5]:\n",
    "                    hollow_ring = h3.hex_ring(h = center_hex, k = j)\n",
    "                    set_fillvoids |= hollow_ring \n",
    "            elif res_hex - fill_voids_res == -1:\n",
    "                # e.g. res_hex = 11, fill_voids_res = 12\n",
    "                # ==> include children on ring 1\n",
    "                for j in [1]:\n",
    "                    hollow_ring = h3.hex_ring(h = center_hex, k = j)\n",
    "                    set_fillvoids |= hollow_ring \n",
    "\n",
    "    # exclude any hexagon that would be on border\n",
    "    set_interior = (set_fillvoids - set(boundary_hexes_res13)) - set(boundary_hexes_res12)\n",
    "    list_interior = list(set_interior)\n",
    "    return list_interior"
   ]
  },
  {
   "cell_type": "code",
   "execution_count": 76,
   "metadata": {
    "scrolled": false
   },
   "outputs": [
    {
     "name": "stdout",
     "output_type": "stream",
     "text": [
      "CPU times: user 672 ms, sys: 8 ms, total: 680 ms\n",
      "Wall time: 681 ms\n"
     ]
    }
   ],
   "source": [
    "%%time\n",
    "gdf_districts[\"compacted_novoids\"] = gdf_districts.apply(lambda r: fill_voids(r), axis = 1)"
   ]
  },
  {
   "cell_type": "code",
   "execution_count": 77,
   "metadata": {},
   "outputs": [
    {
     "name": "stdout",
     "output_type": "stream",
     "text": [
      "Total number of keys in dict reversed: 193763\n",
      "Example: 8c396019d16c1ff  ==>  ['POUVOURVILLE']\n",
      "---------------------------------------------------\n",
      "Hexes mapped to multiple districts: 19\n",
      "Counter({12: 19})\n"
     ]
    }
   ],
   "source": [
    "_ = check_hexes_on_multiple_districts(\n",
    "                          gdf_districts, \n",
    "                          hexes_column = \"compacted_novoids\")"
   ]
  },
  {
   "cell_type": "code",
   "execution_count": null,
   "metadata": {},
   "outputs": [],
   "source": [
    "list_districts_names = [\"MIRAIL-UNIVERSITE\", \"BAGATELLE\", \"PAPUS\",\n",
    "                        \"FAOURETTE\", \"CROIX-DE-PIERRE\"]\n",
    "visualize_district_filled_compact(gdf_districts = gdf_districts,\n",
    "                                  list_districts_names = list_districts_names)"
   ]
  },
  {
   "cell_type": "code",
   "execution_count": 79,
   "metadata": {},
   "outputs": [
    {
     "data": {
      : [
       "<Figure size 1152x1152 with 1 Axes>"
      ]
     },
     "metadata": {
      "needs_background": "light"
     },
     "output_type": "display_data"
    }
   ],
   "source": [
    "fig, ax = plt.subplots(1, 1, figsize=(16, 16))\n",
    "\n",
    "im1 = pilim.open('images/districts_fill_compact_novoids.png', 'r')\n",
    "ax.imshow(np.asarray(im1))\n",
    "ax.set_title(\"Polyfill compacted for selected districts (filled voids)\")\n",
    "ax.set_axis_off();"
   ]
  },
  {
   "cell_type": "code",
   "execution_count": 80,
   "metadata": {},
   "outputs": [
    {
     "data": {
      : [
       "<Figure size 1152x1152 with 1 Axes>"
      ]
     },
     "metadata": {
      "needs_background": "light"
     },
     "output_type": "display_data"
    }
   ],
   "source": [
    "fig, ax = plt.subplots(1, 1, figsize=(16, 16))\n",
    "\n",
    "im1 = pilim.open('images/filled_voids.png', 'r')\n",
    "ax.imshow(np.asarray(im1))\n",
    "ax.set_title(\"Polyfill compacted for selected districts (filled voids zoomed in)\")\n",
    "ax.set_axis_off()"
   ]
  },
  {
   "cell_type": "code",
   "execution_count": 81,
   "metadata": {},
   "outputs": [
    {
     "data": {
      "text/plain": [
       "['a', 'b', 'a', 'c']"
      ]
     },
     "execution_count": 81,
     "metadata": {},
     "output_type": "execute_result"
    }
   ],
   "source": [
    "# sidenote - how it works itertools.chain.from_iterable\n",
    "l1 = [\"a\", \"b\"]\n",
    "l2 = [\"a\", \"c\"]\n",
    "list(itertools.chain.from_iterable([l1, l2]))"
   ]
  },
  {
   "cell_type": "code",
   "execution_count": 82,
   "metadata": {},
   "outputs": [
    {
     "data": {
      "text/plain": [
       "282148"
      ]
     },
     "execution_count": 82,
     "metadata": {},
     "output_type": "execute_result"
    }
   ],
   "source": [
    "gdf_districts[\"union_compacted_novoids\"] = \\\n",
    "             gdf_districts[[\"compacted_novoids\", \"hex_fill_compact\"]].apply(\n",
    "             lambda x: list(itertools.chain.from_iterable([x[0], x[1]])), axis = 1)\n",
    "gdf_districts[\"union_compacted_novoids\"] = gdf_districts[\"union_compacted_novoids\"].apply(\n",
    "             lambda x: list(set(x)))\n",
    "gdf_districts[\"num_final\"] = gdf_districts[\"union_compacted_novoids\"].apply(\n",
    "             lambda x: len(x))\n",
    "\n",
    "gdf_districts[\"num_final\"].sum()"
   ]
  },
  {
   "cell_type": "markdown",
   "metadata": {},
   "source": [
    "Note: these 282148 multi-resolution H3 cells seem as a good trade-off compared with the former 2 extremes: the initial dense filling at resolution 13 with 2851449 hexagons versus the 94287 hexagons after compacting which left uncovered areas(voids) "
   ]
  },
  {
   "cell_type": "code",
   "execution_count": 83,
   "metadata": {},
   "outputs": [
    {
     "name": "stdout",
     "output_type": "stream",
     "text": [
      "Total number of keys in dict reversed: 281794\n",
      "Example: 8c396019d16c1ff  ==>  ['POUVOURVILLE']\n",
      "---------------------------------------------------\n",
      "Hexes mapped to multiple districts: 354\n",
      "Counter({12: 354})\n"
     ]
    }
   ],
   "source": [
    "dict_hex_districts = check_hexes_on_multiple_districts(\n",
    "                          gdf_districts, \n",
    "                          hexes_column = \"union_compacted_novoids\")"
   ]
  },
  {
   "cell_type": "markdown",
   "metadata": {},
   "source": [
    "Now, for a given point, index it at all resolutions between 6 and 12 and search starting from coarser resolution towards finer resolutions:"
   ]
  },
  {
   "cell_type": "code",
   "execution_count": 84,
   "metadata": {},
   "outputs": [],
   "source": [
    "def spatial_join_districts(row, dict_hex_districts, minres_compact, maxres_compact):\n",
    "    for res in range(minres_compact, maxres_compact + 1):\n",
    "        hexid = h3.geo_to_h3(lat = row[\"latitude\"], \n",
    "                             lng = row[\"longitude\"], \n",
    "                             resolution = res)\n",
    "        if hexid in dict_hex_districts:\n",
    "            if len(dict_hex_districts[hexid]) > 1:\n",
    "                return \",\".join(dict_hex_districts[hexid])\n",
    "            else:\n",
    "                return dict_hex_districts[hexid][0]\n",
    "    return \"N/A\""
   ]
  },
  {
   "cell_type": "code",
   "execution_count": 85,
   "metadata": {},
   "outputs": [
    {
     "name": "stdout",
     "output_type": "stream",
     "text": [
      "Resolution between 8 and 13\n"
     ]
    }
   ],
   "source": [
    "list_res_after_compact_novoids = [h3.h3_get_resolution(x) for x in dict_hex_districts]\n",
    "finest_res = max(list_res_after_compact_novoids)\n",
    "coarsest_res = min(list_res_after_compact_novoids)\n",
    "print(\"Resolution between {} and {}\".format(coarsest_res, finest_res))"
   ]
  },
  {
   "cell_type": "code",
   "execution_count": 86,
   "metadata": {},
   "outputs": [
    {
     "name": "stdout",
     "output_type": "stream",
     "text": [
      "CPU times: user 244 ms, sys: 0 ns, total: 244 ms\n",
      "Wall time: 241 ms\n"
     ]
    }
   ],
   "source": [
    "%%time\n",
    "\n",
    "df_sjoin_h3 = df_stops_to_buslines.copy()\n",
    "\n",
    "df_sjoin_h3[\"district\"] = df_sjoin_h3.apply(spatial_join_districts, \n",
    "                                            args=(dict_hex_districts,\n",
    "                                                  coarsest_res,\n",
    "                                                  finest_res), \n",
    "                                            axis = 1)"
   ]
  },
  {
   "cell_type": "code",
   "execution_count": 87,
   "metadata": {},
   "outputs": [
    {
     "data": {
      "text/html": [
       "<div>\n",
       "<style scoped>\n",
       "    .dataframe tbody tr th:only-of-type {\n",
       "        vertical-align: middle;\n",
       "    }\n",
       "\n",
       "    .dataframe tbody tr th {\n",
       "        vertical-align: top;\n",
       "    }\n",
       "\n",
       "    .dataframe thead th {\n",
       "        text-align: right;\n",
       "    }\n",
       "</style>\n",
       "<table border=\"1\" class=\"dataframe\">\n",
       "  <thead>\n",
       "    <tr style=\"text-align: right;\">\n",
       "      <th></th>\n",
       "      <th>num_busstops</th>\n",
       "    </tr>\n",
       "  </thead>\n",
       "  <tbody>\n",
       "    <tr>\n",
       "      <th>N/A</th>\n",
       "      <td>1385</td>\n",
       "    </tr>\n",
       "    <tr>\n",
       "      <th>CROIX-DAURADE</th>\n",
       "      <td>52</td>\n",
       "    </tr>\n",
       "    <tr>\n",
       "      <th>MONTAUDRAN - LESPINET</th>\n",
       "      <td>47</td>\n",
       "    </tr>\n",
       "    <tr>\n",
       "      <th>RANGUEIL - CHR - FACULTES</th>\n",
       "      <td>33</td>\n",
       "    </tr>\n",
       "    <tr>\n",
       "      <th>ZONES D'ACTIVITES SUD</th>\n",
       "      <td>24</td>\n",
       "    </tr>\n",
       "  </tbody>\n",
       "</table>\n",
       "</div>"
      ],
      "text/plain": [
       "                           num_busstops\n",
       "N/A                                1385\n",
       "CROIX-DAURADE                        52\n",
       "MONTAUDRAN - LESPINET                47\n",
       "RANGUEIL - CHR - FACULTES            33\n",
       "ZONES D'ACTIVITES SUD                24"
      ]
     },
     "execution_count": 87,
     "metadata": {},
     "output_type": "execute_result"
    }
   ],
   "source": [
    "counts_by_district = pd.DataFrame(df_sjoin_h3[\"district\"].value_counts())\n",
    "counts_by_district.columns = [\"num_busstops\"]\n",
    "counts_by_district.head()"
   ]
  },
  {
   "cell_type": "markdown",
   "metadata": {},
   "source": [
    "Note: the N/A category includes all busstops that are outside the districts (but in the wider metropolitan area of Toulouse)"
   ]
  },
  {
   "cell_type": "code",
   "execution_count": 88,
   "metadata": {},
   "outputs": [
    {
     "data": {
      "text/plain": [
       "661"
      ]
     },
     "execution_count": 88,
     "metadata": {},
     "output_type": "execute_result"
    }
   ],
   "source": [
    "# the number of bus stops that were found inside the districts\n",
    "counts_by_district[counts_by_district.index != \"N/A\"][\"num_busstops\"].sum()"
   ]
  },
  {
   "cell_type": "code",
   "execution_count": 89,
   "metadata": {},
   "outputs": [
    {
     "data": {
      "text/html": [
       "<div>\n",
       "<style scoped>\n",
       "    .dataframe tbody tr th:only-of-type {\n",
       "        vertical-align: middle;\n",
       "    }\n",
       "\n",
       "    .dataframe tbody tr th {\n",
       "        vertical-align: top;\n",
       "    }\n",
       "\n",
       "    .dataframe thead th {\n",
       "        text-align: right;\n",
       "    }\n",
       "</style>\n",
       "<table border=\"1\" class=\"dataframe\">\n",
       "  <thead>\n",
       "    <tr style=\"text-align: right;\">\n",
       "      <th></th>\n",
       "      <th>num_busstops</th>\n",
       "    </tr>\n",
       "  </thead>\n",
       "  <tbody>\n",
       "    <tr>\n",
       "      <th>COTE PAVEE,GUILHEMERY</th>\n",
       "      <td>1</td>\n",
       "    </tr>\n",
       "    <tr>\n",
       "      <th>LE BUSCA,PONT-DES-DEMOISELLES</th>\n",
       "      <td>1</td>\n",
       "    </tr>\n",
       "    <tr>\n",
       "      <th>AMIDONNIERS,CASSELARDIT</th>\n",
       "      <td>1</td>\n",
       "    </tr>\n",
       "    <tr>\n",
       "      <th>GUILHEMERY,MARENGO - JOLIMONT</th>\n",
       "      <td>1</td>\n",
       "    </tr>\n",
       "    <tr>\n",
       "      <th>BASSO-CAMBO,LES PRADETTES</th>\n",
       "      <td>1</td>\n",
       "    </tr>\n",
       "    <tr>\n",
       "      <th>LES CHALETS,ARNAUD BERNARD</th>\n",
       "      <td>1</td>\n",
       "    </tr>\n",
       "  </tbody>\n",
       "</table>\n",
       "</div>"
      ],
      "text/plain": [
       "                               num_busstops\n",
       "COTE PAVEE,GUILHEMERY                     1\n",
       "LE BUSCA,PONT-DES-DEMOISELLES             1\n",
       "AMIDONNIERS,CASSELARDIT                   1\n",
       "GUILHEMERY,MARENGO - JOLIMONT             1\n",
       "BASSO-CAMBO,LES PRADETTES                 1\n",
       "LES CHALETS,ARNAUD BERNARD                1"
      ]
     },
     "execution_count": 89,
     "metadata": {},
     "output_type": "execute_result"
    }
   ],
   "source": [
    "# bus stops situated on the border of 2 districts\n",
    "counts_by_district[counts_by_district.index.str.contains(\",\")]"
   ]
  },
  {
   "cell_type": "code",
   "execution_count": null,
   "metadata": {},
   "outputs": [],
   "source": [
    "special_map = visualize_district_filled_compact(\n",
    "                     gdf_districts = gdf_districts,\n",
    "                     list_districts_names =[\"AMIDONNIERS\", \"CASSELARDIT\"],\n",
    "                     fillcolor=\"pink\")\n",
    "\n",
    "df_on_border = df_sjoin_h3[df_sjoin_h3[\"district\"] == \"AMIDONNIERS,CASSELARDIT\"]\n",
    "\n",
    "for i, row in df_on_border.iterrows():\n",
    "    mk = Marker(location=[row[\"latitude\"], row[\"longitude\"]],\n",
    "                icon = folium.Icon(icon='circle', color='darkgreen'),\n",
    "                popup=str(row[\"info\"]))\n",
    "    mk.add_to(special_map)\n",
    "    \n",
    "special_map"
   ]
  },
  {
   "cell_type": "code",
   "execution_count": 91,
   "metadata": {},
   "outputs": [
    {
     "data": {
      : [
       "<Figure size 1152x1152 with 1 Axes>"
      ]
     },
     "metadata": {
      "needs_background": "light"
     },
     "output_type": "display_data"
    }
   ],
   "source": [
    "fig, ax = plt.subplots(1, 1, figsize=(16, 16))\n",
    "\n",
    "im1 = pilim.open('images/onborder_districts.png', 'r')\n",
    "ax.imshow(np.asarray(im1))\n",
    "ax.set_title(\"Polyfill compacted for selected districts\")\n",
    "ax.set_axis_off()"
   ]
  },
  {
   "cell_type": "markdown",
   "metadata": {},
   "source": [
    "**After having computed the spatial join, we can use the results for identifying which are the districts served by each bus line**"
   ]
  },
  {
   "cell_type": "code",
   "execution_count": 92,
   "metadata": {},
   "outputs": [
    {
     "name": "stdout",
     "output_type": "stream",
     "text": [
      "['14/106' '14/67' '14/13']\n",
      "pty\n",
      "14/106    {1.0}\n",
      "14/13     {0.0}\n",
      "14/67     {1.0}\n",
      "Name: sens, dtype: object\n"
     ]
    },
    {
     "data": {
      "text/html": [
       "<div>\n",
       "<style scoped>\n",
       "    .dataframe tbody tr th:only-of-type {\n",
       "        vertical-align: middle;\n",
       "    }\n",
       "\n",
       "    .dataframe tbody tr th {\n",
       "        vertical-align: top;\n",
       "    }\n",
       "\n",
       "    .dataframe thead th {\n",
       "        text-align: right;\n",
       "    }\n",
       "</style>\n",
       "<table border=\"1\" class=\"dataframe\">\n",
       "  <thead>\n",
       "    <tr style=\"text-align: right;\">\n",
       "      <th></th>\n",
       "      <th>pty</th>\n",
       "      <th>sens</th>\n",
       "      <th>ordre</th>\n",
       "      <th>info</th>\n",
       "      <th>district</th>\n",
       "    </tr>\n",
       "  </thead>\n",
       "  <tbody>\n",
       "    <tr>\n",
       "      <th>27</th>\n",
       "      <td>14/106</td>\n",
       "      <td>1.00000</td>\n",
       "      <td>1.00000</td>\n",
       "      <td>Marengo-SNCF (14,L8,CIMTR)</td>\n",
       "      <td>MARENGO - JOLIMONT</td>\n",
       "    </tr>\n",
       "    <tr>\n",
       "      <th>59</th>\n",
       "      <td>14/106</td>\n",
       "      <td>1.00000</td>\n",
       "      <td>2.00000</td>\n",
       "      <td>Riquet (14,L8,23,27)</td>\n",
       "      <td>SAINT-AUBIN - DUPUY</td>\n",
       "    </tr>\n",
       "    <tr>\n",
       "      <th>24</th>\n",
       "      <td>14/106</td>\n",
       "      <td>1.00000</td>\n",
       "      <td>3.00000</td>\n",
       "      <td>Bachelier (14,L8,23)</td>\n",
       "      <td>MATABIAU</td>\n",
       "    </tr>\n",
       "    <tr>\n",
       "      <th>51</th>\n",
       "      <td>14/106</td>\n",
       "      <td>1.00000</td>\n",
       "      <td>4.00000</td>\n",
       "      <td>Jean Jaurès (23,VILLE,L9,L8,29,L1,14,CIMTR)</td>\n",
       "      <td>SAINT-AUBIN - DUPUY</td>\n",
       "    </tr>\n",
       "    <tr>\n",
       "      <th>61</th>\n",
       "      <td>14/106</td>\n",
       "      <td>1.00000</td>\n",
       "      <td>5.00000</td>\n",
       "      <td>St-Georges (L9,L8,29,14,L1)</td>\n",
       "      <td>SAINT-AUBIN - DUPUY</td>\n",
       "    </tr>\n",
       "    <tr>\n",
       "      <th>...</th>\n",
       "      <td>...</td>\n",
       "      <td>...</td>\n",
       "      <td>...</td>\n",
       "      <td>...</td>\n",
       "      <td>...</td>\n",
       "    </tr>\n",
       "    <tr>\n",
       "      <th>47</th>\n",
       "      <td>14/13</td>\n",
       "      <td>0.00000</td>\n",
       "      <td>30.00000</td>\n",
       "      <td>St-Georges (L9,L8,29,14,L1)</td>\n",
       "      <td>SAINT-AUBIN - DUPUY</td>\n",
       "    </tr>\n",
       "    <tr>\n",
       "      <th>22</th>\n",
       "      <td>14/13</td>\n",
       "      <td>0.00000</td>\n",
       "      <td>31.00000</td>\n",
       "      <td>Jean Jaurès (23,VILLE,L9,L8,29,L1,14,CIMTR)</td>\n",
       "      <td>SAINT-AUBIN - DUPUY</td>\n",
       "    </tr>\n",
       "    <tr>\n",
       "      <th>23</th>\n",
       "      <td>14/13</td>\n",
       "      <td>0.00000</td>\n",
       "      <td>32.00000</td>\n",
       "      <td>Bachelier (14,L8,23)</td>\n",
       "      <td>MATABIAU</td>\n",
       "    </tr>\n",
       "    <tr>\n",
       "      <th>34</th>\n",
       "      <td>14/13</td>\n",
       "      <td>0.00000</td>\n",
       "      <td>33.00000</td>\n",
       "      <td>Riquet (14,L8,23,27)</td>\n",
       "      <td>SAINT-AUBIN - DUPUY</td>\n",
       "    </tr>\n",
       "    <tr>\n",
       "      <th>43</th>\n",
       "      <td>14/13</td>\n",
       "      <td>0.00000</td>\n",
       "      <td>34.00000</td>\n",
       "      <td>Marengo-SNCF (14,L8,CIMTR)</td>\n",
       "      <td>MARENGO - JOLIMONT</td>\n",
       "    </tr>\n",
       "  </tbody>\n",
       "</table>\n",
       "<p>67 rows × 5 columns</p>\n",
       "</div>"
      ],
      "text/plain": [
       "       pty    sens    ordre                                         info  \\\n",
       "27  14/106 1.00000  1.00000                   Marengo-SNCF (14,L8,CIMTR)   \n",
       "59  14/106 1.00000  2.00000                         Riquet (14,L8,23,27)   \n",
       "24  14/106 1.00000  3.00000                         Bachelier (14,L8,23)   \n",
       "51  14/106 1.00000  4.00000  Jean Jaurès (23,VILLE,L9,L8,29,L1,14,CIMTR)   \n",
       "61  14/106 1.00000  5.00000                  St-Georges (L9,L8,29,14,L1)   \n",
       "..     ...     ...      ...                                          ...   \n",
       "47   14/13 0.00000 30.00000                  St-Georges (L9,L8,29,14,L1)   \n",
       "22   14/13 0.00000 31.00000  Jean Jaurès (23,VILLE,L9,L8,29,L1,14,CIMTR)   \n",
       "23   14/13 0.00000 32.00000                         Bachelier (14,L8,23)   \n",
       "34   14/13 0.00000 33.00000                         Riquet (14,L8,23,27)   \n",
       "43   14/13 0.00000 34.00000                   Marengo-SNCF (14,L8,CIMTR)   \n",
       "\n",
       "               district  \n",
       "27   MARENGO - JOLIMONT  \n",
       "59  SAINT-AUBIN - DUPUY  \n",
       "24             MATABIAU  \n",
       "51  SAINT-AUBIN - DUPUY  \n",
       "61  SAINT-AUBIN - DUPUY  \n",
       "..                  ...  \n",
       "47  SAINT-AUBIN - DUPUY  \n",
       "22  SAINT-AUBIN - DUPUY  \n",
       "23             MATABIAU  \n",
       "34  SAINT-AUBIN - DUPUY  \n",
       "43   MARENGO - JOLIMONT  \n",
       "\n",
       "[67 rows x 5 columns]"
      ]
     },
     "execution_count": 92,
     "metadata": {},
     "output_type": "execute_result"
    }
   ],
   "source": [
    "selected_busline = \"14\"\n",
    "print(gdf_raw[gdf_raw[\"ligne\"] == selected_busline][\"pty\"].unique())\n",
    "print(gdf_raw[gdf_raw[\"ligne\"] == selected_busline].groupby(by=\"pty\")[\"sens\"].apply(set))\n",
    "\n",
    "df_route_busline = pd.merge(left = gdf_raw[gdf_raw[\"pty\"].isin(['14/106', '14/13'])], \n",
    "                            right = df_sjoin_h3,\n",
    "                            left_on = [\"latitude\", \"longitude\"],\n",
    "                            right_on = [\"latitude\", \"longitude\"],\n",
    "                            how = \"left\")\n",
    "\n",
    "df_route_busline.sort_values(by = [\"pty\", \"sens\", \"ordre\"], inplace = True)\n",
    "df_route_busline[[\"pty\", \"sens\", \"ordre\", \"info\", \"district\"]]"
   ]
  },
  {
   "cell_type": "code",
   "execution_count": 93,
   "metadata": {},
   "outputs": [
    {
     "data": {
      "text/plain": [
       "['REYNERIE',\n",
       " 'BELLEFONTAINE',\n",
       " 'MIRAIL-UNIVERSITE',\n",
       " 'LA CEPIERE',\n",
       " 'ARENES',\n",
       " \"PATTE D'OIE\",\n",
       " 'SAINT-CYPRIEN',\n",
       " 'CARMES',\n",
       " 'SAINT-GEORGES',\n",
       " 'SAINT-AUBIN - DUPUY',\n",
       " 'MATABIAU',\n",
       " 'MARENGO - JOLIMONT']"
      ]
     },
     "execution_count": 93,
     "metadata": {},
     "output_type": "execute_result"
    }
   ],
   "source": [
    "direction_0 = df_route_busline[df_route_busline[\"sens\"] == 0][\"district\"]\n",
    "list(unique_everseen(direction_0))"
   ]
  },
  {
   "cell_type": "code",
   "execution_count": 94,
   "metadata": {},
   "outputs": [],
   "source": [
    "list_aux = list(unique_everseen(df_route_busline[\"district\"].values))\n",
    "list_distr = []\n",
    "for s in list_aux:\n",
    "    if \",\" in s:\n",
    "        # if on border, add both districts \n",
    "        list_distr.extend(s.split(\",\"))\n",
    "    else:\n",
    "        list_distr.append(s)\n",
    "        \n",
    "gdf_bus_traversed_districts = gdf_districts[\n",
    "                          gdf_districts[\"libelle_du_grand_quartier\"].isin(list_distr)]\n",
    "gdf_bus_traversed_districts = gdf_bus_traversed_districts[\n",
    "                                            [\"geometry\", \"libelle_du_grand_quartier\"]]\n",
    "gdf_bus_traversed_districts.to_file(\"datasets_demo/bus_14_districts.geojson\",\n",
    "                                    driver = \"GeoJSON\")"
   ]
  },
  {
   "cell_type": "code",
   "execution_count": 95,
   "metadata": {},
   "outputs": [
    {
     "name": "stdout",
     "output_type": "stream",
     "text": [
      "-rw-rw-r-- 1 camelia camelia 29K aug  9 07:34 datasets_demo/bus_14_districts.geojson\r\n"
     ]
    }
   ],
   "source": [
    "!ls -alh datasets_demo/bus_14_districts.geojson"
   ]
  },
  {
   "cell_type": "markdown",
   "metadata": {},
   "source": [
    "Recall that we have comma in district when the point was found on the border between 2 districts.\n",
    "\n",
    "Prepare files for the section V.1"
   ]
  },
  {
   "cell_type": "code",
   "execution_count": 96,
   "metadata": {},
   "outputs": [
    {
     "data": {
      "text/html": [
       "<div>\n",
       "<style scoped>\n",
       "    .dataframe tbody tr th:only-of-type {\n",
       "        vertical-align: middle;\n",
       "    }\n",
       "\n",
       "    .dataframe tbody tr th {\n",
       "        vertical-align: top;\n",
       "    }\n",
       "\n",
       "    .dataframe thead th {\n",
       "        text-align: right;\n",
       "    }\n",
       "</style>\n",
       "<table border=\"1\" class=\"dataframe\">\n",
       "  <thead>\n",
       "    <tr style=\"text-align: right;\">\n",
       "      <th></th>\n",
       "      <th>latitude</th>\n",
       "      <th>longitude</th>\n",
       "      <th>sens</th>\n",
       "      <th>ordre</th>\n",
       "      <th>info</th>\n",
       "      <th>district</th>\n",
       "      <th>next_longitude</th>\n",
       "      <th>next_latitude</th>\n",
       "      <th>next_sens</th>\n",
       "      <th>next_ordre</th>\n",
       "    </tr>\n",
       "  </thead>\n",
       "  <tbody>\n",
       "    <tr>\n",
       "      <th>53</th>\n",
       "      <td>43.57021</td>\n",
       "      <td>1.39233</td>\n",
       "      <td>0.00000</td>\n",
       "      <td>1.00000</td>\n",
       "      <td>Basso Cambo (49,58,57,L4,18,50,14,21,47)</td>\n",
       "      <td>REYNERIE</td>\n",
       "      <td>1.39369</td>\n",
       "      <td>43.56689</td>\n",
       "      <td>0.00000</td>\n",
       "      <td>2.00000</td>\n",
       "    </tr>\n",
       "    <tr>\n",
       "      <th>33</th>\n",
       "      <td>43.56689</td>\n",
       "      <td>1.39369</td>\n",
       "      <td>0.00000</td>\n",
       "      <td>2.00000</td>\n",
       "      <td>Place Bouillière (58,49,53,L4,14,87,50)</td>\n",
       "      <td>REYNERIE</td>\n",
       "      <td>1.39924</td>\n",
       "      <td>43.56570</td>\n",
       "      <td>0.00000</td>\n",
       "      <td>3.00000</td>\n",
       "    </tr>\n",
       "    <tr>\n",
       "      <th>45</th>\n",
       "      <td>43.56570</td>\n",
       "      <td>1.39924</td>\n",
       "      <td>0.00000</td>\n",
       "      <td>3.00000</td>\n",
       "      <td>Bellefontaine (14)</td>\n",
       "      <td>BELLEFONTAINE</td>\n",
       "      <td>1.40382</td>\n",
       "      <td>43.56750</td>\n",
       "      <td>0.00000</td>\n",
       "      <td>4.00000</td>\n",
       "    </tr>\n",
       "    <tr>\n",
       "      <th>12</th>\n",
       "      <td>43.56750</td>\n",
       "      <td>1.40382</td>\n",
       "      <td>0.00000</td>\n",
       "      <td>4.00000</td>\n",
       "      <td>Le Lac Reynerie (14)</td>\n",
       "      <td>REYNERIE</td>\n",
       "      <td>1.40784</td>\n",
       "      <td>43.56843</td>\n",
       "      <td>0.00000</td>\n",
       "      <td>5.00000</td>\n",
       "    </tr>\n",
       "    <tr>\n",
       "      <th>39</th>\n",
       "      <td>43.56843</td>\n",
       "      <td>1.40784</td>\n",
       "      <td>0.00000</td>\n",
       "      <td>5.00000</td>\n",
       "      <td>Cité du Parc (14)</td>\n",
       "      <td>REYNERIE</td>\n",
       "      <td>1.40859</td>\n",
       "      <td>43.57048</td>\n",
       "      <td>0.00000</td>\n",
       "      <td>6.00000</td>\n",
       "    </tr>\n",
       "    <tr>\n",
       "      <th>...</th>\n",
       "      <td>...</td>\n",
       "      <td>...</td>\n",
       "      <td>...</td>\n",
       "      <td>...</td>\n",
       "      <td>...</td>\n",
       "      <td>...</td>\n",
       "      <td>...</td>\n",
       "      <td>...</td>\n",
       "      <td>...</td>\n",
       "      <td>...</td>\n",
       "    </tr>\n",
       "    <tr>\n",
       "      <th>4</th>\n",
       "      <td>43.56843</td>\n",
       "      <td>1.40784</td>\n",
       "      <td>1.00000</td>\n",
       "      <td>29.00000</td>\n",
       "      <td>Cité du Parc (14)</td>\n",
       "      <td>REYNERIE</td>\n",
       "      <td>1.40382</td>\n",
       "      <td>43.56750</td>\n",
       "      <td>1.00000</td>\n",
       "      <td>30.00000</td>\n",
       "    </tr>\n",
       "    <tr>\n",
       "      <th>13</th>\n",
       "      <td>43.56750</td>\n",
       "      <td>1.40382</td>\n",
       "      <td>1.00000</td>\n",
       "      <td>30.00000</td>\n",
       "      <td>Le Lac Reynerie (14)</td>\n",
       "      <td>REYNERIE</td>\n",
       "      <td>1.39924</td>\n",
       "      <td>43.56570</td>\n",
       "      <td>1.00000</td>\n",
       "      <td>31.00000</td>\n",
       "    </tr>\n",
       "    <tr>\n",
       "      <th>46</th>\n",
       "      <td>43.56570</td>\n",
       "      <td>1.39924</td>\n",
       "      <td>1.00000</td>\n",
       "      <td>31.00000</td>\n",
       "      <td>Bellefontaine (14)</td>\n",
       "      <td>BELLEFONTAINE</td>\n",
       "      <td>1.39369</td>\n",
       "      <td>43.56689</td>\n",
       "      <td>1.00000</td>\n",
       "      <td>32.00000</td>\n",
       "    </tr>\n",
       "    <tr>\n",
       "      <th>55</th>\n",
       "      <td>43.56689</td>\n",
       "      <td>1.39369</td>\n",
       "      <td>1.00000</td>\n",
       "      <td>32.00000</td>\n",
       "      <td>Place Bouillière (58,49,53,L4,14,87,50)</td>\n",
       "      <td>REYNERIE</td>\n",
       "      <td>1.39233</td>\n",
       "      <td>43.57021</td>\n",
       "      <td>1.00000</td>\n",
       "      <td>33.00000</td>\n",
       "    </tr>\n",
       "    <tr>\n",
       "      <th>32</th>\n",
       "      <td>43.57021</td>\n",
       "      <td>1.39233</td>\n",
       "      <td>1.00000</td>\n",
       "      <td>33.00000</td>\n",
       "      <td>Basso Cambo (49,58,57,L4,18,50,14,21,47)</td>\n",
       "      <td>REYNERIE</td>\n",
       "      <td>1.39233</td>\n",
       "      <td>43.57021</td>\n",
       "      <td>0.00000</td>\n",
       "      <td>1.00000</td>\n",
       "    </tr>\n",
       "  </tbody>\n",
       "</table>\n",
       "<p>67 rows × 10 columns</p>\n",
       "</div>"
      ],
      "text/plain": [
       "    latitude  longitude    sens    ordre  \\\n",
       "53  43.57021    1.39233 0.00000  1.00000   \n",
       "33  43.56689    1.39369 0.00000  2.00000   \n",
       "45  43.56570    1.39924 0.00000  3.00000   \n",
       "12  43.56750    1.40382 0.00000  4.00000   \n",
       "39  43.56843    1.40784 0.00000  5.00000   \n",
       "..       ...        ...     ...      ...   \n",
       "4   43.56843    1.40784 1.00000 29.00000   \n",
       "13  43.56750    1.40382 1.00000 30.00000   \n",
       "46  43.56570    1.39924 1.00000 31.00000   \n",
       "55  43.56689    1.39369 1.00000 32.00000   \n",
       "32  43.57021    1.39233 1.00000 33.00000   \n",
       "\n",
       "                                        info       district  next_longitude  \\\n",
       "53  Basso Cambo (49,58,57,L4,18,50,14,21,47)       REYNERIE         1.39369   \n",
       "33   Place Bouillière (58,49,53,L4,14,87,50)       REYNERIE         1.39924   \n",
       "45                        Bellefontaine (14)  BELLEFONTAINE         1.40382   \n",
       "12                      Le Lac Reynerie (14)       REYNERIE         1.40784   \n",
       "39                         Cité du Parc (14)       REYNERIE         1.40859   \n",
       "..                                       ...            ...             ...   \n",
       "4                          Cité du Parc (14)       REYNERIE         1.40382   \n",
       "13                      Le Lac Reynerie (14)       REYNERIE         1.39924   \n",
       "46                        Bellefontaine (14)  BELLEFONTAINE         1.39369   \n",
       "55   Place Bouillière (58,49,53,L4,14,87,50)       REYNERIE         1.39233   \n",
       "32  Basso Cambo (49,58,57,L4,18,50,14,21,47)       REYNERIE         1.39233   \n",
       "\n",
       "    next_latitude  next_sens  next_ordre  \n",
       "53       43.56689    0.00000     2.00000  \n",
       "33       43.56570    0.00000     3.00000  \n",
       "45       43.56750    0.00000     4.00000  \n",
       "12       43.56843    0.00000     5.00000  \n",
       "39       43.57048    0.00000     6.00000  \n",
       "..            ...        ...         ...  \n",
       "4        43.56750    1.00000    30.00000  \n",
       "13       43.56570    1.00000    31.00000  \n",
       "46       43.56689    1.00000    32.00000  \n",
       "55       43.57021    1.00000    33.00000  \n",
       "32       43.57021    0.00000     1.00000  \n",
       "\n",
       "[67 rows x 10 columns]"
      ]
     },
     "execution_count": 96,
     "metadata": {},
     "output_type": "execute_result"
    }
   ],
   "source": [
    "list_projected_columns = [\"latitude\", \"longitude\", \"sens\", \"ordre\", \"info\", \"district\"]\n",
    "df_route_busline_cpy = df_route_busline[list_projected_columns]\n",
    "df_route_busline_cpy.sort_values(by = [\"sens\", \"ordre\"], inplace = True)\n",
    "\n",
    "# shift\n",
    "df_route_busline_cpy['next_longitude'] = df_route_busline_cpy[\"longitude\"].shift(-1)\n",
    "df_route_busline_cpy['next_latitude'] = df_route_busline_cpy[\"latitude\"].shift(-1)\n",
    "df_route_busline_cpy['next_sens'] = df_route_busline_cpy[\"sens\"].shift(-1)\n",
    "df_route_busline_cpy['next_ordre'] = df_route_busline_cpy[\"ordre\"].shift(-1)\n",
    "\n",
    "# the last row will have next_{} all none, we manually match it to the start of the route\n",
    "df_route_busline_cpy[\"next_latitude\"].fillna(df_route_busline_cpy.iloc[0][\"latitude\"],\n",
    "                                             inplace=True)\n",
    "df_route_busline_cpy[\"next_longitude\"].fillna(df_route_busline_cpy.iloc[0][\"longitude\"],\n",
    "                                              inplace=True)\n",
    "df_route_busline_cpy[\"next_sens\"].fillna(0, inplace=True)\n",
    "df_route_busline_cpy[\"next_ordre\"].fillna(1, inplace=True)\n",
    "\n",
    "df_route_busline_cpy"
   ]
  },
  {
   "cell_type": "code",
   "execution_count": 97,
   "metadata": {},
   "outputs": [],
   "source": [
    "json_rep = df_route_busline_cpy.to_dict(orient='record')\n",
    "\n",
    "with open(\"datasets_demo/bus_14_route.json\", mode=\"w\") as f:\n",
    "    json.dump(json_rep, f)"
   ]
  },
  {
   "cell_type": "code",
   "execution_count": 98,
   "metadata": {},
   "outputs": [
    {
     "name": "stdout",
     "output_type": "stream",
     "text": [
      "-rw-rw-r-- 1 camelia camelia 18K aug  9 07:34 datasets_demo/bus_14_route.json\n"
     ]
    }
   ],
   "source": [
    "%%sh\n",
    "ls -alh datasets_demo/bus_14_route.json"
   ]
  },
  {
   "cell_type": "markdown",
   "metadata": {},
   "source": [
    "**See the corresponding 3d visualization with Deck.gl in section V.1 at the end of this notebook.**"
   ]
  },
  {
   "cell_type": "markdown",
   "metadata": {},
   "source": [
    "------------------"
   ]
  },
  {
   "cell_type": "markdown",
   "metadata": {},
   "source": [
    "-------------------"
   ]
  },
  {
   "cell_type": "markdown",
   "metadata": {},
   "source": [
    "# III. Use H3 spatial index for aggregated analytics"
   ]
  },
  {
   "cell_type": "markdown",
   "metadata": {},
   "source": [
    "## III.1. Count busstops groupped by H3 cell"
   ]
  },
  {
   "cell_type": "code",
   "execution_count": 99,
   "metadata": {},
   "outputs": [],
   "source": [
    "def counts_by_hexagon(df, res):\n",
    "    \"\"\"Aggregates the number of busstops at hexagon level\"\"\"\n",
    "\n",
    "    col_hex_id = \"hex_id_{}\".format(res)\n",
    "    col_geometry = \"geometry_{}\".format(res)\n",
    "\n",
    "    # within each group preserve the first geometry and count the ids\n",
    "    df_aggreg = df.groupby(by = col_hex_id).agg({col_geometry: \"first\",\n",
    "                                                \"latitude\": \"count\"})\n",
    "\n",
    "    df_aggreg.reset_index(inplace = True)\n",
    "    df_aggreg.rename(columns={\"latitude\": \"value\"}, inplace = True)\n",
    "\n",
    "    df_aggreg.sort_values(by = \"value\", ascending = False, inplace = True)\n",
    "    return df_aggreg"
   ]
  },
  {
   "cell_type": "code",
   "execution_count": 100,
   "metadata": {},
   "outputs": [
    {
     "name": "stdout",
     "output_type": "stream",
     "text": [
      "(722, 3)\n"
     ]
    },
    {
     "data": {
      "text/html": [
       "<div>\n",
       "<style scoped>\n",
       "    .dataframe tbody tr th:only-of-type {\n",
       "        vertical-align: middle;\n",
       "    }\n",
       "\n",
       "    .dataframe tbody tr th {\n",
       "        vertical-align: top;\n",
       "    }\n",
       "\n",
       "    .dataframe thead th {\n",
       "        text-align: right;\n",
       "    }\n",
       "</style>\n",
       "<table border=\"1\" class=\"dataframe\">\n",
       "  <thead>\n",
       "    <tr style=\"text-align: right;\">\n",
       "      <th></th>\n",
       "      <th>hex_id_8</th>\n",
       "      <th>geometry_8</th>\n",
       "      <th>value</th>\n",
       "    </tr>\n",
       "  </thead>\n",
       "  <tbody>\n",
       "    <tr>\n",
       "      <th>297</th>\n",
       "      <td>8839601893fffff</td>\n",
       "      <td>{'type': 'Polygon', 'coordinates': [((1.5299253493073752, 4...</td>\n",
       "      <td>10</td>\n",
       "    </tr>\n",
       "    <tr>\n",
       "      <th>258</th>\n",
       "      <td>883960181bfffff</td>\n",
       "      <td>{'type': 'Polygon', 'coordinates': [((1.4527478813977899, 4...</td>\n",
       "      <td>10</td>\n",
       "    </tr>\n",
       "    <tr>\n",
       "      <th>327</th>\n",
       "      <td>88396018e3fffff</td>\n",
       "      <td>{'type': 'Polygon', 'coordinates': [((1.4737994684890512, 4...</td>\n",
       "      <td>10</td>\n",
       "    </tr>\n",
       "    <tr>\n",
       "      <th>468</th>\n",
       "      <td>8839601ac5fffff</td>\n",
       "      <td>{'type': 'Polygon', 'coordinates': [((1.442211698802212, 43...</td>\n",
       "      <td>9</td>\n",
       "    </tr>\n",
       "    <tr>\n",
       "      <th>447</th>\n",
       "      <td>8839601a93fffff</td>\n",
       "      <td>{'type': 'Polygon', 'coordinates': [((1.5054229236100751, 4...</td>\n",
       "      <td>9</td>\n",
       "    </tr>\n",
       "  </tbody>\n",
       "</table>\n",
       "</div>"
      ],
      "text/plain": [
       "            hex_id_8  \\\n",
       "297  8839601893fffff   \n",
       "258  883960181bfffff   \n",
       "327  88396018e3fffff   \n",
       "468  8839601ac5fffff   \n",
       "447  8839601a93fffff   \n",
       "\n",
       "                                                         geometry_8  value  \n",
       "297  {'type': 'Polygon', 'coordinates': [((1.5299253493073752, 4...     10  \n",
       "258  {'type': 'Polygon', 'coordinates': [((1.4527478813977899, 4...     10  \n",
       "327  {'type': 'Polygon', 'coordinates': [((1.4737994684890512, 4...     10  \n",
       "468  {'type': 'Polygon', 'coordinates': [((1.442211698802212, 43...      9  \n",
       "447  {'type': 'Polygon', 'coordinates': [((1.5054229236100751, 4...      9  "
      ]
     },
     "execution_count": 100,
     "metadata": {},
     "output_type": "execute_result"
    }
   ],
   "source": [
    "# demo at resolution 8\n",
    "df_aggreg_8 = counts_by_hexagon(df = df_stops_to_buslines, res = 8)\n",
    "print(df_aggreg_8.shape)\n",
    "df_aggreg_8.head(5)"
   ]
  },
  {
   "cell_type": "markdown",
   "metadata": {},
   "source": [
    "## III.2. Visualization with choropleth map"
   ]
  },
  {
   "cell_type": "code",
   "execution_count": 101,
   "metadata": {},
   "outputs": [],
   "source": [
    "def hexagons_dataframe_to_geojson(df_hex, hex_id_field,\n",
    "                                  geometry_field, value_field,\n",
    "                                  file_output = None):\n",
    "\n",
    "    \"\"\"Produce the GeoJSON representation containing all geometries in a dataframe\n",
    "     based on a column in geojson format (geometry_field)\"\"\"\n",
    "\n",
    "    list_features = []\n",
    "\n",
    "    for i, row in df_hex.iterrows():\n",
    "        feature = Feature(geometry = row[geometry_field],\n",
    "                          id = row[hex_id_field],\n",
    "                          properties = {\"value\": row[value_field]})\n",
    "        list_features.append(feature)\n",
    "\n",
    "    feat_collection = FeatureCollection(list_features)\n",
    "\n",
    "    geojson_result = json.dumps(feat_collection)\n",
    "\n",
    "    # optionally write to file\n",
    "    if file_output is not None:\n",
    "        with open(file_output, \"w\") as f:\n",
    "            json.dump(feat_collection, f)\n",
    "\n",
    "    return geojson_result\n",
    "\n",
    "\n",
    "# --------------------------------------------------------------------\n",
    "\n",
    "\n",
    "def choropleth_map(df_aggreg, hex_id_field, geometry_field, value_field,\n",
    "                   layer_name, initial_map = None, kind = \"linear\",\n",
    "                   border_color = 'black', fill_opacity = 0.7,\n",
    "                   with_legend = False):\n",
    "\n",
    "    \"\"\"Plots a choropleth map with folium\"\"\"\n",
    "\n",
    "    if initial_map is None:\n",
    "        initial_map = base_empty_map()\n",
    "\n",
    "    # the custom colormap depends on the map kind\n",
    "    if kind == \"linear\":\n",
    "        min_value = df_aggreg[value_field].min()\n",
    "        max_value = df_aggreg[value_field].max()\n",
    "        m = round((min_value + max_value) / 2, 0)\n",
    "        custom_cm = cm.LinearColormap(['green', 'yellow', 'red'],\n",
    "                                      vmin = min_value,\n",
    "                                      vmax = max_value)\n",
    "    elif kind == \"outlier\":\n",
    "        # for outliers, values would be -1,0,1\n",
    "        custom_cm = cm.LinearColormap(['blue', 'white', 'red'],\n",
    "                                      vmin=-1, vmax=1)\n",
    "    elif kind == \"filled_nulls\":\n",
    "        min_value = df_aggreg[df_aggreg[value_field] > 0][value_field].min()\n",
    "        max_value = df_aggreg[df_aggreg[value_field] > 0][value_field].max()\n",
    "        m = round((min_value + max_value) / 2, 0)\n",
    "        custom_cm = cm.LinearColormap(['silver', 'green', 'yellow', 'red'],\n",
    "                                      index = [0, min_value, m, max_value],\n",
    "                                      vmin = min_value,\n",
    "                                      vmax = max_value)\n",
    "\n",
    "    # create geojson data from dataframe\n",
    "    geojson_data = hexagons_dataframe_to_geojson(df_aggreg, hex_id_field,\n",
    "                                                 geometry_field, value_field)\n",
    "\n",
    "    # plot on map\n",
    "    GeoJson(\n",
    "        geojson_data,\n",
    "        style_function=lambda feature: {\n",
    "            'fillColor': custom_cm(feature['properties']['value']),\n",
    "            'color': border_color,\n",
    "            'weight': 1,\n",
    "            'fillOpacity': fill_opacity\n",
    "        },\n",
    "        name = layer_name\n",
    "    ).add_to(initial_map)\n",
    "\n",
    "    # add legend (not recommended if multiple layers)\n",
    "    if with_legend is True:\n",
    "        custom_cm.add_to(initial_map)\n",
    "\n",
    "    return initial_map"
   ]
  },
  {
   "cell_type": "code",
   "execution_count": null,
   "metadata": {},
   "outputs": [],
   "source": [
    "m_hex = choropleth_map(df_aggreg = df_aggreg_8,\n",
    "                       hex_id_field = \"hex_id_8\",\n",
    "                       geometry_field = \"geometry_8\",\n",
    "                       value_field = \"value\",\n",
    "                       layer_name = \"Choropleth 8\",\n",
    "                       with_legend = True)\n",
    "m_hex"
   ]
  },
  {
   "cell_type": "code",
   "execution_count": 103,
   "metadata": {},
   "outputs": [
    {
     "data": {
      : [
       "<Figure size 1080x720 with 1 Axes>"
      ]
     },
     "metadata": {
      "needs_background": "light"
     },
     "output_type": "display_data"
    }
   ],
   "source": [
    "fig, ax = plt.subplots(1, 1, figsize = (15, 10))\n",
    "\n",
    "im1 = pilim.open('images/4_choroplth_multiresol_8_region.png', 'r')\n",
    "ax.imshow(np.asarray(im1))\n",
    "ax.set_axis_off();"
   ]
  },
  {
   "cell_type": "markdown",
   "metadata": {},
   "source": [
    "Better yet, plot it 3d with pydeck:"
   ]
  },
  {
   "cell_type": "code",
   "execution_count": 104,
   "metadata": {},
   "outputs": [
    {
     "data": {
      "text/plain": [
       "[165, 0, 38]"
      ]
     },
     "execution_count": 104,
     "metadata": {},
     "output_type": "execute_result"
    }
   ],
   "source": [
    "norm = mpl.colors.Normalize(vmin = df_aggreg_8[\"value\"].min(), \n",
    "                            vmax = df_aggreg_8[\"value\"].max())\n",
    "f2rgb = mpl.cm.ScalarMappable(norm = norm, cmap = mpl.cm.get_cmap('RdYlGn_r'))\n",
    "\n",
    "\n",
    "def get_color(value):\n",
    "    return [int(255 * x) for x in f2rgb.to_rgba(value)[:-1]]\n",
    "\n",
    "\n",
    "get_color(value = 10)"
   ]
  },
  {
   "cell_type": "code",
   "execution_count": null,
   "metadata": {},
   "outputs": [],
   "source": [
    "df_aux = df_aggreg_8.copy()\n",
    "df_aux[\"coloring\"] = df_aux[\"value\"].apply(lambda x: get_color(value = x))\n",
    "\n",
    "aggreg_layer = pydeck.Layer(\n",
    "                    \"H3HexagonLayer\",\n",
    "                    data = df_aux,\n",
    "                    pickable=True,\n",
    "                    stroked=True,\n",
    "                    filled=True,\n",
    "                    extruded=True,\n",
    "                    get_hexagon=\"hex_id_8\",\n",
    "                    get_fill_color= \"coloring\",\n",
    "                    get_line_color=[255, 255, 255],\n",
    "                    line_width_min_pixels=1,\n",
    "                    get_elevation=\"value\",\n",
    "                    elevation_scale=500,\n",
    "                    opacity=0.9\n",
    "                )\n",
    "\n",
    "view = pydeck.data_utils.compute_view(gdf_dedup[[\"longitude\", \"latitude\"]])\n",
    "view.zoom = 6\n",
    "\n",
    "\n",
    "r = pydeck.Deck(\n",
    "    layers=[aggreg_layer],\n",
    "    initial_view_state = view,\n",
    "    mapbox_key = MAPBOX_TOKEN,\n",
    "    map_style='mapbox://styles/mapbox/light-v9',\n",
    "    tooltip={\"text\": \"Count: {value}\"}\n",
    ")\n",
    "\n",
    "r.show()"
   ]
  },
  {
   "cell_type": "code",
   "execution_count": 106,
   "metadata": {},
   "outputs": [
    {
     "data": {
      : [
       "<Figure size 1080x720 with 1 Axes>"
      ]
     },
     "metadata": {
      "needs_background": "light"
     },
     "output_type": "display_data"
    }
   ],
   "source": [
    "fig, ax = plt.subplots(1, 1, figsize = (15, 10))\n",
    "\n",
    "im1 = pilim.open('images/3d_aggreg_res8.png', 'r')\n",
    "ax.imshow(np.asarray(im1));\n",
    "ax.set_axis_off()"
   ]
  },
  {
   "cell_type": "markdown",
   "metadata": {},
   "source": [
    "**Aggregate at  coarser and at finer resolutions:**\n"
   ]
  },
  {
   "cell_type": "code",
   "execution_count": 107,
   "metadata": {},
   "outputs": [],
   "source": [
    "# coarser resolutions than 8\n",
    "df_aggreg_7 = counts_by_hexagon(df = df_stops_to_buslines, res = 7)\n",
    "\n",
    "# finer resolutions than 8\n",
    "df_aggreg_9 = counts_by_hexagon(df = df_stops_to_buslines, res = 9)\n",
    "df_aggreg_10 = counts_by_hexagon(df = df_stops_to_buslines, res = 10)"
   ]
  },
  {
   "cell_type": "code",
   "execution_count": 108,
   "metadata": {},
   "outputs": [
    {
     "name": "stdout",
     "output_type": "stream",
     "text": [
      "At resolution 7 we used 181 H3 cells for indexing the bus stops\n",
      "At resolution 8 we used 722 H3 cells for indexing the bus stops\n",
      "At resolution 9 we used 1709 H3 cells for indexing the bus stops\n",
      "At resolution 10 we used 2023 H3 cells for indexing the bus stops\n"
     ]
    }
   ],
   "source": [
    "# make a dictionary of mappings resolution -> dataframes, for future use\n",
    "dict_aggreg_hex = {7: df_aggreg_7,\n",
    "                   8: df_aggreg_8,\n",
    "                   9: df_aggreg_9,\n",
    "                   10: df_aggreg_10}\n",
    "\n",
    "msg_ = \"At resolution {} we used {} H3 cells for indexing the bus stops\"\n",
    "for res in dict_aggreg_hex:\n",
    "    print(msg_.format(res, dict_aggreg_hex[res].shape[0]))\n"
   ]
  },
  {
   "cell_type": "code",
   "execution_count": null,
   "metadata": {},
   "outputs": [],
   "source": [
    "initial_map = base_empty_map()\n",
    "\n",
    "for res in dict_aggreg_hex:\n",
    "    initial_map = choropleth_map(df_aggreg = dict_aggreg_hex[res],\n",
    "                                 hex_id_field = \"hex_id_{}\".format(res),\n",
    "                                 geometry_field = \"geometry_{}\".format(res),\n",
    "                                 value_field = \"value\",\n",
    "                                 initial_map = initial_map,\n",
    "                                 layer_name = \"Choropleth {}\".format(res),\n",
    "                                 with_legend = False)\n",
    "\n",
    "folium.map.LayerControl('bottomright', collapsed=True).add_to(initial_map)\n",
    "\n",
    "initial_map"
   ]
  },
  {
   "cell_type": "markdown",
   "metadata": {},
   "source": [
    "First we focus (zoom in) on the city center and display H3 cells covering the same zone at various resolutions:\n"
   ]
  },
  {
   "cell_type": "code",
   "execution_count": 110,
   "metadata": {},
   "outputs": [
    {
     "data": {
      : [
       "<Figure size 1440x1008 with 4 Axes>"
      ]
     },
     "metadata": {
      "needs_background": "light"
     },
     "output_type": "display_data"
    }
   ],
   "source": [
    "fig, ax = plt.subplots(2, 2, figsize=(20, 14))\n",
    "\n",
    "im1 = pilim.open('images/4_choropleth_multiresol_10.png', 'r')\n",
    "ax[0][0].imshow(np.asarray(im1))\n",
    "ax[0][0].set_title(\"Choropleth resolution 10\")\n",
    "im1 = pilim.open('images/4_choropleth_multiresol_9.png', 'r')\n",
    "ax[0][1].imshow(np.asarray(im1))\n",
    "ax[0][1].set_title(\"Choropleth resolution 9\")\n",
    "im1 = pilim.open('images/4_choropleth_multiresol_8.png', 'r')\n",
    "ax[1][0].imshow(np.asarray(im1))\n",
    "ax[1][0].set_title(\"Choropleth resolution 8\")\n",
    "im1 = pilim.open('images/4_choropleth_multiresol_7.png', 'r')\n",
    "ax[1][1].imshow(np.asarray(im1))\n",
    "ax[1][1].set_title(\"Choropleth resolution 7\")\n",
    "\n",
    "for i in [0, 1]:\n",
    "    for j in [0, 1]:\n",
    "        ax[i][j].set_axis_off()\n",
    "fig.tight_layout()"
   ]
  },
  {
   "cell_type": "markdown",
   "metadata": {},
   "source": [
    "Depending on the resolution at which we computed the aggregates, we sometimes got a sparse spatial distribution of H3 cells with busstops.  \n",
    "Next we want to include all the H3 cells that cover the city's area and thus put these aggregates in a better perspective."
   ]
  },
  {
   "cell_type": "markdown",
   "metadata": {},
   "source": [
    "## III.3. Study aggregates in the context of the city's hexagons coverage set"
   ]
  },
  {
   "cell_type": "code",
   "execution_count": 111,
   "metadata": {},
   "outputs": [
    {
     "name": "stdout",
     "output_type": "stream",
     "text": [
      "(37, 9)\n",
      "\n",
      "--------------------------------------------------------\n",
      "\n",
      "AIGREFEUILLE  BRUGUIERES     FONBEAUZARD         MONS               SAINT ORENS DE GAMEVILLE\n",
      "AUCAMVILLE    CASTELGINEST   GAGNAC SUR GARONNE  MONTRABE           SEILH                   \n",
      "AUSSONNE      COLOMIERS      GRATENTOUR          PIBRAC             TOULOUSE                \n",
      "BALMA         CORNEBARRIEU   L UNION             PIN BALMA          TOURNEFEUILLE           \n",
      "BEAUPUY       CUGNAUX        LAUNAGUET           QUINT FONSEGRIVES  VILLENEUVE TOLOSANE     \n",
      "BEAUZELLE     DREMIL LAFAGE  LESPINASSE          SAINT ALBAN      \n",
      "BLAGNAC       FENOUILLET     MONDONVILLE         SAINT JEAN       \n",
      "BRAX          FLOURENS       MONDOUZIL           SAINT JORY       \n",
      "\n",
      "\n",
      "--------------------------------------------------------\n",
      "\n"
     ]
    },
    {
     "data": {
      "text/html": [
       "<div>\n",
       "<style scoped>\n",
       "    .dataframe tbody tr th:only-of-type {\n",
       "        vertical-align: middle;\n",
       "    }\n",
       "\n",
       "    .dataframe tbody tr th {\n",
       "        vertical-align: top;\n",
       "    }\n",
       "\n",
       "    .dataframe thead th {\n",
       "        text-align: right;\n",
       "    }\n",
       "</style>\n",
       "<table border=\"1\" class=\"dataframe\">\n",
       "  <thead>\n",
       "    <tr style=\"text-align: right;\">\n",
       "      <th></th>\n",
       "      <th>libcom</th>\n",
       "      <th>geometry</th>\n",
       "      <th>geom_swap</th>\n",
       "      <th>geom_swap_geojson</th>\n",
       "    </tr>\n",
       "  </thead>\n",
       "  <tbody>\n",
       "    <tr>\n",
       "      <th>0</th>\n",
       "      <td>TOULOUSE</td>\n",
       "      <td>POLYGON ((1.36648 43.62503, 1.36725 43.62552, 1.36784 43.62...</td>\n",
       "      <td>POLYGON ((43.62503 1.36648, 43.62552 1.36725, 43.62619 1.36...</td>\n",
       "      <td>{'type': 'Polygon', 'coordinates': (((43.62502895130769, 1....</td>\n",
       "    </tr>\n",
       "    <tr>\n",
       "      <th>1</th>\n",
       "      <td>GAGNAC SUR GARONNE</td>\n",
       "      <td>POLYGON ((1.34424 43.72209, 1.34424 43.72209, 1.34424 43.72...</td>\n",
       "      <td>POLYGON ((43.72209 1.34424, 43.72209 1.34424, 43.72209 1.34...</td>\n",
       "      <td>{'type': 'Polygon', 'coordinates': (((43.72209365274882, 1....</td>\n",
       "    </tr>\n",
       "    <tr>\n",
       "      <th>2</th>\n",
       "      <td>FONBEAUZARD</td>\n",
       "      <td>POLYGON ((1.42285 43.67870, 1.42291 43.67870, 1.42301 43.67...</td>\n",
       "      <td>POLYGON ((43.67870 1.42285, 43.67870 1.42291, 43.67875 1.42...</td>\n",
       "      <td>{'type': 'Polygon', 'coordinates': (((43.6786979962066, 1.4...</td>\n",
       "    </tr>\n",
       "    <tr>\n",
       "      <th>3</th>\n",
       "      <td>LESPINASSE</td>\n",
       "      <td>POLYGON ((1.38946 43.72494, 1.39079 43.72314, 1.39103 43.72...</td>\n",
       "      <td>POLYGON ((43.72494 1.38946, 43.72314 1.39079, 43.72270 1.39...</td>\n",
       "      <td>{'type': 'Polygon', 'coordinates': (((43.7249372676293, 1.3...</td>\n",
       "    </tr>\n",
       "    <tr>\n",
       "      <th>4</th>\n",
       "      <td>BEAUZELLE</td>\n",
       "      <td>POLYGON ((1.35080 43.67911, 1.35129 43.67880, 1.35251 43.67...</td>\n",
       "      <td>POLYGON ((43.67911 1.35080, 43.67880 1.35129, 43.67823 1.35...</td>\n",
       "      <td>{'type': 'Polygon', 'coordinates': (((43.679113059442535, 1...</td>\n",
       "    </tr>\n",
       "  </tbody>\n",
       "</table>\n",
       "</div>"
      ],
      "text/plain": [
       "               libcom  \\\n",
       "0            TOULOUSE   \n",
       "1  GAGNAC SUR GARONNE   \n",
       "2         FONBEAUZARD   \n",
       "3          LESPINASSE   \n",
       "4           BEAUZELLE   \n",
       "\n",
       "                                                         geometry  \\\n",
       "0  POLYGON ((1.36648 43.62503, 1.36725 43.62552, 1.36784 43.62...   \n",
       "1  POLYGON ((1.34424 43.72209, 1.34424 43.72209, 1.34424 43.72...   \n",
       "2  POLYGON ((1.42285 43.67870, 1.42291 43.67870, 1.42301 43.67...   \n",
       "3  POLYGON ((1.38946 43.72494, 1.39079 43.72314, 1.39103 43.72...   \n",
       "4  POLYGON ((1.35080 43.67911, 1.35129 43.67880, 1.35251 43.67...   \n",
       "\n",
       "                                                        geom_swap  \\\n",
       "0  POLYGON ((43.62503 1.36648, 43.62552 1.36725, 43.62619 1.36...   \n",
       "1  POLYGON ((43.72209 1.34424, 43.72209 1.34424, 43.72209 1.34...   \n",
       "2  POLYGON ((43.67870 1.42285, 43.67870 1.42291, 43.67875 1.42...   \n",
       "3  POLYGON ((43.72494 1.38946, 43.72314 1.39079, 43.72270 1.39...   \n",
       "4  POLYGON ((43.67911 1.35080, 43.67880 1.35129, 43.67823 1.35...   \n",
       "\n",
       "                                                geom_swap_geojson  \n",
       "0  {'type': 'Polygon', 'coordinates': (((43.62502895130769, 1....  \n",
       "1  {'type': 'Polygon', 'coordinates': (((43.72209365274882, 1....  \n",
       "2  {'type': 'Polygon', 'coordinates': (((43.6786979962066, 1.4...  \n",
       "3  {'type': 'Polygon', 'coordinates': (((43.7249372676293, 1.3...  \n",
       "4  {'type': 'Polygon', 'coordinates': (((43.679113059442535, 1...  "
      ]
     },
     "execution_count": 111,
     "metadata": {},
     "output_type": "execute_result"
    }
   ],
   "source": [
    "input_file_subzones = \"datasets_demo/subzones_Toulouse.geojson\"\n",
    "gdf_subzones = load_and_prepare_districts(filepath = input_file_subzones) \n",
    " \n",
    "print(gdf_subzones.shape)\n",
    "print(\"\\n--------------------------------------------------------\\n\")\n",
    "list_subzones = list(gdf_subzones[\"libcom\"].unique())\n",
    "list_subzones.sort()\n",
    "print(columnize(list_subzones, displaywidth=100))\n",
    "print(\"\\n--------------------------------------------------------\\n\")\n",
    "\n",
    "gdf_subzones[[\"libcom\", \"geometry\", \n",
    "              \"geom_swap\", \"geom_swap_geojson\"]].head()"
   ]
  },
  {
   "cell_type": "markdown",
   "metadata": {},
   "source": [
    "There are 37 subzones that form Toulouse metropolitan territory, here we'll focus on the central subzone: "
   ]
  },
  {
   "cell_type": "code",
   "execution_count": 112,
   "metadata": {},
   "outputs": [
    {
     "data": {
      "text/html": [
       "<div>\n",
       "<style scoped>\n",
       "    .dataframe tbody tr th:only-of-type {\n",
       "        vertical-align: middle;\n",
       "    }\n",
       "\n",
       "    .dataframe tbody tr th {\n",
       "        vertical-align: top;\n",
       "    }\n",
       "\n",
       "    .dataframe thead th {\n",
       "        text-align: right;\n",
       "    }\n",
       "</style>\n",
       "<table border=\"1\" class=\"dataframe\">\n",
       "  <thead>\n",
       "    <tr style=\"text-align: right;\">\n",
       "      <th></th>\n",
       "      <th>cugt</th>\n",
       "      <th>libcom</th>\n",
       "      <th>libelle</th>\n",
       "      <th>code_insee</th>\n",
       "      <th>code_fantoir</th>\n",
       "      <th>geometry</th>\n",
       "      <th>geom_geojson</th>\n",
       "      <th>geom_swap</th>\n",
       "      <th>geom_swap_geojson</th>\n",
       "    </tr>\n",
       "  </thead>\n",
       "  <tbody>\n",
       "    <tr>\n",
       "      <th>0</th>\n",
       "      <td>T</td>\n",
       "      <td>TOULOUSE</td>\n",
       "      <td>Toulouse</td>\n",
       "      <td>31555</td>\n",
       "      <td>310555</td>\n",
       "      <td>POLYGON ((1.36648 43.62503, 1.36725 43.62552, 1.36784 43.62...</td>\n",
       "      <td>{'type': 'Polygon', 'coordinates': (((1.366481542003093, 43...</td>\n",
       "      <td>POLYGON ((43.62503 1.36648, 43.62552 1.36725, 43.62619 1.36...</td>\n",
       "      <td>{'type': 'Polygon', 'coordinates': (((43.62502895130769, 1....</td>\n",
       "    </tr>\n",
       "  </tbody>\n",
       "</table>\n",
       "</div>"
      ],
      "text/plain": [
       "  cugt    libcom   libelle code_insee code_fantoir  \\\n",
       "0    T  TOULOUSE  Toulouse      31555       310555   \n",
       "\n",
       "                                                         geometry  \\\n",
       "0  POLYGON ((1.36648 43.62503, 1.36725 43.62552, 1.36784 43.62...   \n",
       "\n",
       "                                                     geom_geojson  \\\n",
       "0  {'type': 'Polygon', 'coordinates': (((1.366481542003093, 43...   \n",
       "\n",
       "                                                        geom_swap  \\\n",
       "0  POLYGON ((43.62503 1.36648, 43.62552 1.36725, 43.62619 1.36...   \n",
       "\n",
       "                                                geom_swap_geojson  \n",
       "0  {'type': 'Polygon', 'coordinates': (((43.62502895130769, 1....  "
      ]
     },
     "execution_count": 112,
     "metadata": {},
     "output_type": "execute_result"
    }
   ],
   "source": [
    "# we select the main subzone of the city\n",
    "selected_subzone = \"TOULOUSE\"\n",
    "gdf_subzone_sel = gdf_subzones[gdf_subzones[\"libcom\"] == \"TOULOUSE\"]\n",
    "gdf_subzone_sel\n"
   ]
  },
  {
   "cell_type": "markdown",
   "metadata": {},
   "source": [
    "Fill the subzone's geometry with H3 cells (as we've done before with districts, but without compacting this time)"
   ]
  },
  {
   "cell_type": "code",
   "execution_count": 113,
   "metadata": {},
   "outputs": [
    {
     "name": "stdout",
     "output_type": "stream",
     "text": [
      "the subzone was filled with 172 hexagons at resolution 8\n",
      "the subzone was filled with 1194 hexagons at resolution 9\n",
      "the subzone was filled with 8323 hexagons at resolution 10\n"
     ]
    },
    {
     "data": {
      "text/html": [
       "<div>\n",
       "<style scoped>\n",
       "    .dataframe tbody tr th:only-of-type {\n",
       "        vertical-align: middle;\n",
       "    }\n",
       "\n",
       "    .dataframe tbody tr th {\n",
       "        vertical-align: top;\n",
       "    }\n",
       "\n",
       "    .dataframe thead th {\n",
       "        text-align: right;\n",
       "    }\n",
       "</style>\n",
       "<table border=\"1\" class=\"dataframe\">\n",
       "  <thead>\n",
       "    <tr style=\"text-align: right;\">\n",
       "      <th></th>\n",
       "      <th>hex_id</th>\n",
       "      <th>value</th>\n",
       "      <th>geometry</th>\n",
       "    </tr>\n",
       "  </thead>\n",
       "  <tbody>\n",
       "    <tr>\n",
       "      <th>0</th>\n",
       "      <td>8839601acbfffff</td>\n",
       "      <td>0</td>\n",
       "      <td>{'type': 'Polygon', 'coordinates': [((1.456265967818373, 43...</td>\n",
       "    </tr>\n",
       "    <tr>\n",
       "      <th>1</th>\n",
       "      <td>88396018e9fffff</td>\n",
       "      <td>0</td>\n",
       "      <td>{'type': 'Polygon', 'coordinates': [((1.4597660508709986, 4...</td>\n",
       "    </tr>\n",
       "    <tr>\n",
       "      <th>2</th>\n",
       "      <td>883960185dfffff</td>\n",
       "      <td>0</td>\n",
       "      <td>{'type': 'Polygon', 'coordinates': [((1.4176288721212273, 4...</td>\n",
       "    </tr>\n",
       "    <tr>\n",
       "      <th>3</th>\n",
       "      <td>8839601a35fffff</td>\n",
       "      <td>0</td>\n",
       "      <td>{'type': 'Polygon', 'coordinates': [((1.4035708293751048, 4...</td>\n",
       "    </tr>\n",
       "    <tr>\n",
       "      <th>4</th>\n",
       "      <td>8839601a15fffff</td>\n",
       "      <td>0</td>\n",
       "      <td>{'type': 'Polygon', 'coordinates': [((1.4141012828920243, 4...</td>\n",
       "    </tr>\n",
       "  </tbody>\n",
       "</table>\n",
       "</div>"
      ],
      "text/plain": [
       "            hex_id  value  \\\n",
       "0  8839601acbfffff      0   \n",
       "1  88396018e9fffff      0   \n",
       "2  883960185dfffff      0   \n",
       "3  8839601a35fffff      0   \n",
       "4  8839601a15fffff      0   \n",
       "\n",
       "                                                         geometry  \n",
       "0  {'type': 'Polygon', 'coordinates': [((1.456265967818373, 43...  \n",
       "1  {'type': 'Polygon', 'coordinates': [((1.4597660508709986, 4...  \n",
       "2  {'type': 'Polygon', 'coordinates': [((1.4176288721212273, 4...  \n",
       "3  {'type': 'Polygon', 'coordinates': [((1.4035708293751048, 4...  \n",
       "4  {'type': 'Polygon', 'coordinates': [((1.4141012828920243, 4...  "
      ]
     },
     "execution_count": 113,
     "metadata": {},
     "output_type": "execute_result"
    }
   ],
   "source": [
    "geom_to_fill = gdf_subzone_sel.iloc[0][\"geom_swap_geojson\"]\n",
    "\n",
    "dict_fillings = {}\n",
    "msg_ = \"the subzone was filled with {} hexagons at resolution {}\"\n",
    "\n",
    "for res in [8, 9, 10]:\n",
    "    # lat/lon in geometry_swap_geojson -> flag_reverse_geojson = False\n",
    "    df_fill_hex = fill_hexagons(geom_geojson = geom_to_fill,\n",
    "                                res = res,\n",
    "                                flag_return_df = True)\n",
    "    print(msg_.format(df_fill_hex.shape[0], res))\n",
    "\n",
    "    # add entry in dict_fillings\n",
    "    dict_fillings[res] = df_fill_hex\n",
    "\n",
    "# --------------------------\n",
    "dict_fillings[8].head()"
   ]
  },
  {
   "cell_type": "markdown",
   "metadata": {},
   "source": [
    "**Merge (by left outer join) two H3 spatially indexed datasets at the same H3 index resolution**"
   ]
  },
  {
   "cell_type": "code",
   "execution_count": 114,
   "metadata": {},
   "outputs": [
    {
     "data": {
      "text/html": [
       "<div>\n",
       "<style scoped>\n",
       "    .dataframe tbody tr th:only-of-type {\n",
       "        vertical-align: middle;\n",
       "    }\n",
       "\n",
       "    .dataframe tbody tr th {\n",
       "        vertical-align: top;\n",
       "    }\n",
       "\n",
       "    .dataframe thead th {\n",
       "        text-align: right;\n",
       "    }\n",
       "</style>\n",
       "<table border=\"1\" class=\"dataframe\">\n",
       "  <thead>\n",
       "    <tr style=\"text-align: right;\">\n",
       "      <th></th>\n",
       "      <th>hex_id</th>\n",
       "      <th>geometry</th>\n",
       "      <th>value</th>\n",
       "    </tr>\n",
       "  </thead>\n",
       "  <tbody>\n",
       "    <tr>\n",
       "      <th>12</th>\n",
       "      <td>883960181bfffff</td>\n",
       "      <td>{'type': 'Polygon', 'coordinates': [((1.4527478813977899, 4...</td>\n",
       "      <td>10.00000</td>\n",
       "    </tr>\n",
       "    <tr>\n",
       "      <th>101</th>\n",
       "      <td>8839601ac5fffff</td>\n",
       "      <td>{'type': 'Polygon', 'coordinates': [((1.442211698802212, 43...</td>\n",
       "      <td>9.00000</td>\n",
       "    </tr>\n",
       "    <tr>\n",
       "      <th>107</th>\n",
       "      <td>88396018ddfffff</td>\n",
       "      <td>{'type': 'Polygon', 'coordinates': [((1.491357587988625, 43...</td>\n",
       "      <td>9.00000</td>\n",
       "    </tr>\n",
       "    <tr>\n",
       "      <th>65</th>\n",
       "      <td>8839601ab1fffff</td>\n",
       "      <td>{'type': 'Polygon', 'coordinates': [((1.4843474923966924, 4...</td>\n",
       "      <td>9.00000</td>\n",
       "    </tr>\n",
       "    <tr>\n",
       "      <th>92</th>\n",
       "      <td>883960185bfffff</td>\n",
       "      <td>{'type': 'Polygon', 'coordinates': [((1.4351897352424738, 4...</td>\n",
       "      <td>9.00000</td>\n",
       "    </tr>\n",
       "  </tbody>\n",
       "</table>\n",
       "</div>"
      ],
      "text/plain": [
       "              hex_id  \\\n",
       "12   883960181bfffff   \n",
       "101  8839601ac5fffff   \n",
       "107  88396018ddfffff   \n",
       "65   8839601ab1fffff   \n",
       "92   883960185bfffff   \n",
       "\n",
       "                                                           geometry    value  \n",
       "12   {'type': 'Polygon', 'coordinates': [((1.4527478813977899, 4... 10.00000  \n",
       "101  {'type': 'Polygon', 'coordinates': [((1.442211698802212, 43...  9.00000  \n",
       "107  {'type': 'Polygon', 'coordinates': [((1.491357587988625, 43...  9.00000  \n",
       "65   {'type': 'Polygon', 'coordinates': [((1.4843474923966924, 4...  9.00000  \n",
       "92   {'type': 'Polygon', 'coordinates': [((1.4351897352424738, 4...  9.00000  "
      ]
     },
     "execution_count": 114,
     "metadata": {},
     "output_type": "execute_result"
    }
   ],
   "source": [
    "dict_filled_aggreg = {}\n",
    "\n",
    "for res in dict_fillings:\n",
    "    col_hex_id = \"hex_id_{}\".format(res)\n",
    "    df_outer = pd.merge(left = dict_fillings[res][[\"hex_id\", \"geometry\"]],\n",
    "                        right = dict_aggreg_hex[res][[col_hex_id, \"value\"]],\n",
    "                        left_on = \"hex_id\",\n",
    "                        right_on = col_hex_id,\n",
    "                        how = \"left\")\n",
    "    df_outer.drop(columns = [col_hex_id], inplace = True)\n",
    "    df_outer[\"value\"].fillna(value = 0, inplace = True)\n",
    "\n",
    "    # add entry to dict\n",
    "    dict_filled_aggreg[res] = df_outer\n",
    "\n",
    "# -----------------------------\n",
    "dict_filled_aggreg[8].sort_values(by=\"value\", ascending=False).head()"
   ]
  },
  {
   "cell_type": "markdown",
   "metadata": {},
   "source": [
    "<b>Visualize on map</b>"
   ]
  },
  {
   "cell_type": "code",
   "execution_count": null,
   "metadata": {},
   "outputs": [],
   "source": [
    "res_to_plot = 9\n",
    "m_filled_aggreg = choropleth_map(df_aggreg = dict_filled_aggreg[res_to_plot],\n",
    "                                 hex_id_field = \"hex_id\",\n",
    "                                 value_field = \"value\",\n",
    "                                 geometry_field = \"geometry\",\n",
    "                                 initial_map=None,\n",
    "                                 layer_name = \"Polyfill aggreg\",\n",
    "                                 with_legend = True,\n",
    "                                 kind = \"filled_nulls\")\n",
    "\n",
    "m_filled_aggreg"
   ]
  },
  {
   "cell_type": "code",
   "execution_count": 116,
   "metadata": {},
   "outputs": [
    {
     "data": {
      : [
       "<Figure size 1440x1008 with 2 Axes>"
      ]
     },
     "metadata": {
      "needs_background": "light"
     },
     "output_type": "display_data"
    }
   ],
   "source": [
    "fig, ax = plt.subplots(1, 2, figsize=(20, 14))\n",
    "\n",
    "im1 = pilim.open('images/filled_aggreg_merged_res8.png', 'r')\n",
    "ax[0].imshow(np.asarray(im1))\n",
    "ax[0].set_title(\"Polyfill resolution 8\")\n",
    "im1 = pilim.open('images/filled_aggreg_merged_res9.png', 'r')\n",
    "ax[1].imshow(np.asarray(im1))\n",
    "ax[1].set_title(\"Polyfill resolution 9\")\n",
    "\n",
    "ax[0].set_axis_off()\n",
    "ax[1].set_axis_off()\n",
    "fig.tight_layout()\n"
   ]
  },
  {
   "cell_type": "code",
   "execution_count": 117,
   "metadata": {},
   "outputs": [
    {
     "data": {
      